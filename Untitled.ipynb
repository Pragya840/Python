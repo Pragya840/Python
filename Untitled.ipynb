{
 "cells": [
  {
   "cell_type": "code",
   "execution_count": 1,
   "metadata": {},
   "outputs": [
    {
     "name": "stdout",
     "output_type": "stream",
     "text": [
      "hello\n"
     ]
    }
   ],
   "source": [
    "print('hello')"
   ]
  },
  {
   "cell_type": "code",
   "execution_count": 2,
   "metadata": {},
   "outputs": [
    {
     "name": "stdout",
     "output_type": "stream",
     "text": [
      "5\n",
      "5.5\n",
      "pragya\n"
     ]
    }
   ],
   "source": [
    "a = 5\n",
    "b = 5.5\n",
    "c ='pragya'\n",
    "print(a)\n",
    "print(b)\n",
    "print(c)\n"
   ]
  },
  {
   "cell_type": "code",
   "execution_count": 3,
   "metadata": {},
   "outputs": [
    {
     "name": "stdout",
     "output_type": "stream",
     "text": [
      "5\n"
     ]
    }
   ],
   "source": [
    "type(a)\n",
    "a = 5\n",
    "print(a)"
   ]
  },
  {
   "cell_type": "code",
   "execution_count": 4,
   "metadata": {},
   "outputs": [
    {
     "data": {
      "text/plain": [
       "10.5"
      ]
     },
     "execution_count": 4,
     "metadata": {},
     "output_type": "execute_result"
    }
   ],
   "source": [
    "a + b"
   ]
  },
  {
   "cell_type": "code",
   "execution_count": 5,
   "metadata": {},
   "outputs": [
    {
     "data": {
      "text/plain": [
       "-0.5"
      ]
     },
     "execution_count": 5,
     "metadata": {},
     "output_type": "execute_result"
    }
   ],
   "source": [
    "a - b"
   ]
  },
  {
   "cell_type": "code",
   "execution_count": 6,
   "metadata": {},
   "outputs": [
    {
     "data": {
      "text/plain": [
       "27.5"
      ]
     },
     "execution_count": 6,
     "metadata": {},
     "output_type": "execute_result"
    }
   ],
   "source": [
    "a * b"
   ]
  },
  {
   "cell_type": "code",
   "execution_count": 7,
   "metadata": {},
   "outputs": [
    {
     "data": {
      "text/plain": [
       "0.9090909090909091"
      ]
     },
     "execution_count": 7,
     "metadata": {},
     "output_type": "execute_result"
    }
   ],
   "source": [
    "a / b"
   ]
  },
  {
   "cell_type": "code",
   "execution_count": 9,
   "metadata": {},
   "outputs": [
    {
     "data": {
      "text/plain": [
       "'e'"
      ]
     },
     "execution_count": 9,
     "metadata": {},
     "output_type": "execute_result"
    }
   ],
   "source": [
    "a = 'Hello'\n",
    "a[0]\n",
    "a[1]"
   ]
  },
  {
   "cell_type": "code",
   "execution_count": 13,
   "metadata": {},
   "outputs": [
    {
     "name": "stdout",
     "output_type": "stream",
     "text": [
      "5\n"
     ]
    }
   ],
   "source": [
    "a = 5 \n",
    "d = str(a)\n",
    "print(d)"
   ]
  },
  {
   "cell_type": "code",
   "execution_count": 14,
   "metadata": {},
   "outputs": [
    {
     "ename": "ValueError",
     "evalue": "invalid literal for int() with base 10: 'pragya'",
     "output_type": "error",
     "traceback": [
      "\u001b[1;31m---------------------------------------------------------------------------\u001b[0m",
      "\u001b[1;31mValueError\u001b[0m                                Traceback (most recent call last)",
      "\u001b[1;32m<ipython-input-14-f77f8f433b3c>\u001b[0m in \u001b[0;36m<module>\u001b[1;34m\u001b[0m\n\u001b[1;32m----> 1\u001b[1;33m \u001b[0me\u001b[0m \u001b[1;33m=\u001b[0m \u001b[0mint\u001b[0m\u001b[1;33m(\u001b[0m\u001b[0mc\u001b[0m\u001b[1;33m)\u001b[0m\u001b[1;33m\u001b[0m\u001b[1;33m\u001b[0m\u001b[0m\n\u001b[0m\u001b[0;32m      2\u001b[0m \u001b[0mprint\u001b[0m\u001b[1;33m(\u001b[0m\u001b[0me\u001b[0m\u001b[1;33m)\u001b[0m\u001b[1;33m\u001b[0m\u001b[1;33m\u001b[0m\u001b[0m\n",
      "\u001b[1;31mValueError\u001b[0m: invalid literal for int() with base 10: 'pragya'"
     ]
    }
   ],
   "source": [
    "e = int(c)\n",
    "print(e)"
   ]
  },
  {
   "cell_type": "code",
   "execution_count": 15,
   "metadata": {},
   "outputs": [
    {
     "data": {
      "text/plain": [
       "'Hel'"
      ]
     },
     "execution_count": 15,
     "metadata": {},
     "output_type": "execute_result"
    }
   ],
   "source": [
    "a = 'Hello'\n",
    "a[:3]"
   ]
  },
  {
   "cell_type": "code",
   "execution_count": 16,
   "metadata": {},
   "outputs": [
    {
     "data": {
      "text/plain": [
       "'Hello'"
      ]
     },
     "execution_count": 16,
     "metadata": {},
     "output_type": "execute_result"
    }
   ],
   "source": [
    "a[:5]"
   ]
  },
  {
   "cell_type": "code",
   "execution_count": 17,
   "metadata": {},
   "outputs": [
    {
     "data": {
      "text/plain": [
       "'Hell'"
      ]
     },
     "execution_count": 17,
     "metadata": {},
     "output_type": "execute_result"
    }
   ],
   "source": [
    "a[:4]"
   ]
  },
  {
   "cell_type": "code",
   "execution_count": 18,
   "metadata": {},
   "outputs": [
    {
     "data": {
      "text/plain": [
       "'lo'"
      ]
     },
     "execution_count": 18,
     "metadata": {},
     "output_type": "execute_result"
    }
   ],
   "source": [
    "a[3:]"
   ]
  },
  {
   "cell_type": "code",
   "execution_count": 19,
   "metadata": {},
   "outputs": [
    {
     "data": {
      "text/plain": [
       "'Hel'"
      ]
     },
     "execution_count": 19,
     "metadata": {},
     "output_type": "execute_result"
    }
   ],
   "source": [
    "a[:3:]"
   ]
  },
  {
   "cell_type": "code",
   "execution_count": 20,
   "metadata": {},
   "outputs": [
    {
     "data": {
      "text/plain": [
       "''"
      ]
     },
     "execution_count": 20,
     "metadata": {},
     "output_type": "execute_result"
    }
   ],
   "source": [
    "a[5: :2]"
   ]
  },
  {
   "cell_type": "code",
   "execution_count": 21,
   "metadata": {},
   "outputs": [
    {
     "data": {
      "text/plain": [
       "'llo'"
      ]
     },
     "execution_count": 21,
     "metadata": {},
     "output_type": "execute_result"
    }
   ],
   "source": [
    "a[2:5]"
   ]
  },
  {
   "cell_type": "code",
   "execution_count": 22,
   "metadata": {},
   "outputs": [
    {
     "data": {
      "text/plain": [
       "'ll'"
      ]
     },
     "execution_count": 22,
     "metadata": {},
     "output_type": "execute_result"
    }
   ],
   "source": [
    "a[2:4]"
   ]
  },
  {
   "cell_type": "code",
   "execution_count": 23,
   "metadata": {},
   "outputs": [
    {
     "data": {
      "text/plain": [
       "5"
      ]
     },
     "execution_count": 23,
     "metadata": {},
     "output_type": "execute_result"
    }
   ],
   "source": [
    "len(a)"
   ]
  },
  {
   "cell_type": "code",
   "execution_count": 25,
   "metadata": {},
   "outputs": [
    {
     "data": {
      "text/plain": [
       "'pragya'"
      ]
     },
     "execution_count": 25,
     "metadata": {},
     "output_type": "execute_result"
    }
   ],
   "source": [
    "e = 'pragya'\n",
    "e"
   ]
  },
  {
   "cell_type": "code",
   "execution_count": 27,
   "metadata": {},
   "outputs": [
    {
     "ename": "NameError",
     "evalue": "name 'lower' is not defined",
     "output_type": "error",
     "traceback": [
      "\u001b[1;31m---------------------------------------------------------------------------\u001b[0m",
      "\u001b[1;31mNameError\u001b[0m                                 Traceback (most recent call last)",
      "\u001b[1;32m<ipython-input-27-60f46d95b6c0>\u001b[0m in \u001b[0;36m<module>\u001b[1;34m\u001b[0m\n\u001b[1;32m----> 1\u001b[1;33m \u001b[0mlower\u001b[0m\u001b[1;33m(\u001b[0m\u001b[0me\u001b[0m\u001b[1;33m)\u001b[0m\u001b[1;33m\u001b[0m\u001b[1;33m\u001b[0m\u001b[0m\n\u001b[0m",
      "\u001b[1;31mNameError\u001b[0m: name 'lower' is not defined"
     ]
    }
   ],
   "source": [
    "lower(e)    "
   ]
  },
  {
   "cell_type": "code",
   "execution_count": 28,
   "metadata": {},
   "outputs": [
    {
     "data": {
      "text/plain": [
       "<function str.lower()>"
      ]
     },
     "execution_count": 28,
     "metadata": {},
     "output_type": "execute_result"
    }
   ],
   "source": [
    "e.lower"
   ]
  },
  {
   "cell_type": "code",
   "execution_count": 29,
   "metadata": {},
   "outputs": [
    {
     "data": {
      "text/plain": [
       "'pragya'"
      ]
     },
     "execution_count": 29,
     "metadata": {},
     "output_type": "execute_result"
    }
   ],
   "source": [
    "e.lower()"
   ]
  },
  {
   "cell_type": "code",
   "execution_count": 33,
   "metadata": {},
   "outputs": [
    {
     "data": {
      "text/plain": [
       "'thakur'"
      ]
     },
     "execution_count": 33,
     "metadata": {},
     "output_type": "execute_result"
    }
   ],
   "source": [
    "f =' thakur '\n",
    "f.strip()"
   ]
  },
  {
   "cell_type": "code",
   "execution_count": 35,
   "metadata": {},
   "outputs": [
    {
     "data": {
      "text/plain": [
       "'gragya'"
      ]
     },
     "execution_count": 35,
     "metadata": {},
     "output_type": "execute_result"
    }
   ],
   "source": [
    "e.replace('p','g')"
   ]
  },
  {
   "cell_type": "code",
   "execution_count": 36,
   "metadata": {},
   "outputs": [
    {
     "data": {
      "text/plain": [
       "'HeHHo'"
      ]
     },
     "execution_count": 36,
     "metadata": {},
     "output_type": "execute_result"
    }
   ],
   "source": [
    "a.replace('l','H')"
   ]
  },
  {
   "cell_type": "code",
   "execution_count": 37,
   "metadata": {},
   "outputs": [
    {
     "data": {
      "text/plain": [
       "'Helho'"
      ]
     },
     "execution_count": 37,
     "metadata": {},
     "output_type": "execute_result"
    }
   ],
   "source": [
    "a.replace('ll','lh')"
   ]
  },
  {
   "cell_type": "code",
   "execution_count": 39,
   "metadata": {},
   "outputs": [
    {
     "data": {
      "text/plain": [
       "'22'"
      ]
     },
     "execution_count": 39,
     "metadata": {},
     "output_type": "execute_result"
    }
   ],
   "source": [
    "a = '2'\n",
    "b = '2'\n",
    "a + b"
   ]
  },
  {
   "cell_type": "code",
   "execution_count": 45,
   "metadata": {},
   "outputs": [
    {
     "data": {
      "text/plain": [
       "'My age is18'"
      ]
     },
     "execution_count": 45,
     "metadata": {},
     "output_type": "execute_result"
    }
   ],
   "source": [
    "a = '18'\n",
    "b = 'My age is'\n",
    "b + a"
   ]
  },
  {
   "cell_type": "code",
   "execution_count": 49,
   "metadata": {},
   "outputs": [
    {
     "name": "stdout",
     "output_type": "stream",
     "text": [
      "My age is18\n"
     ]
    }
   ],
   "source": [
    "print(\"My age is\" + a)"
   ]
  },
  {
   "cell_type": "code",
   "execution_count": 47,
   "metadata": {},
   "outputs": [
    {
     "name": "stdout",
     "output_type": "stream",
     "text": [
      "My age is 18\n"
     ]
    }
   ],
   "source": [
    "print(b , a)"
   ]
  },
  {
   "cell_type": "code",
   "execution_count": 53,
   "metadata": {},
   "outputs": [
    {
     "data": {
      "text/plain": [
       "[1, 2, 3, 4, 5]"
      ]
     },
     "execution_count": 53,
     "metadata": {},
     "output_type": "execute_result"
    }
   ],
   "source": [
    "l = [1,2,3,4,5]\n",
    "l"
   ]
  },
  {
   "cell_type": "code",
   "execution_count": 55,
   "metadata": {},
   "outputs": [
    {
     "data": {
      "text/plain": [
       "(1, 2, 3, 4)"
      ]
     },
     "execution_count": 55,
     "metadata": {},
     "output_type": "execute_result"
    }
   ],
   "source": [
    "l = (1,2,3,4)\n",
    "l"
   ]
  },
  {
   "cell_type": "code",
   "execution_count": 58,
   "metadata": {},
   "outputs": [
    {
     "data": {
      "text/plain": [
       "(6, 7, 8, 9, 10)"
      ]
     },
     "execution_count": 58,
     "metadata": {},
     "output_type": "execute_result"
    }
   ],
   "source": [
    "m = (6,7,8,9,10)\n",
    "m"
   ]
  },
  {
   "cell_type": "code",
   "execution_count": 60,
   "metadata": {},
   "outputs": [
    {
     "data": {
      "text/plain": [
       "1"
      ]
     },
     "execution_count": 60,
     "metadata": {},
     "output_type": "execute_result"
    }
   ],
   "source": [
    "l = [1,2,3,4]\n",
    "l[0]\n"
   ]
  },
  {
   "cell_type": "code",
   "execution_count": 61,
   "metadata": {},
   "outputs": [
    {
     "data": {
      "text/plain": [
       "7"
      ]
     },
     "execution_count": 61,
     "metadata": {},
     "output_type": "execute_result"
    }
   ],
   "source": [
    "m[1]"
   ]
  },
  {
   "cell_type": "code",
   "execution_count": 67,
   "metadata": {},
   "outputs": [
    {
     "data": {
      "text/plain": [
       "3"
      ]
     },
     "execution_count": 67,
     "metadata": {},
     "output_type": "execute_result"
    }
   ],
   "source": [
    "l[2]"
   ]
  },
  {
   "cell_type": "code",
   "execution_count": 68,
   "metadata": {},
   "outputs": [
    {
     "ename": "TypeError",
     "evalue": "'list' object is not callable",
     "output_type": "error",
     "traceback": [
      "\u001b[1;31m---------------------------------------------------------------------------\u001b[0m",
      "\u001b[1;31mTypeError\u001b[0m                                 Traceback (most recent call last)",
      "\u001b[1;32m<ipython-input-68-17cbb4c5a444>\u001b[0m in \u001b[0;36m<module>\u001b[1;34m\u001b[0m\n\u001b[1;32m----> 1\u001b[1;33m \u001b[0ml\u001b[0m\u001b[1;33m(\u001b[0m\u001b[1;36m2\u001b[0m\u001b[1;33m)\u001b[0m\u001b[1;33m\u001b[0m\u001b[1;33m\u001b[0m\u001b[0m\n\u001b[0m",
      "\u001b[1;31mTypeError\u001b[0m: 'list' object is not callable"
     ]
    }
   ],
   "source": [
    "l(2)"
   ]
  },
  {
   "cell_type": "code",
   "execution_count": 77,
   "metadata": {},
   "outputs": [
    {
     "data": {
      "text/plain": [
       "[1, 2, 3, 4, 7, 7, 7, 7]"
      ]
     },
     "execution_count": 77,
     "metadata": {},
     "output_type": "execute_result"
    }
   ],
   "source": [
    "\n",
    "l.append(7)\n",
    "l"
   ]
  },
  {
   "cell_type": "code",
   "execution_count": 76,
   "metadata": {},
   "outputs": [
    {
     "data": {
      "text/plain": [
       "[1, 2, 3, 4, 5]"
      ]
     },
     "execution_count": 76,
     "metadata": {},
     "output_type": "execute_result"
    }
   ],
   "source": [
    "n = [1,2,3,4]\n",
    "n.append(5)\n",
    "n"
   ]
  },
  {
   "cell_type": "code",
   "execution_count": 79,
   "metadata": {},
   "outputs": [
    {
     "ename": "AttributeError",
     "evalue": "'tuple' object has no attribute 'append'",
     "output_type": "error",
     "traceback": [
      "\u001b[1;31m---------------------------------------------------------------------------\u001b[0m",
      "\u001b[1;31mAttributeError\u001b[0m                            Traceback (most recent call last)",
      "\u001b[1;32m<ipython-input-79-ac9b540986ea>\u001b[0m in \u001b[0;36m<module>\u001b[1;34m\u001b[0m\n\u001b[0;32m      1\u001b[0m \u001b[0mo\u001b[0m \u001b[1;33m=\u001b[0m \u001b[1;33m(\u001b[0m\u001b[1;36m5\u001b[0m\u001b[1;33m,\u001b[0m\u001b[1;36m6\u001b[0m\u001b[1;33m,\u001b[0m\u001b[1;36m7\u001b[0m\u001b[1;33m)\u001b[0m\u001b[1;33m\u001b[0m\u001b[1;33m\u001b[0m\u001b[0m\n\u001b[1;32m----> 2\u001b[1;33m \u001b[0mo\u001b[0m\u001b[1;33m.\u001b[0m\u001b[0mappend\u001b[0m\u001b[1;33m(\u001b[0m\u001b[1;36m0\u001b[0m\u001b[1;33m)\u001b[0m\u001b[1;33m\u001b[0m\u001b[1;33m\u001b[0m\u001b[0m\n\u001b[0m\u001b[0;32m      3\u001b[0m \u001b[0mo\u001b[0m\u001b[1;33m\u001b[0m\u001b[1;33m\u001b[0m\u001b[0m\n",
      "\u001b[1;31mAttributeError\u001b[0m: 'tuple' object has no attribute 'append'"
     ]
    }
   ],
   "source": [
    "o = (5,6,7)\n",
    "o.append(0)\n",
    "o"
   ]
  },
  {
   "cell_type": "code",
   "execution_count": 83,
   "metadata": {},
   "outputs": [
    {
     "data": {
      "text/plain": [
       "5"
      ]
     },
     "execution_count": 83,
     "metadata": {},
     "output_type": "execute_result"
    }
   ],
   "source": [
    "len(n)\n"
   ]
  },
  {
   "cell_type": "code",
   "execution_count": 86,
   "metadata": {},
   "outputs": [
    {
     "data": {
      "text/plain": [
       "3"
      ]
     },
     "execution_count": 86,
     "metadata": {},
     "output_type": "execute_result"
    }
   ],
   "source": [
    "n.pop(2)"
   ]
  },
  {
   "cell_type": "code",
   "execution_count": 87,
   "metadata": {},
   "outputs": [
    {
     "data": {
      "text/plain": [
       "[1, 2, 4, 5]"
      ]
     },
     "execution_count": 87,
     "metadata": {},
     "output_type": "execute_result"
    }
   ],
   "source": [
    "n"
   ]
  },
  {
   "cell_type": "code",
   "execution_count": 91,
   "metadata": {},
   "outputs": [
    {
     "data": {
      "text/plain": [
       "[1, 2, 5, 4, 5]"
      ]
     },
     "execution_count": 91,
     "metadata": {},
     "output_type": "execute_result"
    }
   ],
   "source": [
    "n.insert(2,5)\n",
    "n"
   ]
  },
  {
   "cell_type": "code",
   "execution_count": 93,
   "metadata": {},
   "outputs": [
    {
     "data": {
      "text/plain": [
       "[1, 2, 4]"
      ]
     },
     "execution_count": 93,
     "metadata": {},
     "output_type": "execute_result"
    }
   ],
   "source": [
    "n.remove(5)\n",
    "n"
   ]
  },
  {
   "cell_type": "code",
   "execution_count": 114,
   "metadata": {},
   "outputs": [
    {
     "ename": "NameError",
     "evalue": "name 'n' is not defined",
     "output_type": "error",
     "traceback": [
      "\u001b[1;31m---------------------------------------------------------------------------\u001b[0m",
      "\u001b[1;31mNameError\u001b[0m                                 Traceback (most recent call last)",
      "\u001b[1;32m<ipython-input-114-a3634aa722c6>\u001b[0m in \u001b[0;36m<module>\u001b[1;34m\u001b[0m\n\u001b[1;32m----> 1\u001b[1;33m \u001b[1;32mdel\u001b[0m\u001b[1;33m(\u001b[0m\u001b[0mn\u001b[0m\u001b[1;33m)\u001b[0m\u001b[1;33m\u001b[0m\u001b[1;33m\u001b[0m\u001b[0m\n\u001b[0m\u001b[0;32m      2\u001b[0m \u001b[1;33m\u001b[0m\u001b[0m\n",
      "\u001b[1;31mNameError\u001b[0m: name 'n' is not defined"
     ]
    }
   ],
   "source": [
    "del(n)\n",
    "\n"
   ]
  },
  {
   "cell_type": "code",
   "execution_count": 100,
   "metadata": {},
   "outputs": [
    {
     "data": {
      "text/plain": [
       "[1, 2, 3, 4]"
      ]
     },
     "execution_count": 100,
     "metadata": {},
     "output_type": "execute_result"
    }
   ],
   "source": [
    "p = [1,2,3,4]\n",
    "p"
   ]
  },
  {
   "cell_type": "code",
   "execution_count": 102,
   "metadata": {},
   "outputs": [
    {
     "data": {
      "text/plain": [
       "[1, 2, 3, 4]"
      ]
     },
     "execution_count": 102,
     "metadata": {},
     "output_type": "execute_result"
    }
   ],
   "source": [
    "r=p.copy()\n",
    "r"
   ]
  },
  {
   "cell_type": "code",
   "execution_count": 109,
   "metadata": {},
   "outputs": [
    {
     "data": {
      "text/plain": [
       "[1, 2, 3, 4]"
      ]
     },
     "execution_count": 109,
     "metadata": {},
     "output_type": "execute_result"
    }
   ],
   "source": [
    "p.sort()\n",
    "p"
   ]
  },
  {
   "cell_type": "code",
   "execution_count": 113,
   "metadata": {},
   "outputs": [
    {
     "data": {
      "text/plain": [
       "['my', 'name', 'is']"
      ]
     },
     "execution_count": 113,
     "metadata": {},
     "output_type": "execute_result"
    }
   ],
   "source": [
    "s = 'my name is'\n",
    "s.split()\n"
   ]
  },
  {
   "cell_type": "code",
   "execution_count": 115,
   "metadata": {},
   "outputs": [],
   "source": [
    "del(s)"
   ]
  },
  {
   "cell_type": "code",
   "execution_count": 116,
   "metadata": {},
   "outputs": [
    {
     "ename": "NameError",
     "evalue": "name 's' is not defined",
     "output_type": "error",
     "traceback": [
      "\u001b[1;31m---------------------------------------------------------------------------\u001b[0m",
      "\u001b[1;31mNameError\u001b[0m                                 Traceback (most recent call last)",
      "\u001b[1;32m<ipython-input-116-ded5ba42480f>\u001b[0m in \u001b[0;36m<module>\u001b[1;34m\u001b[0m\n\u001b[1;32m----> 1\u001b[1;33m \u001b[0ms\u001b[0m\u001b[1;33m\u001b[0m\u001b[1;33m\u001b[0m\u001b[0m\n\u001b[0m",
      "\u001b[1;31mNameError\u001b[0m: name 's' is not defined"
     ]
    }
   ],
   "source": [
    "s"
   ]
  },
  {
   "cell_type": "code",
   "execution_count": 125,
   "metadata": {},
   "outputs": [
    {
     "data": {
      "text/plain": [
       "{'a': 'name', 'b': 'web'}"
      ]
     },
     "execution_count": 125,
     "metadata": {},
     "output_type": "execute_result"
    }
   ],
   "source": [
    "z={'a':'name',\n",
    "'b':'web' }\n",
    "z\n",
    "\n"
   ]
  },
  {
   "cell_type": "code",
   "execution_count": 128,
   "metadata": {},
   "outputs": [
    {
     "data": {
      "text/plain": [
       "'name'"
      ]
     },
     "execution_count": 128,
     "metadata": {},
     "output_type": "execute_result"
    }
   ],
   "source": [
    "z['a']"
   ]
  },
  {
   "cell_type": "code",
   "execution_count": 134,
   "metadata": {},
   "outputs": [
    {
     "ename": "AttributeError",
     "evalue": "'dict' object has no attribute 'replace'",
     "output_type": "error",
     "traceback": [
      "\u001b[1;31m---------------------------------------------------------------------------\u001b[0m",
      "\u001b[1;31mAttributeError\u001b[0m                            Traceback (most recent call last)",
      "\u001b[1;32m<ipython-input-134-49cf521d4a8b>\u001b[0m in \u001b[0;36m<module>\u001b[1;34m\u001b[0m\n\u001b[1;32m----> 1\u001b[1;33m \u001b[0mz\u001b[0m\u001b[1;33m.\u001b[0m\u001b[0mreplace\u001b[0m\u001b[1;33m(\u001b[0m\u001b[1;34m'a'\u001b[0m\u001b[1;33m,\u001b[0m\u001b[1;34m'c'\u001b[0m\u001b[1;33m)\u001b[0m\u001b[1;33m\u001b[0m\u001b[1;33m\u001b[0m\u001b[0m\n\u001b[0m",
      "\u001b[1;31mAttributeError\u001b[0m: 'dict' object has no attribute 'replace'"
     ]
    }
   ],
   "source": [
    "z.replace('a','c')\n"
   ]
  },
  {
   "cell_type": "code",
   "execution_count": 138,
   "metadata": {},
   "outputs": [
    {
     "data": {
      "text/plain": [
       "2"
      ]
     },
     "execution_count": 138,
     "metadata": {},
     "output_type": "execute_result"
    }
   ],
   "source": [
    "len(z)"
   ]
  },
  {
   "cell_type": "code",
   "execution_count": 144,
   "metadata": {},
   "outputs": [
    {
     "data": {
      "text/plain": [
       "'name'"
      ]
     },
     "execution_count": 144,
     "metadata": {},
     "output_type": "execute_result"
    }
   ],
   "source": [
    "z.pop('a')"
   ]
  },
  {
   "cell_type": "code",
   "execution_count": 146,
   "metadata": {},
   "outputs": [
    {
     "data": {
      "text/plain": [
       "('b', 'web')"
      ]
     },
     "execution_count": 146,
     "metadata": {},
     "output_type": "execute_result"
    }
   ],
   "source": [
    "z.popitem()"
   ]
  },
  {
   "cell_type": "code",
   "execution_count": 151,
   "metadata": {},
   "outputs": [
    {
     "data": {
      "text/plain": [
       "{'a': 'name', 'b': 'web'}"
      ]
     },
     "execution_count": 151,
     "metadata": {},
     "output_type": "execute_result"
    }
   ],
   "source": [
    "\n",
    "z={'a':'name',\n",
    "'b':'web' }\n",
    "z\n",
    "\n"
   ]
  },
  {
   "cell_type": "code",
   "execution_count": 153,
   "metadata": {},
   "outputs": [
    {
     "data": {
      "text/plain": [
       "{'a': 'name', 'b': 'web'}"
      ]
     },
     "execution_count": 153,
     "metadata": {},
     "output_type": "execute_result"
    }
   ],
   "source": [
    "k=z.copy()\n",
    "k"
   ]
  },
  {
   "cell_type": "code",
   "execution_count": 156,
   "metadata": {},
   "outputs": [
    {
     "data": {
      "text/plain": [
       "{'a': 'name', 'b': 'name'}"
      ]
     },
     "execution_count": 156,
     "metadata": {},
     "output_type": "execute_result"
    }
   ],
   "source": [
    "z={'a':'name',\n",
    "'b':'name' }\n",
    "z\n",
    "\n"
   ]
  },
  {
   "cell_type": "markdown",
   "metadata": {},
   "source": [
    "z={'a':'name',\n",
    "'b':'name' }\n",
    "z\n",
    "\n"
   ]
  },
  {
   "cell_type": "code",
   "execution_count": 157,
   "metadata": {},
   "outputs": [],
   "source": [
    "import webbrowser as wb"
   ]
  },
  {
   "cell_type": "code",
   "execution_count": 158,
   "metadata": {},
   "outputs": [
    {
     "data": {
      "text/plain": [
       "True"
      ]
     },
     "execution_count": 158,
     "metadata": {},
     "output_type": "execute_result"
    }
   ],
   "source": [
    "wb.open_new_tab('www.google.com')"
   ]
  },
  {
   "cell_type": "code",
   "execution_count": 2,
   "metadata": {},
   "outputs": [
    {
     "name": "stdout",
     "output_type": "stream",
     "text": [
      "jaipur\n"
     ]
    },
    {
     "data": {
      "text/plain": [
       "True"
      ]
     },
     "execution_count": 2,
     "metadata": {},
     "output_type": "execute_result"
    }
   ],
   "source": [
    "import webbrowser as wb\n",
    "a=input('jaipur')\n",
    "wb.open_new_tab('http://www.google.com/search?q=%s''%a')\n"
   ]
  },
  {
   "cell_type": "code",
   "execution_count": 4,
   "metadata": {},
   "outputs": [],
   "source": [
    "import webbrowser as wb"
   ]
  },
  {
   "cell_type": "code",
   "execution_count": 5,
   "metadata": {},
   "outputs": [
    {
     "data": {
      "text/plain": [
       "True"
      ]
     },
     "execution_count": 5,
     "metadata": {},
     "output_type": "execute_result"
    }
   ],
   "source": [
    "wb.open_new_tab('www.google.com')"
   ]
  },
  {
   "cell_type": "code",
   "execution_count": 17,
   "metadata": {},
   "outputs": [
    {
     "name": "stdout",
     "output_type": "stream",
     "text": [
      "true\n"
     ]
    }
   ],
   "source": [
    "a = 5\n",
    "b = 4\n",
    "if (a>b):\n",
    "  print('true')\n",
    "else:\n",
    "    print('false')"
   ]
  },
  {
   "cell_type": "code",
   "execution_count": 18,
   "metadata": {},
   "outputs": [
    {
     "name": "stdout",
     "output_type": "stream",
     "text": [
      "false\n"
     ]
    }
   ],
   "source": [
    "if(a<=b):\n",
    "    print('true')\n",
    "else:\n",
    "    print('false')"
   ]
  },
  {
   "cell_type": "code",
   "execution_count": 21,
   "metadata": {},
   "outputs": [
    {
     "name": "stdout",
     "output_type": "stream",
     "text": [
      "false\n"
     ]
    }
   ],
   "source": [
    "if(a==b):\n",
    "   print('true')\n",
    "else:\n",
    "    print('false')"
   ]
  },
  {
   "cell_type": "code",
   "execution_count": 22,
   "metadata": {
    "scrolled": true
   },
   "outputs": [
    {
     "name": "stdout",
     "output_type": "stream",
     "text": [
      "true\n"
     ]
    }
   ],
   "source": [
    "if(a>=b):\n",
    "    print('true')\n",
    "else:\n",
    "    print('false')"
   ]
  },
  {
   "cell_type": "code",
   "execution_count": 23,
   "metadata": {},
   "outputs": [
    {
     "name": "stdout",
     "output_type": "stream",
     "text": [
      "false\n"
     ]
    }
   ],
   "source": [
    "if(a<b):\n",
    "    print('true')\n",
    "else:\n",
    "    print('false')"
   ]
  },
  {
   "cell_type": "code",
   "execution_count": 24,
   "metadata": {},
   "outputs": [
    {
     "name": "stdout",
     "output_type": "stream",
     "text": [
      "true\n"
     ]
    }
   ],
   "source": [
    "if(a!=b):\n",
    "    print('true')\n",
    "else:\n",
    "    print('false')"
   ]
  },
  {
   "cell_type": "code",
   "execution_count": 27,
   "metadata": {},
   "outputs": [
    {
     "name": "stdout",
     "output_type": "stream",
     "text": [
      "false\n"
     ]
    }
   ],
   "source": [
    "c = 3\n",
    "d = 4\n",
    "e = 5\n",
    "if(c>d & d>e):\n",
    "    if(c<e):\n",
    "        print('true')\n",
    "else:\n",
    "    print('false')\n",
    "    "
   ]
  },
  {
   "cell_type": "code",
   "execution_count": 28,
   "metadata": {},
   "outputs": [
    {
     "name": "stdout",
     "output_type": "stream",
     "text": [
      "yes\n"
     ]
    }
   ],
   "source": [
    "c = 3\n",
    "d = 4\n",
    "e = 5\n",
    "if(c>d & d>e):\n",
    "    if(c<e):\n",
    "        print('true')\n",
    "elif(d!=e):\n",
    "    print('yes')\n",
    "else:\n",
    "    print('false')\n",
    "    "
   ]
  },
  {
   "cell_type": "code",
   "execution_count": 5,
   "metadata": {},
   "outputs": [
    {
     "name": "stdout",
     "output_type": "stream",
     "text": [
      "true\n",
      "true\n",
      "true\n",
      "true\n"
     ]
    }
   ],
   "source": [
    "x = 2\n",
    "y = 6\n",
    "while(x<y):\n",
    "    print('true')\n",
    "    x+=1;\n",
    "    \n",
    "    "
   ]
  },
  {
   "cell_type": "code",
   "execution_count": 1,
   "metadata": {},
   "outputs": [
    {
     "name": "stdout",
     "output_type": "stream",
     "text": [
      "true\n"
     ]
    }
   ],
   "source": [
    "x = 2\n",
    "y = 6\n",
    "while(x<y):\n",
    "    print('true')\n",
    "    x+=1;\n",
    "    break;"
   ]
  },
  {
   "cell_type": "code",
   "execution_count": 2,
   "metadata": {},
   "outputs": [
    {
     "name": "stdout",
     "output_type": "stream",
     "text": [
      "true\n",
      "true\n",
      "true\n",
      "true\n",
      "true\n"
     ]
    }
   ],
   "source": [
    "a = 5\n",
    "b = 10\n",
    "while(a<b):\n",
    "    print('true')\n",
    "    a+=1\n",
    "    continue;"
   ]
  },
  {
   "cell_type": "code",
   "execution_count": 3,
   "metadata": {},
   "outputs": [
    {
     "name": "stdout",
     "output_type": "stream",
     "text": [
      "1\n",
      "2\n",
      "3\n",
      "4\n",
      "5\n"
     ]
    }
   ],
   "source": [
    "n=[1,2,3,4,5]\n",
    "for i in n:\n",
    "    print(i)"
   ]
  },
  {
   "cell_type": "code",
   "execution_count": 31,
   "metadata": {},
   "outputs": [
    {
     "name": "stdout",
     "output_type": "stream",
     "text": [
      "p\n",
      "r\n",
      "a\n",
      "g\n",
      "y\n",
      "a\n"
     ]
    }
   ],
   "source": [
    "k=['pragya','lalita','ruchika']\n",
    "for i in k[0]:\n",
    "    \n",
    "    print(i)"
   ]
  },
  {
   "cell_type": "code",
   "execution_count": 40,
   "metadata": {},
   "outputs": [
    {
     "name": "stdout",
     "output_type": "stream",
     "text": [
      "p\n",
      "r\n",
      "a\n",
      "g\n",
      "y\n",
      "a\n",
      "l\n",
      "a\n",
      "l\n",
      "i\n",
      "t\n",
      "a\n",
      "r\n",
      "u\n",
      "c\n",
      "h\n",
      "i\n",
      "k\n",
      "a\n"
     ]
    }
   ],
   "source": [
    "k=['pragya','lalita','ruchika']\n",
    "for i in k:\n",
    "    for j in i:\n",
    "        print(j)"
   ]
  },
  {
   "cell_type": "code",
   "execution_count": 73,
   "metadata": {},
   "outputs": [
    {
     "name": "stdout",
     "output_type": "stream",
     "text": [
      "false\n",
      "false\n",
      "false\n",
      "no\n",
      "true\n"
     ]
    }
   ],
   "source": [
    "l=[1,2,3,4,5]\n",
    "for i in l:\n",
    "    if(i==5):\n",
    "        print('true')    \n",
    "    elif(i!=4):\n",
    "        print('false')\n",
    "    else:\n",
    "        print('no')\n",
    "        \n",
    "    \n"
   ]
  },
  {
   "cell_type": "code",
   "execution_count": 72,
   "metadata": {},
   "outputs": [
    {
     "name": "stdout",
     "output_type": "stream",
     "text": [
      "false\n",
      "false\n",
      "false\n",
      "no\n",
      "true\n"
     ]
    }
   ],
   "source": [
    "l=[1,2,3,4,5]\n",
    "for i in l:\n",
    "    if(i==5):\n",
    "        print('true')    \n",
    "    elif(i!=4):\n",
    "        print('false')\n",
    "    else:\n",
    "        print('no')\n",
    "        i+=1;\n",
    "        "
   ]
  },
  {
   "cell_type": "code",
   "execution_count": 71,
   "metadata": {},
   "outputs": [
    {
     "name": "stdout",
     "output_type": "stream",
     "text": [
      "false\n",
      "false\n",
      "false\n",
      "no\n",
      "true\n"
     ]
    }
   ],
   "source": [
    "l=[1,2,3,4,5]\n",
    "for i in l:\n",
    "    if(i==5):\n",
    "        print('true')    \n",
    "    elif(i!=4):\n",
    "        print('false')\n",
    "    else:\n",
    "        print('no')\n",
    "        i+=1;\n",
    "        continue;"
   ]
  },
  {
   "cell_type": "code",
   "execution_count": 70,
   "metadata": {},
   "outputs": [
    {
     "name": "stdout",
     "output_type": "stream",
     "text": [
      "false\n",
      "false\n",
      "false\n",
      "no\n"
     ]
    }
   ],
   "source": [
    "l=[1,2,3,4,5]\n",
    "for i in l:\n",
    "    if(i==5):\n",
    "        print('true')    \n",
    "    elif(i!=4):\n",
    "        print('false')\n",
    "    else:\n",
    "        print('no')\n",
    "        i+=1;\n",
    "        break;"
   ]
  },
  {
   "cell_type": "code",
   "execution_count": 69,
   "metadata": {},
   "outputs": [
    {
     "name": "stdout",
     "output_type": "stream",
     "text": [
      "false\n"
     ]
    }
   ],
   "source": [
    "l=[1,2,3,4,5]\n",
    "for i in l:\n",
    "    if(i==5):\n",
    "        print('true')    \n",
    "    elif(i!=4):\n",
    "        print('false')\n",
    "        break;\n",
    "    else:\n",
    "        print('no')\n",
    "        i+=1;\n",
    "        continue;"
   ]
  },
  {
   "cell_type": "code",
   "execution_count": 68,
   "metadata": {},
   "outputs": [
    {
     "name": "stdout",
     "output_type": "stream",
     "text": [
      "false\n",
      "false\n",
      "false\n",
      "no\n"
     ]
    }
   ],
   "source": [
    "l=[1,2,3,4,5]\n",
    "for i in l:\n",
    "    if(i==5):\n",
    "        print('true')    \n",
    "    elif(i!=4):\n",
    "        print('false')\n",
    "        continue;\n",
    "    else:\n",
    "        print('no')\n",
    "        i+=1;\n",
    "        break;"
   ]
  },
  {
   "cell_type": "code",
   "execution_count": 67,
   "metadata": {},
   "outputs": [
    {
     "name": "stdout",
     "output_type": "stream",
     "text": [
      "false\n",
      "false\n",
      "false\n",
      "no\n"
     ]
    }
   ],
   "source": [
    "l=[1,2,3,4,5]\n",
    "for i in l:\n",
    "    if(i>5):\n",
    "        print('true')    \n",
    "    elif(i<4):\n",
    "        print('false')\n",
    "        continue;\n",
    "    else:\n",
    "        print('no')\n",
    "        i+=1;\n",
    "        break;"
   ]
  },
  {
   "cell_type": "code",
   "execution_count": 80,
   "metadata": {},
   "outputs": [
    {
     "name": "stdout",
     "output_type": "stream",
     "text": [
      "happy\n",
      "happy\n",
      "true\n"
     ]
    }
   ],
   "source": [
    "k=['pragya','lalita','ruchika']\n",
    "for i in k:\n",
    "    if(i>'pragya'):\n",
    "        print('true')\n",
    "    else:\n",
    "        print('happy')\n",
    "        "
   ]
  },
  {
   "cell_type": "code",
   "execution_count": 81,
   "metadata": {},
   "outputs": [
    {
     "name": "stdout",
     "output_type": "stream",
     "text": [
      "true\n",
      "false\n",
      "false\n"
     ]
    }
   ],
   "source": [
    "k=['pragya','lalita','ruchika']\n",
    "for i in k:\n",
    "    if(i=='pragya'):\n",
    "        print('true')\n",
    "    else:\n",
    "        print('false')"
   ]
  },
  {
   "cell_type": "code",
   "execution_count": 82,
   "metadata": {},
   "outputs": [
    {
     "name": "stdout",
     "output_type": "stream",
     "text": [
      "false\n",
      "false\n",
      "true\n"
     ]
    }
   ],
   "source": [
    "k=['pragya','lalita','ruchika']\n",
    "for i in k:\n",
    "    if(i>'pragya'):\n",
    "        print('true')\n",
    "    else:\n",
    "        print('false')"
   ]
  },
  {
   "cell_type": "code",
   "execution_count": 83,
   "metadata": {},
   "outputs": [
    {
     "name": "stdout",
     "output_type": "stream",
     "text": [
      "bye\n"
     ]
    }
   ],
   "source": [
    "if(1>1):\n",
    "    print('hi')\n",
    "else:\n",
    "    print('bye')"
   ]
  },
  {
   "cell_type": "code",
   "execution_count": 84,
   "metadata": {},
   "outputs": [
    {
     "name": "stdout",
     "output_type": "stream",
     "text": [
      "helloworld\n"
     ]
    }
   ],
   "source": [
    "def pragya():\n",
    "    print ('helloworld')\n",
    "pragya()    \n",
    "    "
   ]
  },
  {
   "cell_type": "code",
   "execution_count": 86,
   "metadata": {},
   "outputs": [
    {
     "name": "stdout",
     "output_type": "stream",
     "text": [
      "false\n",
      "false\n",
      "true\n"
     ]
    }
   ],
   "source": [
    "def pragya():\n",
    "    k=['pragya','lalita','ruchika']\n",
    "for i in k:\n",
    "    if(i>'pragya'):\n",
    "        print('true')\n",
    "    else:\n",
    "         print('false')\n",
    "pragya()"
   ]
  },
  {
   "cell_type": "code",
   "execution_count": 96,
   "metadata": {},
   "outputs": [
    {
     "name": "stdout",
     "output_type": "stream",
     "text": [
      "hello world happy\n"
     ]
    }
   ],
   "source": [
    "def pragya(a):\n",
    "    print ('hello world',a)\n",
    "pragya('happy')\n",
    "    "
   ]
  },
  {
   "cell_type": "code",
   "execution_count": 97,
   "metadata": {},
   "outputs": [
    {
     "name": "stdout",
     "output_type": "stream",
     "text": [
      "hello world happybirthday\n"
     ]
    }
   ],
   "source": [
    "def pragya(a):\n",
    "    print ('hello world',a)\n",
    "pragya('happy''birthday')\n",
    "    "
   ]
  },
  {
   "cell_type": "code",
   "execution_count": 98,
   "metadata": {},
   "outputs": [
    {
     "name": "stdout",
     "output_type": "stream",
     "text": [
      "hello world [1, 2, 3, 4]\n"
     ]
    }
   ],
   "source": [
    "x=[1,2,3,4]\n",
    "def happy(a):\n",
    "    print ('hello world',x)\n",
    "happy('x')"
   ]
  },
  {
   "cell_type": "code",
   "execution_count": 110,
   "metadata": {},
   "outputs": [
    {
     "name": "stdout",
     "output_type": "stream",
     "text": [
      "1\n",
      "2\n",
      "3\n",
      "4\n"
     ]
    }
   ],
   "source": [
    "x=[1,2,3,4]\n",
    "def happy(a):\n",
    "    for i in a:\n",
    "         print (i)\n",
    "happy(x)"
   ]
  },
  {
   "cell_type": "code",
   "execution_count": 112,
   "metadata": {},
   "outputs": [
    {
     "name": "stdout",
     "output_type": "stream",
     "text": [
      "[1, 2, 3, 4]\n"
     ]
    }
   ],
   "source": [
    "x=[1,2,3,4]\n",
    "def happy(a):\n",
    "    for i in a:\n",
    "         print (x)\n",
    "happy('x')"
   ]
  },
  {
   "cell_type": "code",
   "execution_count": 113,
   "metadata": {},
   "outputs": [
    {
     "name": "stdout",
     "output_type": "stream",
     "text": [
      "x\n"
     ]
    }
   ],
   "source": [
    "x=[1,2,3,4]\n",
    "def happy(a):\n",
    "    for i in a:\n",
    "         print (a)\n",
    "happy('x')"
   ]
  },
  {
   "cell_type": "code",
   "execution_count": 114,
   "metadata": {},
   "outputs": [
    {
     "name": "stdout",
     "output_type": "stream",
     "text": [
      "[1, 2, 3, 4]\n",
      "[1, 2, 3, 4]\n",
      "[1, 2, 3, 4]\n",
      "[1, 2, 3, 4]\n"
     ]
    }
   ],
   "source": [
    "x=[1,2,3,4]\n",
    "def happy(a):\n",
    "    for i in a:\n",
    "         print (x)\n",
    "happy(x)"
   ]
  },
  {
   "cell_type": "code",
   "execution_count": 117,
   "metadata": {},
   "outputs": [
    {
     "data": {
      "text/plain": [
       "[1, 2, 3, 4]"
      ]
     },
     "execution_count": 117,
     "metadata": {},
     "output_type": "execute_result"
    }
   ],
   "source": [
    "x=[1,2,3,4]\n",
    "def happy(a):\n",
    "    return (x)\n",
    "happy(x)"
   ]
  },
  {
   "cell_type": "code",
   "execution_count": 123,
   "metadata": {},
   "outputs": [
    {
     "name": "stdout",
     "output_type": "stream",
     "text": [
      "10\n",
      "12\n",
      "14\n",
      "16\n",
      "18\n"
     ]
    }
   ],
   "source": [
    "def pragya():\n",
    "    for i in range(10,20,2):\n",
    "        print(i)\n",
    "pragya()\n",
    "    "
   ]
  },
  {
   "cell_type": "code",
   "execution_count": 124,
   "metadata": {},
   "outputs": [
    {
     "name": "stdout",
     "output_type": "stream",
     "text": [
      "0\n",
      "1\n"
     ]
    }
   ],
   "source": [
    "def pragya():\n",
    "    for i in range(2):\n",
    "        print(i)\n",
    "pragya()\n",
    "    "
   ]
  },
  {
   "cell_type": "code",
   "execution_count": 125,
   "metadata": {},
   "outputs": [
    {
     "name": "stdout",
     "output_type": "stream",
     "text": [
      "10\n",
      "14\n",
      "18\n"
     ]
    }
   ],
   "source": [
    "def pragya():\n",
    "    for i in range(10,20,4):\n",
    "        print(i)\n",
    "pragya()\n",
    "    "
   ]
  },
  {
   "cell_type": "code",
   "execution_count": 130,
   "metadata": {},
   "outputs": [
    {
     "name": "stdout",
     "output_type": "stream",
     "text": [
      "10\n",
      "11\n",
      "12\n",
      "13\n",
      "14\n",
      "15\n",
      "16\n",
      "17\n",
      "18\n",
      "19\n"
     ]
    }
   ],
   "source": [
    "def pragya():\n",
    "    for i in range(10,20):\n",
    "        print(i)\n",
    "pragya()\n",
    "    "
   ]
  },
  {
   "cell_type": "code",
   "execution_count": 131,
   "metadata": {},
   "outputs": [
    {
     "name": "stdout",
     "output_type": "stream",
     "text": [
      "5\n",
      "10\n",
      "15\n",
      "20\n",
      "25\n",
      "30\n",
      "35\n",
      "40\n",
      "45\n",
      "50\n"
     ]
    }
   ],
   "source": [
    "def pragya():\n",
    "    for i in range(5,51,5):\n",
    "        print(i)\n",
    "pragya()\n",
    "    "
   ]
  },
  {
   "cell_type": "code",
   "execution_count": 132,
   "metadata": {},
   "outputs": [
    {
     "name": "stdout",
     "output_type": "stream",
     "text": [
      "5\n",
      "30\n"
     ]
    }
   ],
   "source": [
    "def pragya():\n",
    "    for i in range(5,51,5*5):\n",
    "        print(i)\n",
    "pragya()\n",
    "    "
   ]
  },
  {
   "cell_type": "code",
   "execution_count": 136,
   "metadata": {},
   "outputs": [
    {
     "data": {
      "text/plain": [
       "(5, 51, 5)"
      ]
     },
     "execution_count": 136,
     "metadata": {},
     "output_type": "execute_result"
    }
   ],
   "source": [
    "def pragya():\n",
    "    for i in range(5,51,5):\n",
    "        return(5,51,5)\n",
    "        print(i)\n",
    "pragya()\n",
    "    "
   ]
  },
  {
   "cell_type": "code",
   "execution_count": 137,
   "metadata": {},
   "outputs": [
    {
     "data": {
      "text/plain": [
       "(5, 51, 5)"
      ]
     },
     "execution_count": 137,
     "metadata": {},
     "output_type": "execute_result"
    }
   ],
   "source": [
    "def pragya():\n",
    "    for i in range(5,51*5):\n",
    "        return(5,51,5)\n",
    "        print(i)\n",
    "pragya()\n",
    "    "
   ]
  },
  {
   "cell_type": "code",
   "execution_count": 145,
   "metadata": {},
   "outputs": [
    {
     "ename": "ModuleNotFoundError",
     "evalue": "No module named 'xyz'",
     "output_type": "error",
     "traceback": [
      "\u001b[1;31m---------------------------------------------------------------------------\u001b[0m",
      "\u001b[1;31mModuleNotFoundError\u001b[0m                       Traceback (most recent call last)",
      "\u001b[1;32m<ipython-input-145-a41d87eee064>\u001b[0m in \u001b[0;36m<module>\u001b[1;34m\u001b[0m\n\u001b[1;32m----> 1\u001b[1;33m \u001b[1;32mimport\u001b[0m \u001b[0mxyz\u001b[0m\u001b[1;33m\u001b[0m\u001b[1;33m\u001b[0m\u001b[0m\n\u001b[0m\u001b[0;32m      2\u001b[0m \u001b[0mxyz\u001b[0m\u001b[1;33m.\u001b[0m\u001b[0mpy\u001b[0m\u001b[1;33m(\u001b[0m\u001b[1;33m)\u001b[0m\u001b[1;33m\u001b[0m\u001b[1;33m\u001b[0m\u001b[0m\n",
      "\u001b[1;31mModuleNotFoundError\u001b[0m: No module named 'xyz'"
     ]
    }
   ],
   "source": [
    "import xyz\n",
    "xyz.py()\n"
   ]
  },
  {
   "cell_type": "code",
   "execution_count": 149,
   "metadata": {},
   "outputs": [
    {
     "ename": "ModuleNotFoundError",
     "evalue": "No module named 'xy'",
     "output_type": "error",
     "traceback": [
      "\u001b[1;31m---------------------------------------------------------------------------\u001b[0m",
      "\u001b[1;31mModuleNotFoundError\u001b[0m                       Traceback (most recent call last)",
      "\u001b[1;32m<ipython-input-149-bc103d16db95>\u001b[0m in \u001b[0;36m<module>\u001b[1;34m\u001b[0m\n\u001b[1;32m----> 1\u001b[1;33m \u001b[1;32mimport\u001b[0m \u001b[0mxy\u001b[0m\u001b[1;33m.\u001b[0m\u001b[0mpy\u001b[0m\u001b[1;33m\u001b[0m\u001b[1;33m\u001b[0m\u001b[0m\n\u001b[0m",
      "\u001b[1;31mModuleNotFoundError\u001b[0m: No module named 'xy'"
     ]
    }
   ],
   "source": [
    "import xy.py"
   ]
  },
  {
   "cell_type": "code",
   "execution_count": 150,
   "metadata": {},
   "outputs": [
    {
     "ename": "ModuleNotFoundError",
     "evalue": "No module named 'xy'",
     "output_type": "error",
     "traceback": [
      "\u001b[1;31m---------------------------------------------------------------------------\u001b[0m",
      "\u001b[1;31mModuleNotFoundError\u001b[0m                       Traceback (most recent call last)",
      "\u001b[1;32m<ipython-input-150-ab0083539503>\u001b[0m in \u001b[0;36m<module>\u001b[1;34m\u001b[0m\n\u001b[1;32m----> 1\u001b[1;33m \u001b[1;32mimport\u001b[0m \u001b[0mxy\u001b[0m\u001b[1;33m\u001b[0m\u001b[1;33m\u001b[0m\u001b[0m\n\u001b[0m\u001b[0;32m      2\u001b[0m \u001b[0mxy\u001b[0m\u001b[1;33m.\u001b[0m\u001b[0mdream\u001b[0m\u001b[1;33m(\u001b[0m\u001b[1;33m)\u001b[0m\u001b[1;33m\u001b[0m\u001b[1;33m\u001b[0m\u001b[0m\n",
      "\u001b[1;31mModuleNotFoundError\u001b[0m: No module named 'xy'"
     ]
    }
   ],
   "source": [
    "import xy\n",
    "xy.dream()"
   ]
  },
  {
   "cell_type": "code",
   "execution_count": 152,
   "metadata": {},
   "outputs": [
    {
     "ename": "ModuleNotFoundError",
     "evalue": "No module named 'xy'",
     "output_type": "error",
     "traceback": [
      "\u001b[1;31m---------------------------------------------------------------------------\u001b[0m",
      "\u001b[1;31mModuleNotFoundError\u001b[0m                       Traceback (most recent call last)",
      "\u001b[1;32m<ipython-input-152-ab0083539503>\u001b[0m in \u001b[0;36m<module>\u001b[1;34m\u001b[0m\n\u001b[1;32m----> 1\u001b[1;33m \u001b[1;32mimport\u001b[0m \u001b[0mxy\u001b[0m\u001b[1;33m\u001b[0m\u001b[1;33m\u001b[0m\u001b[0m\n\u001b[0m\u001b[0;32m      2\u001b[0m \u001b[0mxy\u001b[0m\u001b[1;33m.\u001b[0m\u001b[0mdream\u001b[0m\u001b[1;33m(\u001b[0m\u001b[1;33m)\u001b[0m\u001b[1;33m\u001b[0m\u001b[1;33m\u001b[0m\u001b[0m\n",
      "\u001b[1;31mModuleNotFoundError\u001b[0m: No module named 'xy'"
     ]
    }
   ],
   "source": [
    "import xy\n",
    "xy.dream()"
   ]
  },
  {
   "cell_type": "code",
   "execution_count": 157,
   "metadata": {},
   "outputs": [],
   "source": [
    "import datetime as dt"
   ]
  },
  {
   "cell_type": "code",
   "execution_count": 159,
   "metadata": {},
   "outputs": [
    {
     "data": {
      "text/plain": [
       "datetime.datetime(2019, 6, 27, 15, 58, 40, 314976)"
      ]
     },
     "execution_count": 159,
     "metadata": {},
     "output_type": "execute_result"
    }
   ],
   "source": [
    "dt.datetime.now()\n"
   ]
  },
  {
   "cell_type": "code",
   "execution_count": 161,
   "metadata": {},
   "outputs": [
    {
     "data": {
      "text/plain": [
       "2019"
      ]
     },
     "execution_count": 161,
     "metadata": {},
     "output_type": "execute_result"
    }
   ],
   "source": [
    "import datetime as dt\n",
    "x=dt.datetime.now()\n",
    "x.year"
   ]
  },
  {
   "cell_type": "code",
   "execution_count": 165,
   "metadata": {},
   "outputs": [
    {
     "data": {
      "text/plain": [
       "'Thu Jun 27 16:03:15 2019'"
      ]
     },
     "execution_count": 165,
     "metadata": {},
     "output_type": "execute_result"
    }
   ],
   "source": [
    "import time \n",
    "time.ctime()"
   ]
  },
  {
   "cell_type": "code",
   "execution_count": 166,
   "metadata": {},
   "outputs": [
    {
     "ename": "ModuleNotFoundError",
     "evalue": "No module named 'xy'",
     "output_type": "error",
     "traceback": [
      "\u001b[1;31m---------------------------------------------------------------------------\u001b[0m",
      "\u001b[1;31mModuleNotFoundError\u001b[0m                       Traceback (most recent call last)",
      "\u001b[1;32m<ipython-input-166-ab0083539503>\u001b[0m in \u001b[0;36m<module>\u001b[1;34m\u001b[0m\n\u001b[1;32m----> 1\u001b[1;33m \u001b[1;32mimport\u001b[0m \u001b[0mxy\u001b[0m\u001b[1;33m\u001b[0m\u001b[1;33m\u001b[0m\u001b[0m\n\u001b[0m\u001b[0;32m      2\u001b[0m \u001b[0mxy\u001b[0m\u001b[1;33m.\u001b[0m\u001b[0mdream\u001b[0m\u001b[1;33m(\u001b[0m\u001b[1;33m)\u001b[0m\u001b[1;33m\u001b[0m\u001b[1;33m\u001b[0m\u001b[0m\n",
      "\u001b[1;31mModuleNotFoundError\u001b[0m: No module named 'xy'"
     ]
    }
   ],
   "source": [
    "import xy\n",
    "xy.dream()"
   ]
  },
  {
   "cell_type": "code",
   "execution_count": 167,
   "metadata": {},
   "outputs": [
    {
     "ename": "ModuleNotFoundError",
     "evalue": "No module named 'nn'",
     "output_type": "error",
     "traceback": [
      "\u001b[1;31m---------------------------------------------------------------------------\u001b[0m",
      "\u001b[1;31mModuleNotFoundError\u001b[0m                       Traceback (most recent call last)",
      "\u001b[1;32m<ipython-input-167-15be071695a2>\u001b[0m in \u001b[0;36m<module>\u001b[1;34m\u001b[0m\n\u001b[1;32m----> 1\u001b[1;33m \u001b[1;32mimport\u001b[0m \u001b[0mnn\u001b[0m\u001b[1;33m\u001b[0m\u001b[1;33m\u001b[0m\u001b[0m\n\u001b[0m",
      "\u001b[1;31mModuleNotFoundError\u001b[0m: No module named 'nn'"
     ]
    }
   ],
   "source": [
    "import nn\n"
   ]
  },
  {
   "cell_type": "code",
   "execution_count": 169,
   "metadata": {},
   "outputs": [
    {
     "ename": "IndentationError",
     "evalue": "unexpected indent (<ipython-input-169-77edf15cd802>, line 2)",
     "output_type": "error",
     "traceback": [
      "\u001b[1;36m  File \u001b[1;32m\"<ipython-input-169-77edf15cd802>\"\u001b[1;36m, line \u001b[1;32m2\u001b[0m\n\u001b[1;33m    nn.rr()\u001b[0m\n\u001b[1;37m    ^\u001b[0m\n\u001b[1;31mIndentationError\u001b[0m\u001b[1;31m:\u001b[0m unexpected indent\n"
     ]
    }
   ],
   "source": [
    " import nn\n",
    "       nn.rr()"
   ]
  },
  {
   "cell_type": "code",
   "execution_count": 175,
   "metadata": {},
   "outputs": [
    {
     "ename": "ModuleNotFoundError",
     "evalue": "No module named 'nn'",
     "output_type": "error",
     "traceback": [
      "\u001b[1;31m---------------------------------------------------------------------------\u001b[0m",
      "\u001b[1;31mModuleNotFoundError\u001b[0m                       Traceback (most recent call last)",
      "\u001b[1;32m<ipython-input-175-15be071695a2>\u001b[0m in \u001b[0;36m<module>\u001b[1;34m\u001b[0m\n\u001b[1;32m----> 1\u001b[1;33m \u001b[1;32mimport\u001b[0m \u001b[0mnn\u001b[0m\u001b[1;33m\u001b[0m\u001b[1;33m\u001b[0m\u001b[0m\n\u001b[0m",
      "\u001b[1;31mModuleNotFoundError\u001b[0m: No module named 'nn'"
     ]
    }
   ],
   "source": [
    "import nn"
   ]
  },
  {
   "cell_type": "code",
   "execution_count": null,
   "metadata": {},
   "outputs": [],
   "source": [
    "import nn"
   ]
  },
  {
   "cell_type": "code",
   "execution_count": 177,
   "metadata": {},
   "outputs": [
    {
     "ename": "NameError",
     "evalue": "name 'nn' is not defined",
     "output_type": "error",
     "traceback": [
      "\u001b[1;31m---------------------------------------------------------------------------\u001b[0m",
      "\u001b[1;31mNameError\u001b[0m                                 Traceback (most recent call last)",
      "\u001b[1;32m<ipython-input-177-b38b0b03f41c>\u001b[0m in \u001b[0;36m<module>\u001b[1;34m\u001b[0m\n\u001b[1;32m----> 1\u001b[1;33m \u001b[0mnn\u001b[0m\u001b[1;33m.\u001b[0m\u001b[0mrr\u001b[0m\u001b[1;33m(\u001b[0m\u001b[1;33m)\u001b[0m\u001b[1;33m\u001b[0m\u001b[1;33m\u001b[0m\u001b[0m\n\u001b[0m",
      "\u001b[1;31mNameError\u001b[0m: name 'nn' is not defined"
     ]
    }
   ],
   "source": [
    "nn.rr()"
   ]
  },
  {
   "cell_type": "code",
   "execution_count": 178,
   "metadata": {},
   "outputs": [
    {
     "ename": "ModuleNotFoundError",
     "evalue": "No module named 'nn'",
     "output_type": "error",
     "traceback": [
      "\u001b[1;31m---------------------------------------------------------------------------\u001b[0m",
      "\u001b[1;31mModuleNotFoundError\u001b[0m                       Traceback (most recent call last)",
      "\u001b[1;32m<ipython-input-178-15be071695a2>\u001b[0m in \u001b[0;36m<module>\u001b[1;34m\u001b[0m\n\u001b[1;32m----> 1\u001b[1;33m \u001b[1;32mimport\u001b[0m \u001b[0mnn\u001b[0m\u001b[1;33m\u001b[0m\u001b[1;33m\u001b[0m\u001b[0m\n\u001b[0m",
      "\u001b[1;31mModuleNotFoundError\u001b[0m: No module named 'nn'"
     ]
    }
   ],
   "source": [
    "import nn"
   ]
  },
  {
   "cell_type": "code",
   "execution_count": 182,
   "metadata": {},
   "outputs": [
    {
     "name": "stdout",
     "output_type": "stream",
     "text": [
      "pragya\n"
     ]
    }
   ],
   "source": [
    "import pgi\n",
    "pgi.name()"
   ]
  },
  {
   "cell_type": "code",
   "execution_count": 2,
   "metadata": {},
   "outputs": [
    {
     "name": "stdout",
     "output_type": "stream",
     "text": [
      "done\n",
      "complete\n"
     ]
    }
   ],
   "source": [
    "try:\n",
    "    print('done')\n",
    "except:\n",
    "     print('yes')\n",
    "finally:\n",
    "     print('complete')"
   ]
  },
  {
   "cell_type": "code",
   "execution_count": 7,
   "metadata": {},
   "outputs": [
    {
     "name": "stdout",
     "output_type": "stream",
     "text": [
      "yes\n",
      "complete\n"
     ]
    }
   ],
   "source": [
    "try:\n",
    "    if (0/0):\n",
    "        print('done')\n",
    "except:\n",
    "     print('yes')\n",
    "finally:\n",
    "     print('complete')"
   ]
  },
  {
   "cell_type": "code",
   "execution_count": 8,
   "metadata": {},
   "outputs": [
    {
     "name": "stdout",
     "output_type": "stream",
     "text": [
      "done\n",
      "complete\n"
     ]
    }
   ],
   "source": [
    "try:\n",
    "      print('done')\n",
    "except:\n",
    "    if (0/0):\n",
    "        print('yes')\n",
    "finally:\n",
    "     print('complete')"
   ]
  },
  {
   "cell_type": "code",
   "execution_count": 9,
   "metadata": {},
   "outputs": [],
   "source": [
    "import os"
   ]
  },
  {
   "cell_type": "code",
   "execution_count": 10,
   "metadata": {},
   "outputs": [
    {
     "data": {
      "text/plain": [
       "0"
      ]
     },
     "execution_count": 10,
     "metadata": {},
     "output_type": "execute_result"
    }
   ],
   "source": [
    "os.system('mkdir pragya')"
   ]
  },
  {
   "cell_type": "code",
   "execution_count": 11,
   "metadata": {},
   "outputs": [
    {
     "data": {
      "text/plain": [
       "0"
      ]
     },
     "execution_count": 11,
     "metadata": {},
     "output_type": "execute_result"
    }
   ],
   "source": [
    "os.system('rmdir pragya' )"
   ]
  },
  {
   "cell_type": "code",
   "execution_count": 16,
   "metadata": {},
   "outputs": [],
   "source": [
    "f=open('pragya','w')\n",
    "f.write('hello')\n",
    "f.close()"
   ]
  },
  {
   "cell_type": "code",
   "execution_count": 17,
   "metadata": {},
   "outputs": [],
   "source": [
    "f=open('pragya','a')\n",
    "f.write('lalita')\n",
    "f.close()"
   ]
  },
  {
   "cell_type": "code",
   "execution_count": 20,
   "metadata": {},
   "outputs": [
    {
     "data": {
      "text/plain": [
       "'hellolalita'"
      ]
     },
     "execution_count": 20,
     "metadata": {},
     "output_type": "execute_result"
    }
   ],
   "source": [
    "f=open('pragya','r')\n",
    "f.read()"
   ]
  },
  {
   "cell_type": "code",
   "execution_count": 22,
   "metadata": {},
   "outputs": [],
   "source": [
    "import os"
   ]
  },
  {
   "cell_type": "markdown",
   "metadata": {},
   "source": [
    "os.remove('pragya')"
   ]
  },
  {
   "cell_type": "code",
   "execution_count": 23,
   "metadata": {},
   "outputs": [],
   "source": [
    "import os"
   ]
  },
  {
   "cell_type": "code",
   "execution_count": 26,
   "metadata": {
    "scrolled": true
   },
   "outputs": [
    {
     "ename": "PermissionError",
     "evalue": "[WinError 32] The process cannot access the file because it is being used by another process: 'pragya'",
     "output_type": "error",
     "traceback": [
      "\u001b[1;31m---------------------------------------------------------------------------\u001b[0m",
      "\u001b[1;31mPermissionError\u001b[0m                           Traceback (most recent call last)",
      "\u001b[1;32m<ipython-input-26-9c6914da6adf>\u001b[0m in \u001b[0;36m<module>\u001b[1;34m\u001b[0m\n\u001b[1;32m----> 1\u001b[1;33m \u001b[0mos\u001b[0m\u001b[1;33m.\u001b[0m\u001b[0mremove\u001b[0m\u001b[1;33m(\u001b[0m\u001b[1;34m'pragya'\u001b[0m\u001b[1;33m)\u001b[0m\u001b[1;33m\u001b[0m\u001b[1;33m\u001b[0m\u001b[0m\n\u001b[0m",
      "\u001b[1;31mPermissionError\u001b[0m: [WinError 32] The process cannot access the file because it is being used by another process: 'pragya'"
     ]
    }
   ],
   "source": [
    "os.remove('pragya')\n"
   ]
  },
  {
   "cell_type": "code",
   "execution_count": 34,
   "metadata": {
    "scrolled": true
   },
   "outputs": [
    {
     "ename": "PermissionError",
     "evalue": "[WinError 32] The process cannot access the file because it is being used by another process: 'pragya'",
     "output_type": "error",
     "traceback": [
      "\u001b[1;31m---------------------------------------------------------------------------\u001b[0m",
      "\u001b[1;31mPermissionError\u001b[0m                           Traceback (most recent call last)",
      "\u001b[1;32m<ipython-input-34-9c6914da6adf>\u001b[0m in \u001b[0;36m<module>\u001b[1;34m\u001b[0m\n\u001b[1;32m----> 1\u001b[1;33m \u001b[0mos\u001b[0m\u001b[1;33m.\u001b[0m\u001b[0mremove\u001b[0m\u001b[1;33m(\u001b[0m\u001b[1;34m'pragya'\u001b[0m\u001b[1;33m)\u001b[0m\u001b[1;33m\u001b[0m\u001b[1;33m\u001b[0m\u001b[0m\n\u001b[0m",
      "\u001b[1;31mPermissionError\u001b[0m: [WinError 32] The process cannot access the file because it is being used by another process: 'pragya'"
     ]
    }
   ],
   "source": [
    "os.remove('pragya')\n"
   ]
  },
  {
   "cell_type": "code",
   "execution_count": 35,
   "metadata": {},
   "outputs": [],
   "source": [
    "f=open('pragya','r')\n",
    "f.close()"
   ]
  },
  {
   "cell_type": "code",
   "execution_count": 36,
   "metadata": {},
   "outputs": [],
   "source": [
    "import os\n"
   ]
  },
  {
   "cell_type": "code",
   "execution_count": 37,
   "metadata": {},
   "outputs": [],
   "source": [
    "os.remove('pragya')"
   ]
  },
  {
   "cell_type": "code",
   "execution_count": 1,
   "metadata": {},
   "outputs": [
    {
     "name": "stdout",
     "output_type": "stream",
     "text": [
      "pragya thakur\n"
     ]
    }
   ],
   "source": [
    "def name(a):\n",
    "     print('pragya',a)\n",
    "name('thakur')"
   ]
  },
  {
   "cell_type": "code",
   "execution_count": 2,
   "metadata": {
    "scrolled": true
   },
   "outputs": [
    {
     "name": "stdout",
     "output_type": "stream",
     "text": [
      "pragya hello\n"
     ]
    }
   ],
   "source": [
    "def name(a):\n",
    "     print('pragya',a)\n",
    "name('hello')"
   ]
  },
  {
   "cell_type": "code",
   "execution_count": 28,
   "metadata": {},
   "outputs": [
    {
     "name": "stdout",
     "output_type": "stream",
     "text": [
      "pragya hello\n"
     ]
    }
   ],
   "source": [
    "import threading\n",
    "def xyz(a):\n",
    "     print('pragya',a)\n",
    "xyz('hello')"
   ]
  },
  {
   "cell_type": "code",
   "execution_count": 30,
   "metadata": {},
   "outputs": [
    {
     "ename": "IndentationError",
     "evalue": "unexpected indent (<ipython-input-30-26416fdb8792>, line 2)",
     "output_type": "error",
     "traceback": [
      "\u001b[1;36m  File \u001b[1;32m\"<ipython-input-30-26416fdb8792>\"\u001b[1;36m, line \u001b[1;32m2\u001b[0m\n\u001b[1;33m    if __name__=='__main__':\u001b[0m\n\u001b[1;37m    ^\u001b[0m\n\u001b[1;31mIndentationError\u001b[0m\u001b[1;31m:\u001b[0m unexpected indent\n"
     ]
    }
   ],
   "source": [
    "import threading\n",
    "    if __name__=='__main__':\n",
    "        t1=threading.Thread(target=name,args=(5,))\n",
    "        t2=threading.Thread(target=xyz,args=(6,))\n",
    "        t1.start()\n",
    "        t2.start()\n",
    "        t1.join()\n",
    "        t2.join()\n",
    "        print('true')"
   ]
  },
  {
   "cell_type": "code",
   "execution_count": 23,
   "metadata": {},
   "outputs": [],
   "source": [
    "import threading"
   ]
  },
  {
   "cell_type": "code",
   "execution_count": 29,
   "metadata": {},
   "outputs": [
    {
     "name": "stdout",
     "output_type": "stream",
     "text": [
      "pragya 5\n",
      "pragya 6\n",
      "true\n"
     ]
    }
   ],
   "source": [
    "if __name__=='__main__':\n",
    "        t1=threading.Thread(target=name,args=(5,))\n",
    "        t2=threading.Thread(target=xyz,args=(6,))\n",
    "        t1.start()\n",
    "        t2.start()\n",
    "        t1.join()\n",
    "        t2.join()\n",
    "        print('true')"
   ]
  },
  {
   "cell_type": "code",
   "execution_count": 32,
   "metadata": {},
   "outputs": [
    {
     "name": "stdout",
     "output_type": "stream",
     "text": [
      "pragya hello\n"
     ]
    }
   ],
   "source": [
    "def name(a):\n",
    "     print('pragya',a)\n",
    "name('hello')"
   ]
  },
  {
   "cell_type": "code",
   "execution_count": 34,
   "metadata": {},
   "outputs": [
    {
     "name": "stdout",
     "output_type": "stream",
     "text": [
      "pragya thakur\n"
     ]
    }
   ],
   "source": [
    "def name(a):\n",
    "     print('pragya',a)\n",
    "name('thakur')"
   ]
  },
  {
   "cell_type": "code",
   "execution_count": 44,
   "metadata": {},
   "outputs": [
    {
     "name": "stdout",
     "output_type": "stream",
     "text": [
      "happy\n"
     ]
    }
   ],
   "source": [
    "import happy\n",
    "happy.abc()\n",
    " "
   ]
  },
  {
   "cell_type": "code",
   "execution_count": 47,
   "metadata": {},
   "outputs": [
    {
     "name": "stdout",
     "output_type": "stream",
     "text": [
      "happy\n"
     ]
    }
   ],
   "source": [
    "import happy\n",
    "happy.abc()\n"
   ]
  },
  {
   "cell_type": "code",
   "execution_count": 48,
   "metadata": {},
   "outputs": [],
   "source": [
    "import happy\n"
   ]
  },
  {
   "cell_type": "code",
   "execution_count": 17,
   "metadata": {},
   "outputs": [
    {
     "name": "stdout",
     "output_type": "stream",
     "text": [
      "happy\n",
      "pragya hello\n",
      "pragya thakur\n",
      "pragya 5\n",
      "pragya 6\n",
      "true\n",
      "[1, 2, 3, 4]\n",
      "false\n",
      "false\n",
      "false\n",
      "no\n",
      "true\n",
      "done\n",
      "complete\n"
     ]
    },
    {
     "data": {
      "text/plain": [
       "1"
      ]
     },
     "execution_count": 17,
     "metadata": {},
     "output_type": "execute_result"
    }
   ],
   "source": [
    "import happy\n",
    "happy.abc()\n",
    "import threading\n",
    "def name(a):\n",
    "     print('pragya',a)\n",
    "name('hello')\n",
    "def xyz(a):\n",
    "     print('pragya',a)\n",
    "xyz('thakur')\n",
    "if __name__=='__main__':\n",
    "        t1=threading.Thread(target=name,args=(5,))\n",
    "        t2=threading.Thread(target=xyz,args=(6,))\n",
    "        t1.start()\n",
    "        t2.start()\n",
    "        t1.join()\n",
    "        t2.join()\n",
    "        print('true')\n",
    "        x=[1,2,3,4]\n",
    "def happy(a):\n",
    "    for i in a:\n",
    "         print (x)\n",
    "happy('x')\n",
    "l=[1,2,3,4,5]\n",
    "for i in l:\n",
    "    if(i==5):\n",
    "        print('true')    \n",
    "    elif(i!=4):\n",
    "        print('false')\n",
    "    else:\n",
    "        print('no')\n",
    "        i+=1;\n",
    "        \n",
    "    f=open('pragya','w')\n",
    "f.write('hi')\n",
    "f.close()\n",
    "f=open('pragya','a')\n",
    "f.write('lalita')\n",
    "f.close()\n",
    "f=open('pragya','r')\n",
    "f.read()\n",
    "try:\n",
    "      print('done')\n",
    "except:\n",
    "    if (0/0):\n",
    "        print('yes')\n",
    "finally:\n",
    "     print('complete')\n",
    "import webbrowser as wb\n",
    "wb.open_new_tab('www.google.com')\n",
    "import datetime as dt\n",
    "x=dt.datetime.now()\n",
    "x.year\n",
    "import time \n",
    "time.ctime()\n",
    "import os\n",
    "os.system('mkdir shruti')\n",
    "\n",
    "    \n",
    "    "
   ]
  },
  {
   "cell_type": "code",
   "execution_count": 41,
   "metadata": {},
   "outputs": [],
   "source": [
    "import time\n",
    "\n"
   ]
  },
  {
   "cell_type": "code",
   "execution_count": 45,
   "metadata": {},
   "outputs": [
    {
     "data": {
      "text/plain": [
       "'14:14:45'"
      ]
     },
     "execution_count": 45,
     "metadata": {},
     "output_type": "execute_result"
    }
   ],
   "source": [
    "a=time.ctime()\n",
    "b=a.split()\n",
    "b[3]"
   ]
  },
  {
   "cell_type": "code",
   "execution_count": 46,
   "metadata": {},
   "outputs": [],
   "source": [
    " while True:\n",
    "    if (b[3] == '14:15:10'):\n",
    "        print('hello')\n",
    "    break"
   ]
  },
  {
   "cell_type": "code",
   "execution_count": 1,
   "metadata": {},
   "outputs": [],
   "source": [
    "from bs4 import BeautifulSoup     \n"
   ]
  },
  {
   "cell_type": "code",
   "execution_count": 2,
   "metadata": {},
   "outputs": [
    {
     "data": {
      "text/plain": [
       "<Response [200]>"
      ]
     },
     "execution_count": 2,
     "metadata": {},
     "output_type": "execute_result"
    }
   ],
   "source": [
    "import requests\n",
    "url = requests.get('https://www.cricbuzz.com/cricket-match/live-scores')\n",
    "url\n"
   ]
  },
  {
   "cell_type": "code",
   "execution_count": 3,
   "metadata": {},
   "outputs": [
    {
     "data": {
      "text/plain": [
       "'\\r\\n\\r\\n<!DOCTYPE html><html lang=\"en\" itemscope itemtype=\"http://schema.org/WebPage\"><head><meta charset=\"utf-8\"><script>var is_mobile = /symbian|tizen|midp|uc(web|browser)|MSIE (5.0|6.0|7.0|8.0)|tablet/i.test(navigator.userAgent);\\tif(is_mobile && window.location.hostname != \"www1.cricbuzz.com\") window.location.hostname = \"m.cricbuzz.com\";</script><style>body{background:#E3E6E3; font-family: helvetica,\"Segoe UI\",Arial,sans-serif;color:#222;font-size:14px; line-height: 1.5; margin:0;}\\tbody, .cb-comm-pg, .cb-hm-mid {min-height:1000px}\\t.container{width:980px;margin:0 auto;}\\t.page{max-width: 980px;margin: 0 auto;position: relative;}\\t.cb-col-8 {width:8%;}\\t.cb-col-10 {width:10%;}\\t.cb-col-14 {width:14%;}\\t.cb-col-16 {width:16%;}\\t.cb-col-20 {width:20%;}\\t.cb-col-25 {width:25%;}\\t.cb-col-27 {width:27%;}\\t.cb-col-33 {width:33%;}\\t.cb-col-40 {width:40%;}\\t.cb-col-46 {width:46%;}\\t.cb-col-47 {width:47%;}\\t.cb-col-50 {width:50%;}\\t.cb-col-60 {width:60%;}\\t.cb-col-66 {width:66%;}\\t.cb-col-67 {width:67%;}\\t.cb-col-73 {width:73%;}\\t.cb-col-75 {width:75%;}\\t.cb-col-84 {width:84%;}\\t.cb-col-80 {width:80%;}\\t.cb-col-90{width:90%;}\\t.cb-col-100 {width:100%;}\\t.cb-col {display: inline-block;box-sizing: border-box;float: left; min-height: 1px;}\\th1 {font-size: 36px;line-height: 42px; margin:0;}\\th2 {font-size: 24px; margin:0; line-height: 30px;}\\th3 {font-size: 18px;line-height: 24px; margin:0; }\\th4 {font-size: 16px; margin:0; }\\th5 {font-size: 14px; margin: 0;}\\t.cb-font-18 {font-size:18px;}\\timg{border-radius: 4px;}\\ta {text-decoration: none; color:#222;}\\ta, a:hover, a:active, a:focus {outline: medium none;}\\t.text-center {text-align: center;}\\t.cb-nws-lft-col{padding:15px 20px;}\\t.cb-nws-dtl-lft-col {padding: 10px 30px 0 30px;border-right: 1px solid #ecebeb ;}\\t.cb-nws-lst-rt{padding-left: 10px;}\\t.cb-srs-lst-itm {padding: 10px 0;}\\t.cb-lst-itm-sm{padding:10px 0 5px;}\\t.cb-scrd-lft-col{padding:15px 10px;} .cb-col-rt{padding: 10px;}\\t.text-white{color: #fff;}\\t.cb-scrd-hdr-rw, .cb-nav-pill-1.active {background: #028062 ;color: #fff;}\\t.cb-nav{position:relative; height:48px;background: #009270;}\\t.cb-hm-mnu-itm{padding: 16px 6px 11px; color:#fff; display:inline-block;}\\t.cb-hm-text{padding:10px 18px 10px 20px;}\\t.cb-hm-rght{padding: 15px;}\\t.cb-subnav .cb-sub-navigation {display: none; position: absolute;}\\t.cb-mat-mnu{background:#4a4a4a; width:980px; font-size: 0;}\\t.cb-mat-mnu-itm{font-size:12px; color:#fff; padding:10px; cursor: pointer; display:inline-block; max-width: 140px;}\\t.cb-mat-mnu-ttl{background: #333; padding: 10px 20px;}\\t.cb-mat-mnu-wrp{margin-bottom: 10px;}\\t.cb-ovr-flo{overflow: hidden; white-space: nowrap; text-overflow: ellipsis;}\\t.cb-mat-mnu-all{text-align: center; float: right; width:60px;}\\t.cb-nav-main{border-bottom:1px solid #e3e6e3;padding:0 0 5px 20px;}\\t.cb-nav-bar{padding-top:10px;clear:both;}\\t.cb-lst-itm, .cb-bg-white{background: #fff;}\\t.cb-nav-tab.active, .cb-nav-tab-hm.active{ font-weight: bold; color: #028062;}\\t.cb-nav-tab.active {border-bottom: 3px solid #028062; line-height: 24px; }\\t.cb-nav-tab-hm.active{ border-bottom:2px solid #028062; line-height: 22px;}\\t.cb-nav-tab{margin-right:20px;padding-bottom:6px;}\\t.cb-nav-tab-hm{margin-right:15px;padding-bottom:6px;}\\t.cb-nav-hdr{padding-top:15px}\\t.cb-nav-subhdr{padding:5px 0 10px 0;}\\t.cb-lv-scr-mtch-hdr{line-height: 21px;font-size: 16px;}\\t.disp-none{display:none;}\\t.disp-blck{display:block;}\\t.cb-font-24{font-size: 24px;}\\t.line-ht30{line-height: 30px;}\\t.line-ht24{line-height: 24px;}\\t.cb-hm-scg-blk{background: #fff; margin-bottom: 5px; height:90px;}\\t.mrgn-btm-5{margin-bottom : 5px;}\\t#scagTabContent .show{display: block; visibility: visible;}\\t#scagTabContent .hide{display: none; visibility: hidden;}\\t[ng\\\\:cloak], [ng-cloak], [data-ng-cloak], [x-ng-cloak], .ng-cloak, .x-ng-cloak { display: none !important;}\\t.cb-hm-lft{margin-bottom:5px;padding:0 15px;}\\t.cb-hm-lft-hdr{margin:0; padding:15px 15px 0; color: #009270;} .cb-hm-mid {border-left: 5px solid #e3e6e3 ;border-right: 5px solid #e3e6e3 ;padding: 0 15px;} .cb-mtch-blk {border-right: 1px solid #ecebeb ;line-height: 1.4;margin: 15px 0;padding: 0 20px;}\\t.crd-cntxt{font-size: 12px; color:#666; padding-bottom: 10px;}\\t.big-crd-main{border-top: 1px solid #ecebeb;padding:15px 0 5px; margin-bottom: 1px;clear: both;} .big-crd-reltd-itm {margin: 0 0 10px; width:100%; display: inline-block;}\\t.cb-nws-time{font-size:12px; padding-bottom: 5px;}\\t.cb-nws-hdln-ancr{padding-bottom: 5px;}\\t.cb-hmscg-bwl-txt, .cb-hmscg-bat-txt{font-weight:bold; padding-bottom:4px; height:18px;}\\t.cb-hmscg-bwl-txt{color:#666;}\\t.sml-crd-main{padding: 15px 0 5px; width: 100%;}\\t.big-crd-hdln{margin: 10px 0;}\\t.big-crd-rltd-txt {font-weight: bold; margin:10px 0; color:#1866DB;} .cb-nws-intr {color: #666;padding-bottom: 5px;} .cb-lv-scrs-well {background: #f5f5f5 ;display: inline-block;margin: 10px 0;padding: 10px 5px;}\\t.cb-hm-mtch-crd-width{min-width:300px;}\\t.cb-mr-30{margin-right: 30px;} .cb-schdl-hdr {margin: 0;padding: 15px 0 10px 10px;} .cb-lst-itm-lg {padding: 20px 0;} .cb-left-pad {padding: 20px 10px 0;}\\t.cb-nav-pill-1 {background: #CFE0DB;border-radius: 20px;color: #222;cursor: pointer;margin-right: 15px;padding: 5px 20px;} .cb-mtch-lst {padding: 15px 0;}\\t.cb-nws-min-cntr{padding: 10px; background: #f5f5f5; color:#333; margin:10px 0 15px;}\\t.sml-crd-subtxt{margin:0 10px 10px;}\\t/*-------------------------Live Pages -----------------------*/\\t.cb-scrcrd-status{padding:0 0 10px 10px;}\\t.cb-scrd-hdr-rw{padding:8px 10px;}\\t.cb-bg-gray{background: #ecebeb;}\\t.cb-lv-grn-strip{background: #ecebeb;}\\t.cb-min-hdr-rw, .cb-scrd-sub-hdr{padding: 4px 10px; font-size: 12px; color: #666;}\\t.cb-scrd-itms{padding: 4px 10px; font-size: 13px;}\\t.cb-text-link {color: #1866DB;}\\t.text-bold{font-weight: bold;}\\t.text-normal{font-weight: normal;}\\t.cb-mat-fct-itm{padding: 5px 0;}\\t.cb-min-bat-rw{padding-bottom: 5px;}\\t.cb-nws-sub-txt, .cb-nws-sub-txt, .cb-font-12{font-size:12px;}\\t.cb-font-16{font-size:16px;}\\t.cb-font-20{font-size:20px;}\\t.cb-min-inf{padding-top:10px; margin-left: -10px; display: inline-block;}\\t.cb-min-itm-rw{padding:5px 10px 0;}\\t.text-right{text-align:right;}\\t.cb-key-st-lst{padding: 10px 0 0 5px; }\\t.cb-min-prw-time{padding:20px 0 0;}\\t.cb-toss-sts{padding: 10px 0 30px;}\\t.cb-min-rcnt{padding: 7px 10px; margin: 0 -10px 0;}\\t.cb-key-lst-wrp{border: 1px solid #ecebeb; padding-bottom: 15px; margin-right: -10px;}\\t.cb-min-tm{font-size: 18px; font-weight: bold;}\\t.cb-min-stts{padding: 20px 0;}\\t.cb-mom-itm{padding: 0 0 10px;}\\t.cb-lv-grn-strip {padding: 10px 10px 5px;}\\t.cb-ovr-num{padding-top:2px;}\\t.cb-min-pad{padding-left: 5px;}\\t/*Upcoming Series*/\\t.cb-mnth{margin-top: 10px; padding: 0 10px;}\\t.cb-sch-lst-itm {padding:10px 0; margin-left: 20px;border-bottom: 1px solid #ecebeb;}\\t/*Matches By Day*/\\t.cb-mtchs-dy{padding:20px 20px 20px 10px ;}\\t.cb-mtchs-dy-tm,.cb-mtchs-dy-vnu{padding:20px 20px 20px 0px;}\\t/*Schedule Teams*/\\t.cb-lv-upcom-strip{padding: 5px 10px;background: #ecebeb;}\\t/*Archives*/\\t.cb-srs-cat{padding:10px; color:#028062; }\\t.pad-left{padding-left:30px;}\\t.cb-arcv-yr{font-size:20px; padding: 0 0 5px 10px;font-weight: bold}\\t.cb-yr-tmline{padding: 2px 15px 15px 0;}\\t.cb-sch-tms-widgt{padding: 5px 10px; margin:5px 2px 2px 2px; background: #f5f5f5; border-radius: 0; border:0; display: inline-block;}\\t/*Photos*/\\t.cb-thmb-dark {background: #333333; box-shadow:none; border-radius:4px; border:none; padding:0;color:#CCC;}\\t.cb-pht-main {padding:20px 15px;margin: 0 -10px;}\\t.cb-pht-block{padding:9px;float:left;height:280px;box-sizing: border-box;} .cb-gallery-pht-block{padding: 9px 9px 9px 16px;}\\t.img-responsive{height:auto; max-width:100%;}\\t.center-block{margin-right: auto;margin-left: auto;}\\t.cb-schdl{padding:0 10px;line-height: 1.5;}\\t.cb-caret-up, .cb-caret-down{display: inline-block; width: 0; height: 0; margin-left: 4px; margin-bottom: 1px; border-right: 4px solid transparent; border-left: 4px solid transparent;}\\t.cb-caret-up{border-bottom: 4px solid;}\\t.cb-caret-down{border-top: 4px solid;}\\t.cb-hm-rt-itm{margin: 0 0 5px; padding: 10px 10px 5px;}\\t.cb-hmscg-tm-nm{display:inline-block; width: 60px;}\\t.pull-right,.cb-all-mtch-tab{float:right;}\\t.cb-skin-ads-close{display: none;}\\t.cb-nws-sub-txt{padding-top:10px;}\\t.nws-dtl-hdln{margin-top:10px;}\\t.cb-min-lv{min-height:270px}\\t.cb-min-comp{min-height:150px;}\\t.cb-ttl-vts{margin-top:20px;}\\t.cb-poll-radio{width: 5%;margin:4px 10px 0 0;}\\t.cb-mini-tim{padding-bottom:20px;}\\t.cb-com-ln{margin: 0 0 10px; line-height: 24px;}\\t.cb-comm-static{min-height:31px; margin: 0 -10px 10px;}\\t.cb-com-ovr-sum-ad{min-height: 31px;}\\t.cb-comm-static-anchr{margin:5px 10px; display: block;}\\t.ad-unit-rendered{margin-bottom: 5px;}\\t.cb-mm-wrp { max-height: 0px; -webkit-transition: max-height 0.35s ease; transition: max-height 0.35s ease; overflow: hidden; }\\t.cb-mm-wrp.down { max-height: 1000px; transition: max-height 0.75s ease; -webkit-transition: max-height 0.75s ease; overflow: hidden;} .cb-srs-hstry-dtl {padding:10px 15px;margin-top:20px; border-radius: 4px;}\\t.cb-qck-lnk{margin-bottom: 5px; padding:10px 15px;}\\t.cb-qck-hdr{padding-right: 15px; border-right: 1px solid #ecebeb ;}\\t.cb-qck-ancr{margin-left: 15px;}\\t.cb-lst-vid-rw{padding-bottom: 0; height: 64px; border: 1px solid #ecebeb; margin-right: -10px;}\\t.cb-auth-img{border-radius: 100%;}\\t.cb-expt-athr{vertical-align: top; padding: 5px 0 0 0; display: inline-block; font-size: 16px}\\t.inline-block{display: inline-block;}\\t.cb-exprt-athr-hdr{text-align: right;font-size: 42px;font-family: bodani; color: #fff;padding-right: 15px;line-height:44px;text-transform:uppercase;}\\t.cb-exprt-athr-hdr-tag{text-align: right;font-size: 24px;font-family: bodani; color: #fff;padding-right: 15px;font-style:italic;}\\t.cb-athr-wgt-wrp{border:1px solid #ecebeb; padding:15px; margin-bottom:20px;background:#f5f5f5;}\\t.cb-exprt-athr-hdr-img{background: url(\"/images/harsha-banner.jpg\") no-repeat scroll; height:80px;}\\t.cb-overflow-hidden{overflow: hidden;}\\t/*Videos*/\\t.cb-vid-sm-ply-api {color: #fff;line-height: 34px;font-size: 18px;margin-left: 3px;}\\t.cb-vid-sml-card-api {margin-top: 10px;height: auto;padding: 0 12px 0 11px;}\\t.cb-cat-head-wrap {padding: 0 12px 0 11px;}\\t.cb-cat-head-text {margin-top: 5px;line-height: 20px;}\\t.cb-more-btn {padding: 8px 20px;border-radius: 2px;color: #fff;background: #009270;border: 0;cursor: pointer;}\\t.cb-cat-head-link {float: right;padding: 5px 25px;margin-top: 10px;border-radius: 4px;}\\t.cb-pos-rel{position: relative;}\\t.cb-videos-cat {border-bottom: 1px solid #ecebeb;padding: 10px 3px 15px 4px;}\\t.cb-cat-head-text-wrap {float: left;}\\t.cb-cat-head-count {margin: 0;color: #666;}\\th2.cb-cat-head-text{font-size : 18px}\\t.cb-vid-sml-card-api-head {font-size: 14px;font-weight: bold;line-height: 18px;max-height: 55px;margin: 2px 0 5px;overflow: hidden;}\\t.cb-cen {position: absolute;top: 50%;left: 50%;opacity: .8;transform: translateX(-50%) translateY(-50%);-webkit-transform: translateX(-50%) translateY(-50%);-moz-transform: translateX(-50%) translateY(-50%);-ms-transform: translateX(-50%) translateY(-50%);-o-transform: translateX(-50%) translateY(-50%);background: #222;text-align: center;height: 35px;width: 35px;border-radius: 50px;}\\t.cb-cen:hover{opacity: 1;}\\t.padding-handling-errors{padding: 20px 0px 10px 15px;border-bottom: 1px solid #ecebeb;}\\t.cb-col .cb-align-cen{float: none; text-align: center; padding: 7px 25px; margin-top: 20px;}\\t.cb-align-cen{padding-top: 10px;}\\t.cb-hot-cat{max-width: 90px; text-align: center; padding-right: 0;}\\t.cb-hot-cat-img{width: 72px;}\\t.cb-vid-slider-arrs{position: absolute; top: 52px; left: 0; right: 0; z-index: 5;}\\t.cb-vid-slider-arr{position: absolute; z-index: 5; height: 43px; width: 43px; border-radius: 50%; cursor: pointer;}\\t.cb-vid-slider-arr-prev{display: none; left: 0;}\\t.cb-vid-slider-arr-next{right: 0;}\\t.videos-list-carousal{overflow: hidden; position: relative; height: 220px;}\\t.videos-carousal-wrapper{float: none; list-style: none; padding: 0; margin: 0; transition: all 0.3s ease; display: flex; flex-direction: row; position: absolute; left: 0;}\\t.videos-carousal-item{min-width: 25%; justify-content: center; align-items: center;}\\t.cb-vid-more{float: right; color: #2C3E9A; font-size: 18px;}\\t.cb-vid-more:hover{text-decoration: underline;}\\t.cat-vid-carousal{height: 135px !important;}\\t.cat-vid-carousal .videos-carousal-item{min-width: auto;}\\t.cat-vid-carousal .cb-vid-slider-arrs{top: 24px;}\\t.cb-srs-sqd-box{min-height: 700px; background: #fff;}\\t.cb-float-none{float: none;}\\t.cb-margin-top-10{margin-top: 10px;}\\t.cb-schdl-nvtb {margin: 0 0 10px 0;padding: 10px;}\\t.cb-carousal-item-small {padding: 0 0 0 16px;}\\t.cb-carousal-item-small:first-child {padding-left: 11px;}\\t.cb-carousal-item-large {padding: 0 11px;}\\t.cb-carousal-item-small .cb-vid-txt-wrp{font-size: 12px;}\\t.cb-hot-cat .cb-vid-txt-wrp{display: -webkit-box; -webkit-box-orient: vertical; -webkit-line-clamp: 2; overflow: hidden; max-height: 40px;}\\t/*Rankings*/\\t.cb-ranking-nav.active{line-height: 21px}\\t.cb-rank-plyr{padding-left:15px}\\t.text-left{text-align:left;}\\t.cb-rank-tabs{padding-left: 10px;}\\t.cb-plyr-tbody{padding:5px 0;}\\t.cb-padding-left0{padding-left: 0;}\\t.cb-rank-hdr{margin-top: 15px; padding: 5px 0;}\\t.cb-bg-grey{background: #f5f5f5;}\\t/*Players*/\\t.cb-player-name-wrap{padding-top: 90px;}\\t.cb-plyr-tbl{margin-top: 30px}\\t.cb-font-40{font-size:40px;}\\t/*Teams*/\\t.cb-cursor-pointer{cursor: pointer;}\\t.cb-team-stats-btn{margin-top: 21px;}\\t.cb-upper-text{text-transform: capitalize;}</style><script>function getCookie(c_name){\\tvar i,x,y,ARRcookies=document.cookie.split(\";\");\\tfor (i=0;i<ARRcookies.length;i++){\\tx=ARRcookies[i].substr(0,ARRcookies[i].indexOf(\"=\"));\\ty=ARRcookies[i].substr(ARRcookies[i].indexOf(\"=\")+1);\\tx=x.replace(/^\\\\s+|\\\\s+$/g,\"\");\\tif (x==c_name){\\treturn unescape(y);\\t}\\t}\\t}\\tvar cbads_value = getCookie(\"cbzads\");\\tif(cbads_value != null && cbads_value.indexOf(\\'IN|AS\\') >= 0){\\tdocument.write(\"<style>.cb-geo-in-50{height:50px}</style>\")\\t}\\t/*polifill for remove function*/\\tif (!(\\'remove\\' in Element.prototype)) {\\tElement.prototype[\\'remove\\'] = function () {\\tif (this.parentNode) {\\tthis.parentNode.removeChild(this);\\t}\\t};\\t}</script><meta http-equiv=\"X-UA-Compatible\" content=\"IE=edge\" /><meta name=\"author\" content=\"\"><link rel=\"shortcut icon\" type=\"image/x-icon\" href=\"/images/cric_ball.ico\" /><meta name=\"google-signin-client_id\" content=\"125255339112-d594jen12o0j854sufu8jfn2gbbnaskj.apps.googleusercontent.com\"><LINK REL=\"apple-touch-icon\" href=\"/images/apple-touch-icon.png\" /> <title itemprop=\"name\">Live Cricket Score | Scorecard | Live Commentary | Cricbuzz.com</title><meta name=\"description\" itemprop=\"description\" content=\"Get Live Cricket Score, Ball by Ball Commentary, Scorecard Updates, Match Facts &amp; related News of all the International &amp; Domestic Cricket Matches across the globe.\"><link rel=\"alternate\" href=\"android-app://com.cricbuzz.android/http/www.cricbuzz.com/cricket-match/live-scores\"><link rel=\"alternate\" href=\"//m.cricbuzz.com/cricket-match/live-scores\" media=\"only screen and (max-width: 640px)\"><meta name=\"robots\" content=\"index, follow\"><meta name=\"googlebot\" content=\"index, follow\"><meta name=\"google-site-verification\" content=\"google89fd37b1258ef4b9.html\"><meta name=\"p:domain_verify\" content=\"fd560568b43f31382de30f628c8430bd\"><meta name=\"msvalidate.01\" content=\"A509FA8BAE50018F9DF2553AEDEDF77B\"> <meta property=\"og:title\" content=\"Live Cricket Score | Scorecard | Live Commentary\"><meta property=\"og:description\" content=\"Get Live Cricket Score, Ball by Ball Commentary, Scorecard Updates, Match Facts &amp; related News of all the International &amp; Domestic Cricket Matches across the globe.\"><meta property=\"og:image\" content=\"http://www.cricbuzz.com\"><meta property=\"og:image:secure_url\" content=\"https://www.cricbuzz.com\"><meta property=\"fb:app_id\" content=\"30119633160\"><meta property=\"og:site_name\" content=\"Cricbuzz\"> <meta property=\"twitter:title\" content=\"Live Cricket Score | Scorecard | Live Commentary\"><meta property=\"twitter:description\" content=\"Get Live Cricket Score, Ball by Ball Commentary, Scorecard Updates, Match Facts &amp; related News of all the International &amp; Domestic Cricket Matches across the globe.\"><meta property=\"twitter:image\" content=\"https://www.cricbuzz.com\"><meta name=\"twitter:site\" content=\"@cricbuzz\"><meta name=\"twitter:domain\" content=\"cricbuzz.com\"><meta name=\"twitter:app:name:iphone\" content=\"Cricbuzz\"><meta name=\"twitter:app:id:iphone\" content=\"360466413\"><meta name=\"twitter:app:name:googleplay\" content=\"Cricbuzz\"><meta name=\"twitter:app:id:googleplay\" content=\"com.cricbuzz.android\"><meta name=\"twitter:widgets:csp\" content=\"on\"><meta property=\"fb:pages\" content=\"178697151159\" /><meta name=\"keywords\" content=\"\"><meta name=\"news_keywords\" content=\"\"><link rel=\"canonical\" href=\"https://www.cricbuzz.com/cricket-match/live-scores\"><meta name=\"msapplication-config\" content=\"none\"/><script>var PAGE_NAME = \"live-scores-page\";\\tvar PAGE_TARGETS = {};\\tvar CBQueue = CBQueue || [];\\tvar CBQueueOnLoad = CBQueueOnLoad || [];\\t/*CBQueue.push(function(){roadblock(2,{country:[\"US\",\"CA\", \"ZA\", \"AU\"], continent:[\"EU\"]});});*/\\tCBQueue.push(function(){roadblock(2,{country:[\"US\"]});});\\t_udn = \"cricbuzz.com\";</script><script>(function(w){\\t\"use strict\";\\tvar loadCSS = function( href, before, media ){\\tvar doc = w.document;\\tvar ss = doc.createElement( \"link\" );\\tvar ref;\\tif( before ){\\tref = before;\\t}\\telse {\\tvar refs = ( doc.body || doc.getElementsByTagName( \"head\" )[ 0 ] ).childNodes;\\tref = refs[ refs.length - 1];\\t}\\tvar sheets = doc.styleSheets;\\tss.rel = \"stylesheet\";\\tss.href = href;\\tss.media = \"only x\";\\tref.parentNode.insertBefore( ss, ( before ? ref : ref.nextSibling ) );\\tvar onloadcssdefined = function( cb ){\\tvar resolvedHref = ss.href;\\tvar i = sheets.length;\\twhile( i-- ){\\tif( sheets[ i ].href === resolvedHref ){\\treturn cb();\\t}\\t}\\tsetTimeout(function() {\\tonloadcssdefined( cb );\\t});\\t};\\tss.onloadcssdefined = onloadcssdefined;\\tonloadcssdefined(function() {\\tss.media = media || \"all\";\\t});\\treturn ss;\\t};\\tif( typeof module !== \"undefined\" ){\\tmodule.exports = loadCSS;\\t}\\telse {\\tw.loadCSS = loadCSS;\\t}\\t}( typeof global !== \"undefined\" ? global : this ));\\tloadCSS( \"/dist/css/cricbuzz.min.6501.css\" );</script><noscript><link rel=\"stylesheet\" type=\"text/css\" href=\"/dist/css/cricbuzz.min.6501.css\"></noscript></head><body><a href=\"https://plus.google.com/104502282508811467249\" rel=\"publisher\"></a><a id=\"ad-skin\" target=\"_blank\" href=\"Javascript:void(0)\" class=\"cb-skin-ads-link cb-skin-ads-link-fixed ad-skin\"></a><a href=\"Javascript:void(0)\" class=\"cb-skin-ads-close cb-font-18 ad-skin-close\" style=\"position:fixed; z-index:1001; color:#FFF; background:#000; padding:2px 5px; right:2px;\">&#x2716;</a><header id=\"top\" style=\"z-index: 1000;position: relative;padding-top:10px;width:980px;margin:0 auto;\" itemscope itemtype=\"http://schema.org/WPHeader\"><div class=\"container\"><div id=\"leaderboard\" class=\"ad-unit text-center center-block\" style=\"min-height:90px;margin-bottom:10px;\"></div><div id=\"countdown\" class=\"ad-unit\" style=\"margin:-10px 15px 0px;float:right;position:absolute;\"></div><div class=\"toi-branding toi-referral\"></div><nav class=\"cb-nav cb-col cb-col-100\" id=\"cb-main-menu\"><a href=\"/\" target=\"_self\" class=\"cb-hm-text\"><img itemprop=\"image\" height=\"30\" width=\"101\" style=\"bottom: -4px; position: relative;\" alt=\"Cricbuzz Logo\" title=\"Cricbuzz Logo\" src=\"/images/cbz-logo.png\"></a><a class=\"cb-hm-mnu-itm\" target=\"_self\" href=\"/cricket-match/live-scores\" title=\"Live Cricket Score\">Live Scores</a><a class=\"cb-hm-mnu-itm\" target=\"_self\" href=\"/cricket-schedule/upcoming-series/international\" title=\"Cricket Schedule\">Schedule</a><a class=\"cb-hm-mnu-itm\" target=\"_self\" href=\"/cricket-scorecard-archives\" title=\"Cricket Scorecard Archives\">Archives</a><div class=\"cb-subnav cb-hm-mnu-itm feature-button cursor-pointer\" id=\"newsDropDown\"><a class=\"text-white\" target=\"_self\" href=\"/cricket-news\" >News</a><span class =\"cb-caret-down\"></span><nav class=\"cb-sub-navigation\"><a class=\"cb-subnav-item\" target=\"_self\" href=\"/cricket-news\" title=\"Latest Cricket News\">All Stories</a><a class=\"cb-subnav-item\" target=\"_self\" href=\"/cricket-news/latest-news\" title=\"Latest Cricket News\">Latest News</a><a class=\"cb-subnav-item\" target=\"_self\" href=\"/cricket-news/info/\" title=\"Latest Cricket Topics\">Topics</a><a class=\"cb-subnav-item\" target=\"_self\" href=\"/cricket-news/editorial/spotlight\" title=\"Cricket Editorials and Specials\">Spotlight</a><a class=\"cb-subnav-item\" target=\"_self\" href=\"/cricket-news/editorial/editorial-list\" title=\"Latest Cricket Opinions & Editorials\">Opinions</a><a class=\"cb-subnav-item\" target=\"_self\" href=\"/cricket-news/editorial/specials\" title=\"Latest Cricket Specials\">Specials</a><a class=\"cb-subnav-item\" target=\"_self\" href=\"/cricket-news/editorial/stats-analysis\" title=\"Latest Cricket Stats & Analysis\">Stats & Analysis</a><a class=\"cb-subnav-item\" target=\"_self\" href=\"/cricket-news/editorial/interviews\" title=\"Latest Cricket Player Interviews\">Interviews</a><a class=\"cb-subnav-item\" target=\"_self\" href=\"/cricket-news/editorial/live-blogs\" title=\"Latest Cricket Match live blogs\">Live Blogs</a><a class=\"cb-subnav-item\" target=\"_self\" href=\"/cricket-news/experts/harsha-bhogle/170\" title=\"Articles and Videos by Harsha Bhogle\">Harsha Bhogle</a></nav></div><div class=\"cb-subnav cb-hm-mnu-itm feature-button cursor-pointer\" id=\"seriesDropDown\"><a class=\"text-white\" target=\"_self\" href=\"/cricket-schedule/series\" >Series</a><span class =\"cb-caret-down\"></span><nav class=\"cb-sub-navigation\"><a class=\"cb-subnav-item\" target=\"_self\" href=\"/cricket-series/2697/icc-cricket-world-cup-2019\" title=\"ICC Cricket World Cup 2019\">ICC Cricket World Cup 2019</a><a class=\"cb-subnav-item\" target=\"_self\" href=\"/cricket-series/2818/zimbabwe-tour-of-netherlands-2019\" title=\"Zimbabwe tour of Netherlands, 2019\">Zimbabwe tour of Netherlands, 2019</a><a class=\"cb-subnav-item\" target=\"_self\" href=\"/cricket-series/2844/malaysia-tri-series-2019\" title=\"Malaysia Tri-Series 2019\">Malaysia Tri-Series 2019</a><a class=\"cb-subnav-item\" target=\"_self\" href=\"/cricket-series/2793/zimbabwe-tour-of-ireland-2019\" title=\"Zimbabwe tour of Ireland, 2019\">Zimbabwe tour of Ireland, 2019</a><a class=\"cb-subnav-item\" target=\"_self\" href=\"/cricket-series/2777/west-indies-women-tour-of-england-2019\" title=\"West Indies Women tour of England, 2019\">West Indies Women tour of England, 2019</a><a class=\"cb-subnav-item\" target=\"_self\" href=\"/cricket-series/2780/county-championship-division-one-2019\" title=\"County Championship Division One 2019\">County Championship Division One 2019</a></nav></div><div class=\"cb-subnav cb-hm-mnu-itm feature-button cursor-pointer\" id=\"teamDropDown\"><a class=\"text-white\" target=\"_self\" href=\"/cricket-team\" >Teams</a><span class =\"cb-caret-down\"></span><nav class=\"cb-sub-navigation cb-sub-lg\"> <div class=\"cb-sub-lg-outer\"> <div class=\"cb-sub-lg-sec\"> <h4 class=\"cb-sub-lg-sec-head\">Test Teams</h4> <a class=\"cb-subnav-item cb-sub-lg-sec-item\" target=\"_self\" href=\"/cricket-team/india/2\" title=\"India Cricket Team\">India</a> <a class=\"cb-subnav-item cb-sub-lg-sec-item\" target=\"_self\" href=\"/cricket-team/pakistan/3\" title=\"Pakistan Cricket Team\">Pakistan</a> <a class=\"cb-subnav-item cb-sub-lg-sec-item\" target=\"_self\" href=\"/cricket-team/australia/4\" title=\"Australia Cricket Team\">Australia</a> <a class=\"cb-subnav-item cb-sub-lg-sec-item\" target=\"_self\" href=\"/cricket-team/sri-lanka/5\" title=\"Sri Lanka Cricket Team\">Sri Lanka</a> <a class=\"cb-subnav-item cb-sub-lg-sec-item\" target=\"_self\" href=\"/cricket-team/bangladesh/6\" title=\"Bangladesh Cricket Team\">Bangladesh</a> <a class=\"cb-subnav-item cb-sub-lg-sec-item\" target=\"_self\" href=\"/cricket-team/england/9\" title=\"England Cricket Team\">England</a> <a class=\"cb-subnav-item cb-sub-lg-sec-item\" target=\"_self\" href=\"/cricket-team/west-indies/10\" title=\"West Indies Cricket Team\">West Indies</a> <a class=\"cb-subnav-item cb-sub-lg-sec-item\" target=\"_self\" href=\"/cricket-team/south-africa/11\" title=\"South Africa Cricket Team\">South Africa</a> <a class=\"cb-subnav-item cb-sub-lg-sec-item\" target=\"_self\" href=\"/cricket-team/zimbabwe/12\" title=\"Zimbabwe Cricket Team\">Zimbabwe</a> <a class=\"cb-subnav-item cb-sub-lg-sec-item\" target=\"_self\" href=\"/cricket-team/new-zealand/13\" title=\"New Zealand Cricket Team\">New Zealand</a> <a class=\"cb-subnav-item cb-sub-lg-sec-item\" target=\"_self\" href=\"/cricket-team/ireland/27\" title=\"Ireland Cricket Team\">Ireland</a> <a class=\"cb-subnav-item cb-sub-lg-sec-item\" target=\"_self\" href=\"/cricket-team/afghanistan/96\" title=\"Afghanistan Cricket Team\">Afghanistan</a> </div> <div class=\"cb-sub-lg-sec\"> <h4 class=\"cb-sub-lg-sec-head\">Associate</h4> <a class=\"cb-subnav-item cb-sub-lg-sec-item\" target=\"_self\" href=\"/cricket-team/united-arab-emirates/7\" title=\"United Arab Emirates Cricket Team\">United Arab Emirates</a> <a class=\"cb-subnav-item cb-sub-lg-sec-item\" target=\"_self\" href=\"/cricket-team/hong-kong/8\" title=\"Hong Kong Cricket Team\">Hong Kong</a> <a class=\"cb-subnav-item cb-sub-lg-sec-item\" target=\"_self\" href=\"/cricket-team/kenya/14\" title=\"Kenya Cricket Team\">Kenya</a> <a class=\"cb-subnav-item cb-sub-lg-sec-item\" target=\"_self\" href=\"/cricket-team/united-states/15\" title=\"United States Cricket Team\">United States</a> <a class=\"cb-subnav-item cb-sub-lg-sec-item\" target=\"_self\" href=\"/cricket-team/scotland/23\" title=\"Scotland Cricket Team\">Scotland</a> <a class=\"cb-subnav-item cb-sub-lg-sec-item\" target=\"_self\" href=\"/cricket-team/netherlands/24\" title=\"Netherlands Cricket Team\">Netherlands</a> <a class=\"cb-subnav-item cb-sub-lg-sec-item\" target=\"_self\" href=\"/cricket-team/bermuda/25\" title=\"Bermuda Cricket Team\">Bermuda</a> <a class=\"cb-subnav-item cb-sub-lg-sec-item\" target=\"_self\" href=\"/cricket-team/canada/26\" title=\"Canada Cricket Team\">Canada</a> <a class=\"cb-subnav-item cb-sub-lg-sec-item\" target=\"_self\" href=\"/cricket-team/uganda/44\" title=\"Uganda Cricket Team\">Uganda</a> <a class=\"cb-subnav-item cb-sub-lg-sec-item\" target=\"_self\" href=\"/cricket-team/malaysia/71\" title=\"Malaysia Cricket Team\">Malaysia</a> <a class=\"cb-subnav-item cb-sub-lg-sec-item\" target=\"_self\" href=\"/cricket-team/nepal/72\" title=\"Nepal Cricket Team\">Nepal</a> <a class=\"cb-subnav-item cb-sub-lg-sec-item\" target=\"_self\" href=\"/cricket-team/germany/77\" title=\"Germany Cricket Team\">Germany</a> </div> </div> <a target=\"_self\" href=\"/cricket-team\" class=\"cb-sub-lg-more\">More...</a></nav></div> <div class=\"cb-subnav cb-hm-mnu-itm feature-button cursor-pointer\" id=\"videosDropDown\"><a class=\"text-white\" target=\"_self\" href=\"/cricket-videos\">Videos</a><span class =\"cb-caret-down\"></span> <nav class=\"cb-sub-navigation\"> <a target=\"_self\" class=\"cb-subnav-item\" href=\"/cricket-videos\" title=\"All Cricket Videos\">All Videos</a> <a target=\"_self\" class=\"cb-subnav-item\" href=\"/cricket-videos/categories\" title=\"Cricket Videos Categories\">Categories</a> <a target=\"_self\" class=\"cb-subnav-item\" href=\"/cricket-videos/playlists\" title=\"Cricket Videos Playlists\">Playlists</a> </nav> </div> <div class=\"cb-subnav cb-hm-mnu-itm feature-button cursor-pointer\" id=\"rankingDropDown\"><a class=\"text-white\" href=\"/cricket-stats/icc-rankings/men/batting\">Rankings</a><span class =\"cb-caret-down\"></span><nav class=\"cb-sub-navigation\"><a class=\"cb-subnav-item\" target=\"_self\" href=\"/cricket-stats/icc-rankings/men/batting\" title=\"ICC Rankings Men\">ICC Rankings - Men</a><a class=\"cb-subnav-item\" target=\"_self\" href=\"/cricket-stats/icc-rankings/women/batting\" title=\"ICC Rankings Women\">ICC Rankings - Women</a></nav></div> <div class=\"cb-subnav cb-hm-mnu-itm feature-button cursor-pointer\">More<span class =\"cb-caret-down\"></span><nav class=\"cb-sub-navigation\" style=\"right:0px;\"> <a class=\"cb-subnav-item\" target=\"_self\" href=\"/cricket-photo-gallery\" title=\"Photo Gallery\">Photos</a> <a class=\"cb-subnav-item\" target=\"_self\" href=\"/mobileapps\" title=\"Mobile Apps\">Mobile Apps</a><a class=\"cb-subnav-item\" target=\"_self\" href=\"/careers\" title=\"Careers\">Careers</a><a class=\"cb-subnav-item\" target=\"_self\" href=\"/info/contact\" title=\"Contact Us\">Contact Us</a></nav></div> <div ng-controller=\"SearchCtrl\" ng-init=\" init(-1, 61, 76, 350, \\'\\', \\'nav\\')\"> <div class=\"cb-nav-search-wrap\" ng-style=\"{width: inputFocus?\\'830px\\':\\'170px\\'}\"> <div class=\"cb-col-100 cb-col cb-srch-bar cb-srch-bar-nav\"> <form ng-submit=\"search_results(false, false)\" name=\"form\" class=\"cb-search-form\" ng-cloak> <div class=\"cb-search-input-nav\"> <div class=\"cb-search-outer\"> <div class=\"cb-search-input-wrap\"> <input type=\"text\" class=\"js-cb-search-input cb-search-input-elem cb-search-input-elem-nav form-control cb-car-inp cb-srch-bg\" ng-change=\"suggest_search()\" maxlength=\"500\" ng-model=\"searchText\" id=\"search_bar\" name=\"search\" value=\"suggest.title\" autocomplete=\"off\" ng-class=\"{\\'cb-search-input-elem-error-nav\\':errorText, \\'cb-srch-high-zIndex\\':dropdownVisible, \\'cb-srch-input-focus\\':inputFocus}\" placeholder=\"{{errorText?errorText:(source == \\'nav\\' && inputFocus) || source == \\'search-page\\'?\\'Search for Player, Series, Team, News or Video. eg: Windies tour of India\\': \\'Search\\'}}\" ng-keydown=\"onKeyPress($event)\" ng-focus=\"onInputFocus()\" ng-blur=\"loseInputFocus()\" ng-model-options=\"{ debounce: 400 }\"/> <span class=\"cb-ico cb-search-input-icon cb-search-input-icon-nav\"></span> <span class=\"cb-srch-cross-new cb-srch-cross-new-nav cb-font-14\" ng-class=\"{\\'cb-srch-cross-focus\\': inputFocus, \\'cb-srch-high-zIndex\\':dropdownVisible}\" ng-click=\"reset_form(\\'view\\');\" ng-show=\"searchText.length > 0\">â\\x9c\\x96</span> </div> <div ng-show=\"dropdownVisible\" class=\"cb-srch-backdrop\" ng-click=\"hideDropdown()\"></div> <div ng-show=\"dropdownVisible && searchText.length >= 2 && search_ftr_suggst.length > 0\" class=\"cb-main-srch-box-wrap\"> <ul class=\"cb-main-srch-box\" id=\"searchBox_nav\"> <li class=\"cb-main-srch-box-item {{selected_suggestions == $index?\\'highlight\\':\\'\\'}}\" id=\"search_item_{{$index}}\" ng-click=\"search_results()\" ng-repeat=\"suggest in search_ftr_suggst track by $index\" ng-show=\"suggestions && searchText.length > 0 && inputFocus\" ng-mouseover=\"highlight_item_mouse_hover($index)\" ng-class=\"{\\'cb-main-srch-box-item-border\\':suggest.hasBorder, \\'cb-big\\': suggest.isSearchItem}\" > <a ng-if=\"!suggest.isSearchItem\" class=\"text-black cb-srch-suggest-link\"> <div class=\"cb-srch-suggest-img\" ng-class=\"{\\'cb-srch-suggest-img-teams\\': suggest.type == \\'Teams\\'}\"> <div ng-if=\"suggest.imgUrl\" class=\"\"> <img class=\"cb-srch-suggest-icon-img\" ng-src=\"{{suggest.imgUrl}}\" /> </div> <div ng-if=\"!suggest.imgUrl\" class=\"cb-srch-sugggest-icon {{suggest.iconClass}} cb-ico\"> </div> </div> <div class=\"cb-srch-suggest-content\"> <p class=\"cb-srch-suggest-content-title\" ng-bind-html=\"suggest | searchfilter:oldText\"></p> <p class=\"cb-srch-suggest-content-subtitle cb-font-12 cb-text-gray\">{{suggest.tag}}</p> </div> </a> <a ng-if=\"suggest.isSearchItem\" href=\"javascript:void(0)\" class=\"text-black cb-srch-suggest-link\"> <div class=\"cb-srch-suggest-img\"> <div class=\"cb-srch-sugggest-icon cb-srch-sugggest-icon-search cb-ico\"> </div> </div> <div class=\"cb-srch-suggest-content cb-center-text\"> <p class=\"cb-srch-suggest-content-title\">Search for &#8220;<span ng-bind=\"searchText\"></span>&#8221;</p> </div> </a> </li> </ul> </div> </div> </div> <div class=\"cb-search-submit-nav\" ng-class=\"{\\'cb-search-submit-input-focus\\': inputFocus, \\'cb-search-submit-error\\': errorText}\"> <a class=\"text-white cb-srch-bttn\" ng-class=\"{\\'cb-srch-high-zIndex\\':dropdownVisible}\" ng-click=\"search_results(false, true)\">SEARCH</a> </div> </form></div><style>.cb-srch-ico{margin: 0}</style> </div> </div> </nav></div></header><div class=\"page\"><div id=\"fb-root\"></div><div id=\"page-wrapper\" class=\"container\" style=\"display:inline-block;\"><div id=\"shosh\" class=\"ad-unit shosh-embed\" style=\"height:0; width:980px; text-align:center;\"></div><span id=\"skin_left\" class=\"ad-unit\" style=\"overflow:hidden; position:fixed;top:0;left:calc(50% - 635px);margin-right:3px;z-index:-99;\" ></span> <div class=\"html-refresh\" url=\"/api/html/matches-menu\" timeout=\"300000\" disable-first-load=\"true\"><div class=\"cb-col cb-col-100 mrgn-btm-5\"><nav class=\"cb-mat-mnu\" ng-init=\"direction=\\'up\\'\"><a class=\"cb-mat-mnu-itm cb-ovr-flo cb-mat-mnu-ttl\" target=\"_self\" title=\"\" href=\"/cricket-match/live-scores\" id=\"live-scores-link\">MATCHES</a><a class=\"cb-mat-mnu-itm cb-ovr-flo\" title=\"England v India,Match 38 - ENG Won\" href=\"/live-cricket-scores/20274/eng-vs-ind-match-38-icc-cricket-world-cup-2019\" target=\"_self\">ENG vs IND - ENG Won</a><a class=\"cb-mat-mnu-itm cb-ovr-flo\" title=\"New Zealand v Australia,Match 37 - AUS Won\" href=\"/live-cricket-scores/20273/nz-vs-aus-match-37-icc-cricket-world-cup-2019\" target=\"_self\">NZ vs AUS - AUS Won</a><a class=\"cb-mat-mnu-itm cb-ovr-flo\" title=\"Sri Lanka v West Indies,Match 39 - Preview\" href=\"/live-cricket-scores/20275/sl-vs-wi-match-39-icc-cricket-world-cup-2019\" target=\"_self\">SL vs WI - Preview</a><a class=\"cb-mat-mnu-itm cb-ovr-flo\" title=\"Ireland v Zimbabwe,1st ODI - Preview\" href=\"/live-cricket-scores/22232/ire-vs-zim-1st-odi-zimbabwe-tour-of-ireland-2019\" target=\"_self\">IRE vs ZIM - Preview</a><a class=\"cb-mat-mnu-itm cb-ovr-flo\" title=\"Yorkshire v Surrey,County Div 1 - Stumps\" href=\"/live-cricket-scores/21723/yorks-vs-sur-county-div-1-county-championship-division-one-2019\" target=\"_self\">YORKS vs SUR - Stumps</a><span ng-click=\"(direction==\\'up\\')?direction = \\'down\\' : direction = \\'up\\'\"><a class=\"cb-mat-mnu-itm cb-mat-mnu-all\" ng-class =\"{true:\\'cb-mat-mnu-cls\\'}[direction==\\'down\\']\" id=\"match-dropdown\"><span ng-bind=\"(direction==\\'up\\') ? \\'ALL\\': \\'CLOSE\\'\"></span><span ng-class=\"(direction==\\'up\\') ? \\'cb-caret-down\\' : \\'cb-caret-up\\'\"></span></a></span></nav><div id=\"matchmenu\"><div class=\"cb-mm-wrp {{direction}}\"><div class=\"cb-scg-drp-dwn cb-col cb-col-100 cb-mnu-{{direction}}\"><nav class=\"nav cb-mm-nvtb\" ng-init=\"option= \\'all\\'\"><a class=\"cb-nav-pill-2 {{(option==\\'all\\')?\\'active\\':\\'\\'}}\" ng-click=\"option=\\'all\\'\" style=\"margin-right: 20px;\">All</a><a class=\"cb-nav-pill-2 {{(option==\\'live\\')?\\'active\\':\\'\\'}}\" ng-click=\"option=\\'live\\'\" style=\"margin-right: 20px;\">Live Now</a><a class=\"cb-nav-pill-2 {{(option==\\'today\\')?\\'active\\':\\'\\'}}\" ng-click=\"option=\\'today\\'\" style=\"margin-right: 20px;\">Today</a></nav><style>.cb-nt-{{option}}{opacity:0.4!important;}</style><ul class=\"cb-scg-drp-dwn-ul\"><li class=\"cb-lst-mtch cb-lst-dom\"> <div style=\"display:inline-block\"><div class=\"cb-mm-typ\">INTERNATIONAL</div><div class=\"cb-scg-srs-nm\">ICC Cricket WC 2019</div><div class=\"cb-mtch-all cb-nt-live cb-nt-today\"><a target=\"_self\" href=\"/live-cricket-scores/20274/eng-vs-ind-match-38-icc-cricket-world-cup-2019\" title=\"England v India,Match 38 - ENG Won\"><span class=\"cb-mm-mtch-tm\">England vs India</span><span class=\"cb-mm-liv-tag\"></span></a><div class=\"cb-mm-mtch-nm\">Match 38</div></div></div></li><li class=\"cb-lst-mtch cb-lst-dom\"> <div style=\"display:inline-block\"><div class=\"cb-mtch-all cb-nt-live cb-nt-today\"><a target=\"_self\" href=\"/live-cricket-scores/20273/nz-vs-aus-match-37-icc-cricket-world-cup-2019\" title=\"New Zealand v Australia,Match 37 - AUS Won\"><span class=\"cb-mm-mtch-tm\">New Zealand vs Australia</span><span class=\"cb-mm-liv-tag\"></span></a><div class=\"cb-mm-mtch-nm\">Match 37</div></div></div></li><li class=\"cb-lst-mtch cb-lst-dom\"> <div style=\"display:inline-block\"><div class=\"cb-mtch-all cb-nt-live \"><a target=\"_self\" href=\"/live-cricket-scores/20275/sl-vs-wi-match-39-icc-cricket-world-cup-2019\" title=\"Sri Lanka v West Indies,Match 39 - Preview\"><span class=\"cb-mm-mtch-tm\">Sri Lanka vs West Indies</span><span class=\"cb-mm-liv-tag\"></span></a><div class=\"cb-mm-mtch-nm\">Match 39</div></div></div></li><li class=\"cb-lst-mtch cb-lst-dom\"> <div style=\"display:inline-block\"><div class=\"cb-scg-srs-nm\">ZIM tour of IRE</div><div class=\"cb-mtch-all cb-nt-live \"><a target=\"_self\" href=\"/live-cricket-scores/22232/ire-vs-zim-1st-odi-zimbabwe-tour-of-ireland-2019\" title=\"Ireland v Zimbabwe,1st ODI - Preview\"><span class=\"cb-mm-mtch-tm\">Ireland vs Zimbabwe</span><span class=\"cb-mm-liv-tag\"></span></a><div class=\"cb-mm-mtch-nm\">1st ODI</div></div></div></li><li class=\"cb-lst-mtch cb-lst-dom\"> <div style=\"display:inline-block\"><div class=\"cb-mm-typ\">DOMESTIC</div><div class=\"cb-scg-srs-nm\">County Division One</div><div class=\"cb-mtch-all cb-nt-live \"><a target=\"_self\" href=\"/live-cricket-scores/21723/yorks-vs-sur-county-div-1-county-championship-division-one-2019\" title=\"Yorkshire v Surrey,County Div 1 - Stumps\"><span class=\"cb-mm-mtch-tm\">Yorkshire vs Surrey</span><span class=\"cb-mm-liv-tag\"></span></a><div class=\"cb-mm-mtch-nm\">County Div 1</div></div></div></li><li class=\"cb-lst-mtch cb-lst-dom\"> <div style=\"display:inline-block\"><div class=\"cb-mtch-all cb-nt-live \"><a target=\"_self\" href=\"/live-cricket-scores/21715/kent-vs-warks-county-div-1-county-championship-division-one-2019\" title=\"Kent v Warwickshire,County Div 1 - Stumps\"><span class=\"cb-mm-mtch-tm\">Kent vs Warwickshire</span><span class=\"cb-mm-liv-tag\"></span></a><div class=\"cb-mm-mtch-nm\">County Div 1</div></div></div></li><li class=\"cb-lst-mtch cb-lst-dom\"> <div style=\"display:inline-block\"><div class=\"cb-mtch-all cb-nt-live \"><a target=\"_self\" href=\"/live-cricket-scores/21720/som-vs-ham-county-div-1-county-championship-division-one-2019\" title=\"Somerset v Hampshire,County Div 1 - Stumps\"><span class=\"cb-mm-mtch-tm\">Somerset vs Hampshire</span><span class=\"cb-mm-liv-tag\"></span></a><div class=\"cb-mm-mtch-nm\">County Div 1</div></div></div></li><li class=\"cb-lst-mtch cb-lst-dom\"> <div style=\"display:inline-block\"><div class=\"cb-mtch-all cb-nt-live \"><a target=\"_self\" href=\"/live-cricket-scores/21718/notts-vs-ess-county-div-1-county-championship-division-one-2019\" title=\"Nottinghamshire v Essex,County Div 1 - Stumps\"><span class=\"cb-mm-mtch-tm\">Nottinghamshire vs Essex</span><span class=\"cb-mm-liv-tag\"></span></a><div class=\"cb-mm-mtch-nm\">County Div 1</div></div></div></li><li class=\"cb-lst-mtch cb-lst-dom\"> <div style=\"display:inline-block\"><div class=\"cb-scg-srs-nm\">County Division Two</div><div class=\"cb-mtch-all cb-nt-live \"><a target=\"_self\" href=\"/live-cricket-scores/21726/derby-vs-mdx-county-div-2-county-championship-division-two-2019\" title=\"Derbyshire v Middlesex,County Div 2 - Stumps\"><span class=\"cb-mm-mtch-tm\">Derbyshire vs Middlesex</span><span class=\"cb-mm-liv-tag\"></span></a><div class=\"cb-mm-mtch-nm\">County Div 2</div></div></div></li><li class=\"cb-lst-mtch cb-lst-dom\"> <div style=\"display:inline-block\"><div class=\"cb-mtch-all cb-nt-live \"><a target=\"_self\" href=\"/live-cricket-scores/21725/glam-vs-worcs-county-div-2-county-championship-division-two-2019\" title=\"Glamorgan v Worcestershire,County Div 2 - Stumps\"><span class=\"cb-mm-mtch-tm\">Glamorgan vs Worcestershire</span><span class=\"cb-mm-liv-tag\"></span></a><div class=\"cb-mm-mtch-nm\">County Div 2</div></div></div></li><li class=\"cb-lst-mtch cb-lst-dom\"> <div style=\"display:inline-block\"><div class=\"cb-mtch-all cb-nt-live \"><a target=\"_self\" href=\"/live-cricket-scores/21724/sus-vs-nor-county-div-2-county-championship-division-two-2019\" title=\"Sussex v Northamptonshire,County Div 2 - Stumps\"><span class=\"cb-mm-mtch-tm\">Sussex vs Northamptonshire</span><span class=\"cb-mm-liv-tag\"></span></a><div class=\"cb-mm-mtch-nm\">County Div 2</div></div></div></li><li class=\"cb-lst-mtch cb-lst-dom\"> <div style=\"display:inline-block\"><div class=\"cb-mtch-all cb-nt-live \"><a target=\"_self\" href=\"/live-cricket-scores/21722/lancs-vs-dur-county-div-2-county-championship-division-two-2019\" title=\"Lancashire v Durham,County Div 2 - Stumps\"><span class=\"cb-mm-mtch-tm\">Lancashire vs Durham</span><span class=\"cb-mm-liv-tag\"></span></a><div class=\"cb-mm-mtch-nm\">County Div 2</div></div></div></li><li class=\"cb-lst-mtch cb-lst-dom\"> <div style=\"display:inline-block\"><div class=\"cb-scg-srs-nm\">AUS A tour of ENG, 2019</div><div class=\"cb-mtch-all cb-nt-live cb-nt-today\"><a target=\"_self\" href=\"/live-cricket-scores/22384/gloucs-vs-ausa-4th-unofficial-odi-australia-a-tour-of-england-2019\" title=\"Gloucestershire v Australia A,4th unofficial ODI - AUSA Won\"><span class=\"cb-mm-mtch-tm\">Gloucestershire vs Australia A</span><span class=\"cb-mm-liv-tag\"></span></a><div class=\"cb-mm-mtch-nm\">4th unofficial ODI</div></div></div></li><li class=\"cb-lst-mtch cb-lst-dom\"> <div style=\"display:inline-block\"><div class=\"cb-scg-srs-nm\">PAK U19 tour of SA</div><div class=\"cb-mtch-all cb-nt-live cb-nt-today\"><a target=\"_self\" href=\"/live-cricket-scores/22864/rsau19-vs-paku19-4th-youth-odi-pakistan-under-19-tour-of-south-africa-2019\" title=\"South Africa U19 v Pakistan U19,4th Youth ODI - PAKU19 Won\"><span class=\"cb-mm-mtch-tm\">South Africa U19 vs Pakistan U19</span><span class=\"cb-mm-liv-tag\"></span></a><div class=\"cb-mm-mtch-nm\">4th Youth ODI</div></div></div></li></ul></div></div></div></div></div> <div id=\"strip_wrapper\" class=\"cb-col cb-col-100\"><div id=\"large_strip\" class=\"pull-left ad-unit\"></div><div id=\"small_strip\" class=\"pull-right ad-unit\"></div><div id=\"super_strip\" class=\"pull-left ad-unit\"></div></div><div class=\"cb-nav-main cb-col-100 cb-col cb-bg-white\"><nav class=\"cb-nav-bar\" role=\"navigation\"><a class=\"cb-nav-tab active\" href=\"/cricket-match/live-scores\" title=\"Cricbuzz Live Scores\" target=\"_self\">Current Matches</a><a class=\"cb-nav-tab \" href=\"/cricket-schedule/series\" title=\"Series Schedule\" target=\"_self\">Current & Future Series</a><a class=\"cb-nav-tab \" href=\"/cricket-schedule/upcoming-series/international\" title=\"Cricket Schedule\" target=\"_self\">Matches By Day</a><a class=\"cb-nav-tab \" href=\"/cricket-team\" title=\"Teams Schedule\" target=\"_self\">Teams</a><a class=\"cb-nav-tab \" href=\"/cricket-scorecard-archives\" title=\"Cricket Scorecard Archives\" target=\"_self\">Series Archive</a></nav></div><div class=\\'cb-bg-white cb-col-100 cb-col\\'><div class=\" cb-col-67 cb-col cb-left cb-schdl\" ><h1 class=\\'cb-schdl-hdr cb-font-24 line-ht30\\'>Live Cricket Score</h1><nav class=\"cb-font-12 cb-schdl-nvtb\" gtm-label=\"live scores\"><a class=\"cb-nav-pill-1 active\" id=\"All-tab\" href=\"/cricket-match/live-scores\">All</a><a class=\"cb-nav-pill-1 \" id=\"Domestic-tab\" href=\"/scores-home-domestic\">Domestic & Others</a></nav><div class=\"cb-col cb-col-100 cb-lv-main\"><h2 class=\"cb-lv-grn-strip text-bold cb-lv-scr-mtch-hdr\" title=\"ICC Cricket World Cup 2019\">ICC CRICKET WORLD CUP 2019</h2><div class=\"cb-mtch-lst cb-col cb-col-100 cb-tms-itm\"><div class=\"cb-col-100 cb-col cb-schdl\"><h3 class=\"cb-lv-scr-mtch-hdr inline-block\"><a class=\"text-hvr-underline text-bold\" href=\"/live-cricket-scores/20274/eng-vs-ind-match-38-icc-cricket-world-cup-2019\" title=\"England vs India\">England vs India,</a></h3><span class=\"text-gray\">&nbsp;Match 38</span><div class=\"text-gray\"><span class=\"schedule-date\" timestamp=\"1561887000000\" format=\"MMM dd\\'\"></span><span>&nbsp;&#8226;&nbsp;</span><span ng-bind =\"1561887000000 |date:\\'h:mm a\\'\"></span><span class=\"text-gray\"> at Edgbaston, Birmingham</span></div></div><div class=\"cb-col-100 cb-col cb-schdl\"><a class=\"cb-lv-scrs-well cb-lv-scrs-well-complete\" href=\"/live-cricket-scores/20274/eng-vs-ind-match-38-icc-cricket-world-cup-2019\" title=\"England vs India Match 38\"> <div class=\"cb-col\"> <div class=\"cb-scr-wll-chvrn\"> <div class=\"cb-lv-scrs-col text-black\"><span class=\\'text-bold\\'>IND</span> 306/5 (50.0 Ovs) <span class=\\'cb-series-sch-dot\\'>&nbsp;&#8226;&nbsp;</span> <span class=\\'text-bold\\'>ENG</span> 337/7 (50.0 Ovs)</div> <div class=\"cb-lv-scrs-col cb-text-complete\">England won by 31 runs</div> </div> <div class=\"cb-scr-wll-chvrn\"> <div class=\"cb-ico cb-lv-scr-chvrn-bg\"></div> </div> </div> </a></div><nav class=\"cb-col-100 cb-col padt5\"><a href=\"/live-cricket-scores/20274/eng-vs-ind-match-38-icc-cricket-world-cup-2019\" class=\"cb-text-link cb-mtch-lnks\">Live Score</a><a href=\"/live-cricket-scorecard/20274/eng-vs-ind-match-38-icc-cricket-world-cup-2019\" class=\"cb-text-link cb-mtch-lnks\">Scorecard</a><a href=\"/cricket-full-commentary/20274/eng-vs-ind-match-38-icc-cricket-world-cup-2019\" class=\"cb-text-link cb-mtch-lnks\">Full Commentary</a><a href=\"/cricket-match-news/20274/eng-vs-ind-match-38-icc-cricket-world-cup-2019\" class=\"cb-text-link cb-mtch-lnks\">News</a></nav></div></div><div class=\"cb-col cb-col-100 cb-lv-main\"><div class=\"cb-mtch-lst cb-col cb-col-100 cb-tms-itm\"><div class=\"cb-col-100 cb-col cb-schdl\"><h3 class=\"cb-lv-scr-mtch-hdr inline-block\"><a class=\"text-hvr-underline text-bold\" href=\"/live-cricket-scores/20273/nz-vs-aus-match-37-icc-cricket-world-cup-2019\" title=\"New Zealand vs Australia\">New Zealand vs Australia,</a></h3><span class=\"text-gray\">&nbsp;Match 37</span><div class=\"text-gray\"><span class=\"schedule-date\" timestamp=\"1561811400000\" format=\"MMM dd\\'\"></span><span>&nbsp;&#8226;&nbsp;</span><span ng-bind =\"1561811400000 |date:\\'h:mm a\\'\"></span><span class=\"text-gray\"> at Lord\\'s, London</span></div></div><div class=\"cb-col-100 cb-col cb-schdl\"><a class=\"cb-lv-scrs-well cb-lv-scrs-well-complete\" href=\"/live-cricket-scores/20273/nz-vs-aus-match-37-icc-cricket-world-cup-2019\" title=\"New Zealand vs Australia Match 37\"> <div class=\"cb-col\"> <div class=\"cb-scr-wll-chvrn\"> <div class=\"cb-lv-scrs-col text-black\"><span class=\\'text-bold\\'>NZ</span> 157-all out (43.4 Ovs) <span class=\\'cb-series-sch-dot\\'>&nbsp;&#8226;&nbsp;</span> <span class=\\'text-bold\\'>AUS</span> 243/9 (50.0 Ovs)</div> <div class=\"cb-lv-scrs-col cb-text-complete\">Australia won by 86 runs</div> </div> <div class=\"cb-scr-wll-chvrn\"> <div class=\"cb-ico cb-lv-scr-chvrn-bg\"></div> </div> </div> </a></div><nav class=\"cb-col-100 cb-col padt5\"><a href=\"/live-cricket-scores/20273/nz-vs-aus-match-37-icc-cricket-world-cup-2019\" class=\"cb-text-link cb-mtch-lnks\">Live Score</a><a href=\"/live-cricket-scorecard/20273/nz-vs-aus-match-37-icc-cricket-world-cup-2019\" class=\"cb-text-link cb-mtch-lnks\">Scorecard</a><a href=\"/cricket-full-commentary/20273/nz-vs-aus-match-37-icc-cricket-world-cup-2019\" class=\"cb-text-link cb-mtch-lnks\">Full Commentary</a><a href=\"/cricket-match-news/20273/nz-vs-aus-match-37-icc-cricket-world-cup-2019\" class=\"cb-text-link cb-mtch-lnks\">News</a></nav></div></div><div class=\"cb-col cb-col-100 cb-lv-main\"><div class=\"cb-mtch-lst cb-col cb-col-100 cb-tms-itm\"><div class=\"cb-col-100 cb-col cb-schdl\"><h3 class=\"cb-lv-scr-mtch-hdr inline-block\"><a class=\"text-hvr-underline text-bold\" href=\"/live-cricket-scores/20275/sl-vs-wi-match-39-icc-cricket-world-cup-2019\" title=\"Sri Lanka vs West Indies\">Sri Lanka vs West Indies,</a></h3><span class=\"text-gray\">&nbsp;Match 39</span><div class=\"text-gray\"><span class=\"schedule-date\" timestamp=\"1561973400000\" format=\"MMM dd\\'\"></span><span>&nbsp;&#8226;&nbsp;</span><span ng-bind =\"1561973400000 |date:\\'h:mm a\\'\"></span><span class=\"text-gray\"> at Riverside Ground, Chester-le-Street</span></div></div><div class=\"cb-col-100 cb-col cb-schdl\"><a class=\"cb-lv-scrs-well cb-lv-scrs-well-preview\" href=\"/live-cricket-scores/20275/sl-vs-wi-match-39-icc-cricket-world-cup-2019\" title=\"Sri Lanka vs West Indies Match 39\"> <span class=\"cb-text-preview\">Read Preview</span> <span class=\" cb-ico cb-lv-scr-chvrn-sml\"></span> </a></div><nav class=\"cb-col-100 cb-col padt5\"><a href=\"/cricket-match-facts/20275/sl-vs-wi-match-39-icc-cricket-world-cup-2019\" class=\"cb-text-link cb-mtch-lnks\">Match Facts</a><a href=\"/cricket-match-news/20275/sl-vs-wi-match-39-icc-cricket-world-cup-2019\" class=\"cb-text-link cb-mtch-lnks\">News</a></nav></div></div><div class=\"cb-col cb-col-100 cb-lv-main\"><h2 class=\"cb-lv-grn-strip text-bold cb-lv-scr-mtch-hdr\" title=\"Zimbabwe tour of Ireland, 2019\">ZIMBABWE TOUR OF IRELAND, 2019</h2><div class=\"cb-mtch-lst cb-col cb-col-100 cb-tms-itm\"><div class=\"cb-col-100 cb-col cb-schdl\"><h3 class=\"cb-lv-scr-mtch-hdr inline-block\"><a class=\"text-hvr-underline text-bold\" href=\"/live-cricket-scores/22232/ire-vs-zim-1st-odi-zimbabwe-tour-of-ireland-2019\" title=\"Ireland vs Zimbabwe\">Ireland vs Zimbabwe,</a></h3><span class=\"text-gray\">&nbsp;1st ODI</span><div class=\"text-gray\"><span class=\"schedule-date\" timestamp=\"1561974300000\" format=\"MMM dd\\'\"></span><span>&nbsp;&#8226;&nbsp;</span><span ng-bind =\"1561974300000 |date:\\'h:mm a\\'\"></span><span class=\"text-gray\"> at Bready Cricket Club, Bready, Northern Ireland</span></div></div><div class=\"cb-col-100 cb-col cb-schdl\"><a class=\"cb-lv-scrs-well cb-lv-scrs-well-preview\" href=\"/live-cricket-scores/22232/ire-vs-zim-1st-odi-zimbabwe-tour-of-ireland-2019\" title=\"Ireland vs Zimbabwe 1st ODI\"> <span class=\"cb-text-preview\">Read Preview</span> <span class=\" cb-ico cb-lv-scr-chvrn-sml\"></span> </a></div><nav class=\"cb-col-100 cb-col padt5\"><a href=\"/cricket-match-facts/22232/ire-vs-zim-1st-odi-zimbabwe-tour-of-ireland-2019\" class=\"cb-text-link cb-mtch-lnks\">Match Facts</a><a href=\"/cricket-match-news/22232/ire-vs-zim-1st-odi-zimbabwe-tour-of-ireland-2019\" class=\"cb-text-link cb-mtch-lnks\">News</a></nav></div></div><div class=\"cb-col cb-col-100 cb-lv-main\"><h2 class=\"cb-lv-grn-strip text-bold cb-lv-scr-mtch-hdr\" title=\"County Championship Division One 2019\">COUNTY CHAMPIONSHIP DIVISION ONE 2019</h2><div class=\"cb-mtch-lst cb-col cb-col-100 cb-tms-itm\"><div class=\"cb-col-100 cb-col cb-schdl\"><h3 class=\"cb-lv-scr-mtch-hdr inline-block\"><a class=\"text-hvr-underline text-bold\" href=\"/live-cricket-scores/21723/yorks-vs-sur-county-div-1-county-championship-division-one-2019\" title=\"Yorkshire vs Surrey\">Yorkshire vs Surrey,</a></h3><span class=\"text-gray\">&nbsp;County Div 1</span><div class=\"text-gray\"><span class=\"schedule-date\" timestamp=\"1561888800000\" format=\"MMM dd\\'\"></span><span> - </span><span class=\"schedule-date\" timestamp=\"1562112000000\" format=\"MMM dd\\'\"></span><span>&nbsp;&#8226;&nbsp;</span><span ng-bind =\"1561888800000 |date:\\'h:mm a\\'\"></span><span class=\"text-gray\"> at North Marine Road Ground, Scarborough</span></div></div><div class=\"cb-col-100 cb-col cb-schdl\"><a class=\"cb-lv-scrs-well cb-lv-scrs-well-live\" href=\"/live-cricket-scores/21723/yorks-vs-sur-county-div-1-county-championship-division-one-2019\" title=\"Yorkshire vs Surrey County Div 1\"> <div class=\"cb-col\"> <div class=\"cb-scr-wll-chvrn\"> <div class=\"cb-lv-scrs-col text-black\"><span class=\\'text-bold\\'>SUR</span> 48/0 (14.0 Ovs) <span class=\\'cb-series-sch-dot\\'>&nbsp;&#8226;&nbsp;</span> <span class=\\'text-bold\\'>YORKS</span> 327</div> <div class=\"cb-lv-scrs-col cb-text-live\">Day 1: Stumps - Surrey trail by 279 runs</div> </div> <div class=\"cb-scr-wll-chvrn\"> <div class=\"cb-ico cb-lv-scr-chvrn-bg\"></div> </div> </div> </a></div><nav class=\"cb-col-100 cb-col padt5\"><a href=\"/live-cricket-scores/21723/yorks-vs-sur-county-div-1-county-championship-division-one-2019\" class=\"cb-text-link cb-mtch-lnks\">Live Score</a><a href=\"/live-cricket-scorecard/21723/yorks-vs-sur-county-div-1-county-championship-division-one-2019\" class=\"cb-text-link cb-mtch-lnks\">Scorecard</a><a href=\"/cricket-full-commentary/21723/yorks-vs-sur-county-div-1-county-championship-division-one-2019\" class=\"cb-text-link cb-mtch-lnks\">Full Commentary</a><a href=\"/cricket-match-news/21723/yorks-vs-sur-county-div-1-county-championship-division-one-2019\" class=\"cb-text-link cb-mtch-lnks\">News</a></nav></div></div><div class=\"cb-col cb-col-100 cb-lv-main\"><div class=\"cb-mtch-lst cb-col cb-col-100 cb-tms-itm\"><div class=\"cb-col-100 cb-col cb-schdl\"><h3 class=\"cb-lv-scr-mtch-hdr inline-block\"><a class=\"text-hvr-underline text-bold\" href=\"/live-cricket-scores/21715/kent-vs-warks-county-div-1-county-championship-division-one-2019\" title=\"Kent vs Warwickshire\">Kent vs Warwickshire,</a></h3><span class=\"text-gray\">&nbsp;County Div 1</span><div class=\"text-gray\"><span class=\"schedule-date\" timestamp=\"1561888800000\" format=\"MMM dd\\'\"></span><span> - </span><span class=\"schedule-date\" timestamp=\"1562112000000\" format=\"MMM dd\\'\"></span><span>&nbsp;&#8226;&nbsp;</span><span ng-bind =\"1561888800000 |date:\\'h:mm a\\'\"></span><span class=\"text-gray\"> at St Lawrence Ground, Canterbury</span></div></div><div class=\"cb-col-100 cb-col cb-schdl\"><a class=\"cb-lv-scrs-well cb-lv-scrs-well-live\" href=\"/live-cricket-scores/21715/kent-vs-warks-county-div-1-county-championship-division-one-2019\" title=\"Kent vs Warwickshire County Div 1\"> <div class=\"cb-col\"> <div class=\"cb-scr-wll-chvrn\"> <div class=\"cb-lv-scrs-col text-black\"><span class=\\'text-bold\\'>KENT</span> 338/2 (96.0 Ovs) <span class=\\'cb-series-sch-dot\\'>&nbsp;&#8226;&nbsp;</span> <span class=\\'text-bold\\'>WARKS</span> </div> <div class=\"cb-lv-scrs-col cb-text-live\">Day 1: Stumps</div> </div> <div class=\"cb-scr-wll-chvrn\"> <div class=\"cb-ico cb-lv-scr-chvrn-bg\"></div> </div> </div> </a></div><nav class=\"cb-col-100 cb-col padt5\"><a href=\"/live-cricket-scores/21715/kent-vs-warks-county-div-1-county-championship-division-one-2019\" class=\"cb-text-link cb-mtch-lnks\">Live Score</a><a href=\"/live-cricket-scorecard/21715/kent-vs-warks-county-div-1-county-championship-division-one-2019\" class=\"cb-text-link cb-mtch-lnks\">Scorecard</a><a href=\"/cricket-full-commentary/21715/kent-vs-warks-county-div-1-county-championship-division-one-2019\" class=\"cb-text-link cb-mtch-lnks\">Full Commentary</a><a href=\"/cricket-match-news/21715/kent-vs-warks-county-div-1-county-championship-division-one-2019\" class=\"cb-text-link cb-mtch-lnks\">News</a></nav></div></div><div class=\"cb-col cb-col-100 cb-lv-main\"><div class=\"cb-mtch-lst cb-col cb-col-100 cb-tms-itm\"><div class=\"cb-col-100 cb-col cb-schdl\"><h3 class=\"cb-lv-scr-mtch-hdr inline-block\"><a class=\"text-hvr-underline text-bold\" href=\"/live-cricket-scores/21720/som-vs-ham-county-div-1-county-championship-division-one-2019\" title=\"Somerset vs Hampshire\">Somerset vs Hampshire,</a></h3><span class=\"text-gray\">&nbsp;County Div 1</span><div class=\"text-gray\"><span class=\"schedule-date\" timestamp=\"1561888800000\" format=\"MMM dd\\'\"></span><span> - </span><span class=\"schedule-date\" timestamp=\"1562112000000\" format=\"MMM dd\\'\"></span><span>&nbsp;&#8226;&nbsp;</span><span ng-bind =\"1561888800000 |date:\\'h:mm a\\'\"></span><span class=\"text-gray\"> at The Cooper Associates County Ground, Taunton</span></div></div><div class=\"cb-col-100 cb-col cb-schdl\"><a class=\"cb-lv-scrs-well cb-lv-scrs-well-live\" href=\"/live-cricket-scores/21720/som-vs-ham-county-div-1-county-championship-division-one-2019\" title=\"Somerset vs Hampshire County Div 1\"> <div class=\"cb-col\"> <div class=\"cb-scr-wll-chvrn\"> <div class=\"cb-lv-scrs-col text-black\"><span class=\\'text-bold\\'>HAM</span> 15/1 (6.0 Ovs) <span class=\\'cb-series-sch-dot\\'>&nbsp;&#8226;&nbsp;</span> <span class=\\'text-bold\\'>SOM</span> 408</div> <div class=\"cb-lv-scrs-col cb-text-live\">Day 1: Stumps - Hampshire trail by 393 runs</div> </div> <div class=\"cb-scr-wll-chvrn\"> <div class=\"cb-ico cb-lv-scr-chvrn-bg\"></div> </div> </div> </a></div><nav class=\"cb-col-100 cb-col padt5\"><a href=\"/live-cricket-scores/21720/som-vs-ham-county-div-1-county-championship-division-one-2019\" class=\"cb-text-link cb-mtch-lnks\">Live Score</a><a href=\"/live-cricket-scorecard/21720/som-vs-ham-county-div-1-county-championship-division-one-2019\" class=\"cb-text-link cb-mtch-lnks\">Scorecard</a><a href=\"/cricket-full-commentary/21720/som-vs-ham-county-div-1-county-championship-division-one-2019\" class=\"cb-text-link cb-mtch-lnks\">Full Commentary</a><a href=\"/cricket-match-news/21720/som-vs-ham-county-div-1-county-championship-division-one-2019\" class=\"cb-text-link cb-mtch-lnks\">News</a></nav></div></div><div class=\"cb-col cb-col-100 cb-lv-main\"><div class=\"cb-mtch-lst cb-col cb-col-100 cb-tms-itm\"><div class=\"cb-col-100 cb-col cb-schdl\"><h3 class=\"cb-lv-scr-mtch-hdr inline-block\"><a class=\"text-hvr-underline text-bold\" href=\"/live-cricket-scores/21718/notts-vs-ess-county-div-1-county-championship-division-one-2019\" title=\"Nottinghamshire vs Essex\">Nottinghamshire vs Essex,</a></h3><span class=\"text-gray\">&nbsp;County Div 1</span><div class=\"text-gray\"><span class=\"schedule-date\" timestamp=\"1561888800000\" format=\"MMM dd\\'\"></span><span> - </span><span class=\"schedule-date\" timestamp=\"1562112000000\" format=\"MMM dd\\'\"></span><span>&nbsp;&#8226;&nbsp;</span><span ng-bind =\"1561888800000 |date:\\'h:mm a\\'\"></span><span class=\"text-gray\"> at Trent Bridge, Nottingham</span></div></div><div class=\"cb-col-100 cb-col cb-schdl\"><a class=\"cb-lv-scrs-well cb-lv-scrs-well-live\" href=\"/live-cricket-scores/21718/notts-vs-ess-county-div-1-county-championship-division-one-2019\" title=\"Nottinghamshire vs Essex County Div 1\"> <div class=\"cb-col\"> <div class=\"cb-scr-wll-chvrn\"> <div class=\"cb-lv-scrs-col text-black\"><span class=\\'text-bold\\'>ESS</span> 72/1 (24.0 Ovs) <span class=\\'cb-series-sch-dot\\'>&nbsp;&#8226;&nbsp;</span> <span class=\\'text-bold\\'>NOTTS</span> 213</div> <div class=\"cb-lv-scrs-col cb-text-live\">Day 1: Stumps - Essex trail by 141 runs</div> </div> <div class=\"cb-scr-wll-chvrn\"> <div class=\"cb-ico cb-lv-scr-chvrn-bg\"></div> </div> </div> </a></div><nav class=\"cb-col-100 cb-col padt5\"><a href=\"/live-cricket-scores/21718/notts-vs-ess-county-div-1-county-championship-division-one-2019\" class=\"cb-text-link cb-mtch-lnks\">Live Score</a><a href=\"/live-cricket-scorecard/21718/notts-vs-ess-county-div-1-county-championship-division-one-2019\" class=\"cb-text-link cb-mtch-lnks\">Scorecard</a><a href=\"/cricket-full-commentary/21718/notts-vs-ess-county-div-1-county-championship-division-one-2019\" class=\"cb-text-link cb-mtch-lnks\">Full Commentary</a><a href=\"/cricket-match-news/21718/notts-vs-ess-county-div-1-county-championship-division-one-2019\" class=\"cb-text-link cb-mtch-lnks\">News</a></nav></div></div><div class=\"cb-col cb-col-100 cb-lv-main\"><h2 class=\"cb-lv-grn-strip text-bold cb-lv-scr-mtch-hdr\" title=\"County Championship Division Two 2019\">COUNTY CHAMPIONSHIP DIVISION TWO 2019</h2><div class=\"cb-mtch-lst cb-col cb-col-100 cb-tms-itm\"><div class=\"cb-col-100 cb-col cb-schdl\"><h3 class=\"cb-lv-scr-mtch-hdr inline-block\"><a class=\"text-hvr-underline text-bold\" href=\"/live-cricket-scores/21726/derby-vs-mdx-county-div-2-county-championship-division-two-2019\" title=\"Derbyshire vs Middlesex\">Derbyshire vs Middlesex,</a></h3><span class=\"text-gray\">&nbsp;County Div 2</span><div class=\"text-gray\"><span class=\"schedule-date\" timestamp=\"1561888800000\" format=\"MMM dd\\'\"></span><span> - </span><span class=\"schedule-date\" timestamp=\"1562112000000\" format=\"MMM dd\\'\"></span><span>&nbsp;&#8226;&nbsp;</span><span ng-bind =\"1561888800000 |date:\\'h:mm a\\'\"></span><span class=\"text-gray\"> at County Ground, Derby</span></div></div><div class=\"cb-col-100 cb-col cb-schdl\"><a class=\"cb-lv-scrs-well cb-lv-scrs-well-live\" href=\"/live-cricket-scores/21726/derby-vs-mdx-county-div-2-county-championship-division-two-2019\" title=\"Derbyshire vs Middlesex County Div 2\"> <div class=\"cb-col\"> <div class=\"cb-scr-wll-chvrn\"> <div class=\"cb-lv-scrs-col text-black\"><span class=\\'text-bold\\'>DERBY</span> 372/4 (96.0 Ovs) <span class=\\'cb-series-sch-dot\\'>&nbsp;&#8226;&nbsp;</span> <span class=\\'text-bold\\'>MDX</span> </div> <div class=\"cb-lv-scrs-col cb-text-live\">Day 1: Stumps</div> </div> <div class=\"cb-scr-wll-chvrn\"> <div class=\"cb-ico cb-lv-scr-chvrn-bg\"></div> </div> </div> </a></div><nav class=\"cb-col-100 cb-col padt5\"><a href=\"/live-cricket-scores/21726/derby-vs-mdx-county-div-2-county-championship-division-two-2019\" class=\"cb-text-link cb-mtch-lnks\">Live Score</a><a href=\"/live-cricket-scorecard/21726/derby-vs-mdx-county-div-2-county-championship-division-two-2019\" class=\"cb-text-link cb-mtch-lnks\">Scorecard</a><a href=\"/cricket-full-commentary/21726/derby-vs-mdx-county-div-2-county-championship-division-two-2019\" class=\"cb-text-link cb-mtch-lnks\">Full Commentary</a><a href=\"/cricket-match-news/21726/derby-vs-mdx-county-div-2-county-championship-division-two-2019\" class=\"cb-text-link cb-mtch-lnks\">News</a></nav></div></div><div class=\"cb-col cb-col-100 cb-lv-main\"><div class=\"cb-mtch-lst cb-col cb-col-100 cb-tms-itm\"><div class=\"cb-col-100 cb-col cb-schdl\"><h3 class=\"cb-lv-scr-mtch-hdr inline-block\"><a class=\"text-hvr-underline text-bold\" href=\"/live-cricket-scores/21725/glam-vs-worcs-county-div-2-county-championship-division-two-2019\" title=\"Glamorgan vs Worcestershire\">Glamorgan vs Worcestershire,</a></h3><span class=\"text-gray\">&nbsp;County Div 2</span><div class=\"text-gray\"><span class=\"schedule-date\" timestamp=\"1561888800000\" format=\"MMM dd\\'\"></span><span> - </span><span class=\"schedule-date\" timestamp=\"1562112000000\" format=\"MMM dd\\'\"></span><span>&nbsp;&#8226;&nbsp;</span><span ng-bind =\"1561888800000 |date:\\'h:mm a\\'\"></span><span class=\"text-gray\"> at Sophia Gardens, Cardiff</span></div></div><div class=\"cb-col-100 cb-col cb-schdl\"><a class=\"cb-lv-scrs-well cb-lv-scrs-well-live\" href=\"/live-cricket-scores/21725/glam-vs-worcs-county-div-2-county-championship-division-two-2019\" title=\"Glamorgan vs Worcestershire County Div 2\"> <div class=\"cb-col\"> <div class=\"cb-scr-wll-chvrn\"> <div class=\"cb-lv-scrs-col text-black\"><span class=\\'text-bold\\'>GLAM</span> 354/6 (96.0 Ovs) <span class=\\'cb-series-sch-dot\\'>&nbsp;&#8226;&nbsp;</span> <span class=\\'text-bold\\'>WORCS</span> </div> <div class=\"cb-lv-scrs-col cb-text-live\">Day 1: Stumps</div> </div> <div class=\"cb-scr-wll-chvrn\"> <div class=\"cb-ico cb-lv-scr-chvrn-bg\"></div> </div> </div> </a></div><nav class=\"cb-col-100 cb-col padt5\"><a href=\"/live-cricket-scores/21725/glam-vs-worcs-county-div-2-county-championship-division-two-2019\" class=\"cb-text-link cb-mtch-lnks\">Live Score</a><a href=\"/live-cricket-scorecard/21725/glam-vs-worcs-county-div-2-county-championship-division-two-2019\" class=\"cb-text-link cb-mtch-lnks\">Scorecard</a><a href=\"/cricket-full-commentary/21725/glam-vs-worcs-county-div-2-county-championship-division-two-2019\" class=\"cb-text-link cb-mtch-lnks\">Full Commentary</a><a href=\"/cricket-match-news/21725/glam-vs-worcs-county-div-2-county-championship-division-two-2019\" class=\"cb-text-link cb-mtch-lnks\">News</a></nav></div></div><div class=\"cb-col cb-col-100 cb-lv-main\"><div class=\"cb-mtch-lst cb-col cb-col-100 cb-tms-itm\"><div class=\"cb-col-100 cb-col cb-schdl\"><h3 class=\"cb-lv-scr-mtch-hdr inline-block\"><a class=\"text-hvr-underline text-bold\" href=\"/live-cricket-scores/21724/sus-vs-nor-county-div-2-county-championship-division-two-2019\" title=\"Sussex vs Northamptonshire\">Sussex vs Northamptonshire,</a></h3><span class=\"text-gray\">&nbsp;County Div 2</span><div class=\"text-gray\"><span class=\"schedule-date\" timestamp=\"1561888800000\" format=\"MMM dd\\'\"></span><span> - </span><span class=\"schedule-date\" timestamp=\"1562112000000\" format=\"MMM dd\\'\"></span><span>&nbsp;&#8226;&nbsp;</span><span ng-bind =\"1561888800000 |date:\\'h:mm a\\'\"></span><span class=\"text-gray\"> at County Ground, Hove</span></div></div><div class=\"cb-col-100 cb-col cb-schdl\"><a class=\"cb-lv-scrs-well cb-lv-scrs-well-live\" href=\"/live-cricket-scores/21724/sus-vs-nor-county-div-2-county-championship-division-two-2019\" title=\"Sussex vs Northamptonshire County Div 2\"> <div class=\"cb-col\"> <div class=\"cb-scr-wll-chvrn\"> <div class=\"cb-lv-scrs-col text-black\"><span class=\\'text-bold\\'>SUS</span> 7/2 (7.0 Ovs) <span class=\\'cb-series-sch-dot\\'>&nbsp;&#8226;&nbsp;</span> <span class=\\'text-bold\\'>NOR</span> 273</div> <div class=\"cb-lv-scrs-col cb-text-live\">Day 1: Stumps - Sussex trail by 266 runs</div> </div> <div class=\"cb-scr-wll-chvrn\"> <div class=\"cb-ico cb-lv-scr-chvrn-bg\"></div> </div> </div> </a></div><nav class=\"cb-col-100 cb-col padt5\"><a href=\"/live-cricket-scores/21724/sus-vs-nor-county-div-2-county-championship-division-two-2019\" class=\"cb-text-link cb-mtch-lnks\">Live Score</a><a href=\"/live-cricket-scorecard/21724/sus-vs-nor-county-div-2-county-championship-division-two-2019\" class=\"cb-text-link cb-mtch-lnks\">Scorecard</a><a href=\"/cricket-full-commentary/21724/sus-vs-nor-county-div-2-county-championship-division-two-2019\" class=\"cb-text-link cb-mtch-lnks\">Full Commentary</a><a href=\"/cricket-match-news/21724/sus-vs-nor-county-div-2-county-championship-division-two-2019\" class=\"cb-text-link cb-mtch-lnks\">News</a></nav></div></div><div class=\"cb-col cb-col-100 cb-lv-main\"><div class=\"cb-mtch-lst cb-col cb-col-100 cb-tms-itm\"><div class=\"cb-col-100 cb-col cb-schdl\"><h3 class=\"cb-lv-scr-mtch-hdr inline-block\"><a class=\"text-hvr-underline text-bold\" href=\"/live-cricket-scores/21722/lancs-vs-dur-county-div-2-county-championship-division-two-2019\" title=\"Lancashire vs Durham\">Lancashire vs Durham,</a></h3><span class=\"text-gray\">&nbsp;County Div 2</span><div class=\"text-gray\"><span class=\"schedule-date\" timestamp=\"1561888800000\" format=\"MMM dd\\'\"></span><span> - </span><span class=\"schedule-date\" timestamp=\"1562112000000\" format=\"MMM dd\\'\"></span><span>&nbsp;&#8226;&nbsp;</span><span ng-bind =\"1561888800000 |date:\\'h:mm a\\'\"></span><span class=\"text-gray\"> at Sedbergh School Ground, Sedbergh</span></div></div><div class=\"cb-col-100 cb-col cb-schdl\"><a class=\"cb-lv-scrs-well cb-lv-scrs-well-live\" href=\"/live-cricket-scores/21722/lancs-vs-dur-county-div-2-county-championship-division-two-2019\" title=\"Lancashire vs Durham County Div 2\"> <div class=\"cb-col\"> <div class=\"cb-scr-wll-chvrn\"> <div class=\"cb-lv-scrs-col text-black\"><span class=\\'text-bold\\'>LANCS</span> 275/5 (96.0 Ovs) <span class=\\'cb-series-sch-dot\\'>&nbsp;&#8226;&nbsp;</span> <span class=\\'text-bold\\'>DUR</span> </div> <div class=\"cb-lv-scrs-col cb-text-live\">Day 1: Stumps</div> </div> <div class=\"cb-scr-wll-chvrn\"> <div class=\"cb-ico cb-lv-scr-chvrn-bg\"></div> </div> </div> </a></div><nav class=\"cb-col-100 cb-col padt5\"><a href=\"/live-cricket-scores/21722/lancs-vs-dur-county-div-2-county-championship-division-two-2019\" class=\"cb-text-link cb-mtch-lnks\">Live Score</a><a href=\"/live-cricket-scorecard/21722/lancs-vs-dur-county-div-2-county-championship-division-two-2019\" class=\"cb-text-link cb-mtch-lnks\">Scorecard</a><a href=\"/cricket-full-commentary/21722/lancs-vs-dur-county-div-2-county-championship-division-two-2019\" class=\"cb-text-link cb-mtch-lnks\">Full Commentary</a><a href=\"/cricket-match-news/21722/lancs-vs-dur-county-div-2-county-championship-division-two-2019\" class=\"cb-text-link cb-mtch-lnks\">News</a></nav></div></div><div class=\"cb-col cb-col-100 cb-lv-main\"><h2 class=\"cb-lv-grn-strip text-bold cb-lv-scr-mtch-hdr\" title=\"Australia A tour of England, 2019\">AUSTRALIA A TOUR OF ENGLAND, 2019</h2><div class=\"cb-mtch-lst cb-col cb-col-100 cb-tms-itm\"><div class=\"cb-col-100 cb-col cb-schdl\"><h3 class=\"cb-lv-scr-mtch-hdr inline-block\"><a class=\"text-hvr-underline text-bold\" href=\"/live-cricket-scores/22384/gloucs-vs-ausa-4th-unofficial-odi-australia-a-tour-of-england-2019\" title=\"Gloucestershire vs Australia A\">Gloucestershire vs Australia A,</a></h3><span class=\"text-gray\">&nbsp;4th unofficial ODI</span><div class=\"text-gray\"><span class=\"schedule-date\" timestamp=\"1561888800000\" format=\"MMM dd\\'\"></span><span>&nbsp;&#8226;&nbsp;</span><span ng-bind =\"1561888800000 |date:\\'h:mm a\\'\"></span><span class=\"text-gray\"> at County Ground, Bristol</span></div></div><div class=\"cb-col-100 cb-col cb-schdl\"><a class=\"cb-lv-scrs-well cb-lv-scrs-well-complete\" href=\"/live-cricket-scores/22384/gloucs-vs-ausa-4th-unofficial-odi-australia-a-tour-of-england-2019\" title=\"Gloucestershire vs Australia A 4th unofficial ODI\"> <div class=\"cb-col\"> <div class=\"cb-scr-wll-chvrn\"> <div class=\"cb-lv-scrs-col text-black\"><span class=\\'text-bold\\'>AUSA</span> 247/5 (42.1 Ovs) <span class=\\'cb-series-sch-dot\\'>&nbsp;&#8226;&nbsp;</span> <span class=\\'text-bold\\'>GLOUCS</span> 246/8 (50.0 Ovs)</div> <div class=\"cb-lv-scrs-col cb-text-complete\">Australia A won by 5 wkts</div> </div> <div class=\"cb-scr-wll-chvrn\"> <div class=\"cb-ico cb-lv-scr-chvrn-bg\"></div> </div> </div> </a></div><nav class=\"cb-col-100 cb-col padt5\"><a href=\"/live-cricket-scores/22384/gloucs-vs-ausa-4th-unofficial-odi-australia-a-tour-of-england-2019\" class=\"cb-text-link cb-mtch-lnks\">Live Score</a><a href=\"/live-cricket-scorecard/22384/gloucs-vs-ausa-4th-unofficial-odi-australia-a-tour-of-england-2019\" class=\"cb-text-link cb-mtch-lnks\">Scorecard</a><a href=\"/cricket-full-commentary/22384/gloucs-vs-ausa-4th-unofficial-odi-australia-a-tour-of-england-2019\" class=\"cb-text-link cb-mtch-lnks\">Full Commentary</a><a href=\"/cricket-match-news/22384/gloucs-vs-ausa-4th-unofficial-odi-australia-a-tour-of-england-2019\" class=\"cb-text-link cb-mtch-lnks\">News</a></nav></div></div><div class=\"cb-col cb-col-100 cb-lv-main\"><h2 class=\"cb-lv-grn-strip text-bold cb-lv-scr-mtch-hdr\" title=\"Pakistan Under 19 tour of South Africa, 2019\">PAKISTAN UNDER 19 TOUR OF SOUTH AFRICA, 2019</h2><div class=\"cb-mtch-lst cb-col cb-col-100 cb-tms-itm\"><div class=\"cb-col-100 cb-col cb-schdl\"><h3 class=\"cb-lv-scr-mtch-hdr inline-block\"><a class=\"text-hvr-underline text-bold\" href=\"/live-cricket-scores/22864/rsau19-vs-paku19-4th-youth-odi-pakistan-under-19-tour-of-south-africa-2019\" title=\"South Africa U19 vs Pakistan U19\">South Africa U19 vs Pakistan U19,</a></h3><span class=\"text-gray\">&nbsp;4th Youth ODI</span><div class=\"text-gray\"><span class=\"schedule-date\" timestamp=\"1561878000000\" format=\"MMM dd\\'\"></span><span>&nbsp;&#8226;&nbsp;</span><span ng-bind =\"1561878000000 |date:\\'h:mm a\\'\"></span><span class=\"text-gray\"> at City Oval, Pietermaritzburg</span></div></div><div class=\"cb-col-100 cb-col cb-schdl\"><a class=\"cb-lv-scrs-well cb-lv-scrs-well-complete\" href=\"/live-cricket-scores/22864/rsau19-vs-paku19-4th-youth-odi-pakistan-under-19-tour-of-south-africa-2019\" title=\"South Africa U19 vs Pakistan U19 4th Youth ODI\"> <div class=\"cb-col\"> <div class=\"cb-scr-wll-chvrn\"> <div class=\"cb-lv-scrs-col text-black\"><span class=\\'text-bold\\'>RSAU19</span> 253-all out (43.3 Ovs) <span class=\\'cb-series-sch-dot\\'>&nbsp;&#8226;&nbsp;</span> <span class=\\'text-bold\\'>PAKU19</span> 341/8 (50.0 Ovs)</div> <div class=\"cb-lv-scrs-col cb-text-complete\">Pakistan U19 won by 88 runs</div> </div> <div class=\"cb-scr-wll-chvrn\"> <div class=\"cb-ico cb-lv-scr-chvrn-bg\"></div> </div> </div> </a></div><nav class=\"cb-col-100 cb-col padt5\"><a href=\"/live-cricket-scores/22864/rsau19-vs-paku19-4th-youth-odi-pakistan-under-19-tour-of-south-africa-2019\" class=\"cb-text-link cb-mtch-lnks\">Live Score</a><a href=\"/live-cricket-scorecard/22864/rsau19-vs-paku19-4th-youth-odi-pakistan-under-19-tour-of-south-africa-2019\" class=\"cb-text-link cb-mtch-lnks\">Scorecard</a><a href=\"/cricket-full-commentary/22864/rsau19-vs-paku19-4th-youth-odi-pakistan-under-19-tour-of-south-africa-2019\" class=\"cb-text-link cb-mtch-lnks\">Full Commentary</a><a href=\"/cricket-match-news/22864/rsau19-vs-paku19-4th-youth-odi-pakistan-under-19-tour-of-south-africa-2019\" class=\"cb-text-link cb-mtch-lnks\">News</a></nav></div></div></div><div class=\"cb-col cb-col-33 cb-col-rt\"><div id=\"mpu\" class=\"ad-unit cb-col cb-col-100\" style=\"min-height:250px;margin-bottom:20px;\"></div> <div class=\"cb-col cb-col-100 cb-sr-hist-pad\" id=\"latest-vid-mod\" gtm-label=\\'Commentary\\'> <h4 class=\"cb-mdl-hdr\">Featured Videos</h4> <div class=\"cb-col cb-col-100 cb-mid-wrp\"> <a target=\"_self\" href=\"/cricket-videos/39755/wouldnt-have-minded-india-losing-by-50-55-runs-going-for-glory-harsha-bhogle\" class=\"suggested-video-gtm\" gtm-label=\"Wouldn&#39;t have minded India losing by 50-55 runs going for glory - Harsha Bhogle|39755\" title=\"Wouldn&#39;t have minded India losing by 50-55 runs going for glory - Harsha Bhogle\" > <div class=\"cb-pos-rel\"> <img class=\"cb-suggested-vid-img suggested-video-gtm\" gtm-label=\"Wouldn&#39;t have minded India losing by 50-55 runs going for glory - Harsha Bhogle|39755\" alt=\"Wouldn&#39;t have minded India losing by 50-55 runs going for glory - Harsha Bhogle\" gtm-label=\"Wouldn&#39;t have minded India losing by 50-55 runs going for glory - Harsha Bhogle|39755\" title=\"Wouldn&#39;t have minded India losing by 50-55 runs going for glory - Harsha Bhogle\" src=\"/a/img/v1/290x164/i1/c176247/wouldnt-have-minded-india-los.jpg\" height=\"164\" width=\"290\" /> <div class=\\'cb-vid-duration\\'>5:42</div> <div class=\"cb-cen\"> <div class=\"cb-vid-sm-ply-api\">&#9658;</div> </div> </div> <h4 class=\"text-hvr-underline suggested-video-gtm\" gtm-label=\"Wouldn&#39;t have minded India losing by 50-55 runs going for glory - Harsha Bhogle|39755\">Wouldn\\'t have minded India losing by 50-55 runs going for glory - Harsha Bhogle</h4> </a> <div class=\"cb-nws-time\">\\t10h ago </div> </div> <div class=\"cb-col cb-col-100 cb-mid-wrp\"> <a target=\"_self\" href=\"/cricket-videos/39753/englands-tactics-of-take-pace-off-the-ball-disallowed-dhoni-to-launch-zaheer-khan\" class=\"suggested-video-gtm\" gtm-label=\"England&#39;s tactics of take pace off the ball disallowed Dhoni to launch - Zaheer Khan|39753\" title=\"England&#39;s tactics of take pace off the ball disallowed Dhoni to launch - Zaheer Khan\" > <div class=\"cb-pos-rel\"> <img class=\"cb-suggested-vid-img suggested-video-gtm\" gtm-label=\"England&#39;s tactics of take pace off the ball disallowed Dhoni to launch - Zaheer Khan|39753\" alt=\"England&#39;s tactics of take pace off the ball disallowed Dhoni to launch - Zaheer Khan\" gtm-label=\"England&#39;s tactics of take pace off the ball disallowed Dhoni to launch - Zaheer Khan|39753\" title=\"England&#39;s tactics of take pace off the ball disallowed Dhoni to launch - Zaheer Khan\" src=\"/a/img/v1/290x164/i1/c176241/englands-tactics-of-take-pace.jpg\" height=\"164\" width=\"290\" /> <div class=\\'cb-vid-duration\\'>2:16</div> <div class=\"cb-cen\"> <div class=\"cb-vid-sm-ply-api\">&#9658;</div> </div> </div> <h4 class=\"text-hvr-underline suggested-video-gtm\" gtm-label=\"England&#39;s tactics of take pace off the ball disallowed Dhoni to launch - Zaheer Khan|39753\">England\\'s tactics of take pace off the ball disallowed Dhoni to launch - Zaheer Khan</h4> </a> <div class=\"cb-nws-time\">\\t12h ago </div> </div> <div class=\"cb-col cb-col-100 cb-mid-wrp\"> <a target=\"_self\" href=\"/cricket-videos/39756/dhoni-and-jadhav-couldnt-hit-because-the-pitch-got-slow-rohit\" class=\"suggested-video-gtm\" gtm-label=\"Dhoni and Jadhav couldn&#39;t hit because the pitch got slow - Rohit|39756\" title=\"Dhoni and Jadhav couldn&#39;t hit because the pitch got slow - Rohit\" > <div class=\"cb-pos-rel\"> <img class=\"cb-suggested-vid-img suggested-video-gtm\" gtm-label=\"Dhoni and Jadhav couldn&#39;t hit because the pitch got slow - Rohit|39756\" alt=\"Dhoni and Jadhav couldn&#39;t hit because the pitch got slow - Rohit\" gtm-label=\"Dhoni and Jadhav couldn&#39;t hit because the pitch got slow - Rohit|39756\" title=\"Dhoni and Jadhav couldn&#39;t hit because the pitch got slow - Rohit\" src=\"/a/img/v1/290x164/i1/c176248/dhoni-and-jadhav-couldnt-hit.jpg\" height=\"164\" width=\"290\" /> <div class=\\'cb-vid-duration\\'>4:21</div> <div class=\"cb-cen\"> <div class=\"cb-vid-sm-ply-api\">&#9658;</div> </div> </div> <h4 class=\"text-hvr-underline suggested-video-gtm\" gtm-label=\"Dhoni and Jadhav couldn&#39;t hit because the pitch got slow - Rohit|39756\">Dhoni and Jadhav couldn\\'t hit because the pitch got slow - Rohit</h4> </a> <div class=\"cb-nws-time\">\\t9h ago </div> </div> <div class=\"cb-col cb-col-100 cb-more-btn-cntnr\"> <a target=\"_self\" title =\"Click to view more videos\" href=\"/cricket-videos\" class=\"cb-more-btn\" role=\"button\">More Videos</a> </div> </div> <div id=\"mpu2\" class=\"ad-unit cb-col\" style=\\'margin:20px 0;\\'></div> <div class=\"cb-col cb-col-100 cb-sr-hist-pad\" id=\"latest-news-mod\" gtm-label=\"live scores\"> <h4 class=\"cb-ltst-hdr\">LATEST NEWS</h4> <div class=\"cb-col cb-col-100 cb-lst-itm cb-lst-itm-sm\"><div class=\"cb-col cb-col-33\" itemscope itemtype=\"https://schema.org/ImageObject\" itemprop=\"image\"><meta itemprop=\"width\" content=\"100\"> <meta itemprop=\"height\" content=\"77\"> <meta itemprop=\"url\" content=\"https:/a/img/v1/100x77/i1/c176246/jonny-bairstows-first-hundred.jpg\"><a target=\"_self\" href=\"/cricket-news/108770/when-discomfort-rekindled-the-jonny-bairstow-fire-india-vs-england-icc-cricket-world-cup-2019\" title=\"When discomfort rekindled the Bairstow fire\" ><img height=\"77\" width=\"100\"\\talt=\"Jonny Bairstow&#39;s first hundred in this World Cup set up England&#39;s crucial win over India\" title=\"Jonny Bairstow&#39;s first hundred in this World Cup set up England&#39;s crucial win over India\" itemprop =\"image\" class=\"cb-lst-img lazy-loading\" source=\"/a/img/v1/100x77/i1/c176246/jonny-bairstows-first-hundred.jpg\" style=\"padding:0px;\" /></a></div><div class=\"cb-col-67 cb-nws-lst-rt cb-col cb-col-text-container\"><div class=\"cb-ltst-wgt-hdr\"><a target=\"_self\" class=\"cb-nws-hdln-ancr text-hvr-underline\" href=\"/cricket-news/108770/when-discomfort-rekindled-the-jonny-bairstow-fire-india-vs-england-icc-cricket-world-cup-2019\" title=\"When discomfort rekindled the Bairstow fire\" >When discomfort rekindled the Bairstow fire</a></div><div><span class=\"cb-nws-time\">11h ago</span></div></div></div> <span id=\"native_latest_news\" class=\"ad-native ng-cloak\" ng-if=\\'$root.$GEO.continent != \"EU\"\\' ad-loaded=\"false\" ad-content=\\'<div class=\"cb-col cb-col-100 cb-lst-itm cb-lst-itm-sm\" style=\"border-bottom: 1px solid #ecebeb\"><div class=\"cb-col cb-col-33\"><a rel=\"noreferrer\" target=\"_blank\" href=\"[[clk]]\"><img style=\"width:90px;height:70px;\" src=\"[[img]]\" ></a></div><div class=\"cb-col-67 cb-nws-lst-rt cb-col cb-col-text-container\"><a rel=\"nofollow\" target=\"_blank\" href=\"[[clk]]\" class=\"cb-nws-hdln-ancr text-hvr-underline\"><div class=\"cb-list-intro-text\" style=\"height: 66px; overflow: hidden;\">[[text]]</div><div class=\"cb-list-sub-text ad-native-sponsor\">[[sponsor]]<img src=\"[[logo]]\" class=\"pull-right\" style=\"height:14px;\" /></div></a><div style=\"float:right;margin-top:-85px;\"><a rel=\"noreferrer\" target=\"_blank\" href=\"[[adchoicesClickURL]]\"><img src=\"[[adchoicesImgURL]]\"/></a></div></div></div>\\'></span> <div class=\"cb-col cb-col-100 cb-lst-itm cb-lst-itm-sm\"><div class=\"cb-col cb-col-33\" itemscope itemtype=\"https://schema.org/ImageObject\" itemprop=\"image\"><meta itemprop=\"width\" content=\"100\"> <meta itemprop=\"height\" content=\"77\"> <meta itemprop=\"url\" content=\"https:/a/img/v1/100x77/i1/c176244/mashrafe-mortaza-has-bagged-on.jpg\"><a target=\"_self\" href=\"/cricket-news/108769/icc-world-cup-2019-courtney-walsh-backs-out-of-form-mashrafe-mortaza-to-come-good-in-must-wins-bangladesh-cricket-team\" title=\"Walsh backs out-of-form Mortaza to come good in must-wins\" ><img height=\"77\" width=\"100\"\\talt=\"Mashrafe Mortaza has bagged only one wicket in the ongoing world cup\" title=\"Mashrafe Mortaza has bagged only one wicket in the ongoing world cup\" itemprop =\"image\" class=\"cb-lst-img lazy-loading\" source=\"/a/img/v1/100x77/i1/c176244/mashrafe-mortaza-has-bagged-on.jpg\" style=\"padding:0px;\" /></a></div><div class=\"cb-col-67 cb-nws-lst-rt cb-col cb-col-text-container\"><div class=\"cb-ltst-wgt-hdr\"><a target=\"_self\" class=\"cb-nws-hdln-ancr text-hvr-underline\" href=\"/cricket-news/108769/icc-world-cup-2019-courtney-walsh-backs-out-of-form-mashrafe-mortaza-to-come-good-in-must-wins-bangladesh-cricket-team\" title=\"Walsh backs out-of-form Mortaza to come good in must-wins\" >Walsh backs out-of-form Mortaza to come good in must-wins</a></div><div><span class=\"cb-nws-time\">12h ago</span></div></div></div><div class=\"cb-col cb-col-100 cb-lst-itm cb-lst-itm-sm\"><div class=\"cb-col cb-col-33\" itemscope itemtype=\"https://schema.org/ImageObject\" itemprop=\"image\"><meta itemprop=\"width\" content=\"100\"> <meta itemprop=\"height\" content=\"77\"> <meta itemprop=\"url\" content=\"https:/a/img/v1/100x77/i1/c176243/marnus-labuschagne-scored-106.jpg\"><a target=\"_self\" href=\"/cricket-news/108768/county-championship-billy-godleman-marnus-labuschagne-stroke-tons-on-day-1\" title=\"Godleman, Labuschagne stroke tons on Day 1\" ><img height=\"77\" width=\"100\"\\talt=\"Marnus Labuschagne scored 106 against Worcestershire\" title=\"Marnus Labuschagne scored 106 against Worcestershire\" itemprop =\"image\" class=\"cb-lst-img lazy-loading\" source=\"/a/img/v1/100x77/i1/c176243/marnus-labuschagne-scored-106.jpg\" style=\"padding:0px;\" /></a></div><div class=\"cb-col-67 cb-nws-lst-rt cb-col cb-col-text-container\"><div class=\"cb-ltst-wgt-hdr\"><a target=\"_self\" class=\"cb-nws-hdln-ancr text-hvr-underline\" href=\"/cricket-news/108768/county-championship-billy-godleman-marnus-labuschagne-stroke-tons-on-day-1\" title=\"Godleman, Labuschagne stroke tons on Day 1\" >Godleman, Labuschagne stroke tons on Day 1</a></div><div><span class=\"cb-nws-time\">12h ago</span></div></div></div><div class=\"cb-col cb-col-100 cb-lst-itm cb-lst-itm-sm\"><div class=\"cb-col cb-col-33\" itemscope itemtype=\"https://schema.org/ImageObject\" itemprop=\"image\"><meta itemprop=\"width\" content=\"100\"> <meta itemprop=\"height\" content=\"77\"> <meta itemprop=\"url\" content=\"https:/a/img/v1/100x77/i1/c176242/james-hildreths-century-prope.jpg\"><a target=\"_self\" href=\"/cricket-news/108767/abbott-hildreth-shine-on-action-packed-day-in-tauton-icc-cricket-world-cup-2019\" title=\"Abbott, Hildreth shine on action-packed day in Tauton\" ><img height=\"77\" width=\"100\"\\talt=\"James Hildreth&#39;s century propelled Somerset to 408\" title=\"James Hildreth&#39;s century propelled Somerset to 408\" itemprop =\"image\" class=\"cb-lst-img lazy-loading\" source=\"/a/img/v1/100x77/i1/c176242/james-hildreths-century-prope.jpg\" style=\"padding:0px;\" /></a></div><div class=\"cb-col-67 cb-nws-lst-rt cb-col cb-col-text-container\"><div class=\"cb-ltst-wgt-hdr\"><a target=\"_self\" class=\"cb-nws-hdln-ancr text-hvr-underline\" href=\"/cricket-news/108767/abbott-hildreth-shine-on-action-packed-day-in-tauton-icc-cricket-world-cup-2019\" title=\"Abbott, Hildreth shine on action-packed day in Tauton\" >Abbott, Hildreth shine on action-packed day in Tauton</a></div><div><span class=\"cb-nws-time\">12h ago</span></div></div></div><div class=\"cb-col cb-col-100 cb-lst-itm cb-lst-itm-sm\"><div class=\"cb-col cb-col-33\" itemscope itemtype=\"https://schema.org/ImageObject\" itemprop=\"image\"><meta itemprop=\"width\" content=\"100\"> <meta itemprop=\"height\" content=\"77\"> <meta itemprop=\"url\" content=\"https:/a/img/v1/100x77/i1/c176232/virat-kohli-was-taken-by-surpr.jpg\"><a target=\"_self\" href=\"/cricket-news/108766/virat-kohli-expresses-surprise-over-edgbaston-playing-conditions-icc-cricket-world-cup-2019\" title=\"Kohli expresses surprise over Edgbaston playing conditions\" ><img height=\"77\" width=\"100\"\\talt=\"Virat Kohli was taken by surprise with the short boundary on one side\" title=\"Virat Kohli was taken by surprise with the short boundary on one side\" itemprop =\"image\" class=\"cb-lst-img lazy-loading\" source=\"/a/img/v1/100x77/i1/c176232/virat-kohli-was-taken-by-surpr.jpg\" style=\"padding:0px;\" /></a></div><div class=\"cb-col-67 cb-nws-lst-rt cb-col cb-col-text-container\"><div class=\"cb-ltst-wgt-hdr\"><a target=\"_self\" class=\"cb-nws-hdln-ancr text-hvr-underline\" href=\"/cricket-news/108766/virat-kohli-expresses-surprise-over-edgbaston-playing-conditions-icc-cricket-world-cup-2019\" title=\"Kohli expresses surprise over Edgbaston playing conditions\" >Kohli expresses surprise over Edgbaston playing conditions</a></div><div><span class=\"cb-nws-time\">13h ago</span></div></div></div> <div class=\"cb-col cb-col-100 cb-more-btn-cntnr\"> <a target=\"_self\" title =\"Click to view more News\" href=\"/cricket-news\" class=\"cb-more-btn\" role=\"button\">More News</a> </div> </div> <style> .cb-topic-header{margin-left:0px!important;} .cb-list-heading{font-weight:normal!important} </style><div id=\"mpu3\" class=\"ad-unit cb-col\"></div></div></div> <span id=\"skin_right\" class=\"ad-unit\" style=\"overflow:hidden;position:fixed;top:0;left:calc(50% + 490px);margin-left:3px;z-index:-99;\"></span></div></div><div ng-cloak ng-if=\\'$root.$GEO.continent == \"EU\"\\'><div class=\"feedback-bar text-center cb-col-100 disp-none feedback-menu\" id=\"feedback-bar\" ng-controller=\"FeedbackCtrl\"\\tng-init=\"show_feedback_menu();\"><span class=\"feedback-txt\">We use cookies to improve your experience on our site and to show you non-personalized ads. Find out more in our <a style=\"color:#4A90E2;\" href=\"/info/privacy\">privacy policy</a> and <a style=\"color:#4A90E2;\" href=\"/info/privacy#cookie_policy\">cookie policy</a></span><button class=\"cb-feedback-btn blue-btn cb-cursor\" id=\"close_feedback_btn\" ng-click=\"close_feedback();\">OK</button></div></div><footer id=\"FooterWraper\" itemscope itemtype=\"http://schema.org/WPFooter\" ><div class=\"cb-footer cb-col-100 cb-col\"><div class=\\'cb-ftr-cntnr\\'><div class=\"cb-col-25 cb-col\"><a class=\"center-block\" href=\"/\"><div class=\"cb-ftr-logo cb-ico\"></div></a></div><div class=\"cb-col-25 cb-col\"><div class=\"text-left cb-font-16 text-bold\">MOBILE SITE & APPS</div><ul class=\"cb-ftr-ul\"><li class=\"cb-ftr-lst\"><a href=\"https://m.cricbuzz.com\" class=\"text-white\"><span class=\"cb-mobile-site cb-ico\"></span><span class=\"cb-footer-list-rt\">m.cricbuzz.com</span></a></li><li class=\"cb-ftr-lst\"><a class=\"text-white\" href=\"https://play.google.com/store/apps/details?id=com.cricbuzz.android\" target=\"_blank\"><span class=\"cb-app-android cb-ico\"></span><span class=\"cb-footer-list-rt\">Android</span></a></li><li class=\"cb-ftr-lst\"><a class=\"text-white\" href=\"https://itunes.apple.com/app/id360466413\" target=\"_blank\"><span class=\"cb-app-ios cb-ico\"></span><span class=\"cb-footer-list-rt\">iOS</span></a></li></ul></div><div class=\"cb-col-25 cb-col\"><div class=\"text-left cb-font-16 text-bold\">FOLLOW US ON</div><ul class=\"cb-ftr-ul\"><li class=\"cb-ftr-lst\"><a class=\"text-white\" href=\"https://www.facebook.com/cricbuzz\" target=\"_blank\"><span class=\"cb-social-fb cb-ico\"></span><span class=\"cb-footer-list-rt\">facebook</span></a></li><li class=\"cb-ftr-lst\"><a class=\"text-white\" href=\"https://twitter.com/cricbuzz\" target=\"_blank\"><span class=\"cb-social-twitter cb-ico\"></span><span class=\"cb-footer-list-rt\">twitter</span></a></li><li class=\"cb-ftr-lst\"><a class=\"text-white\" href=\"https://www.youtube.com/channel/UCSRQXk5yErn4e14vN76upOw\" target=\"_blank\"><span class=\"cb-social-ytbe cb-ico\"></span><span class=\"cb-footer-list-rt\">youtube</span></a></li><li class=\"cb-ftr-lst\"><a class=\"text-white\" href=\"https://in.pinterest.com/cricbuzz/\" target=\"_blank\"><span class=\"cb-social-pinterest cb-ico\"></span><span class=\"cb-footer-list-rt\">Pinterest</span></a></li></ul></div><div class=\"cb-col-25 cb-col\"><div class=\"text-left cb-font-16 text-bold\">COMPANY</div><ul class=\"cb-ftr-ul\"><li class=\"cb-ftr-lst\"><a class=\"text-white\" href=\"/careers\">Careers</a></li><li class=\"cb-ftr-lst\"><a class=\"text-white\" href=\"/info/advertise\">Advertise</a></li><li class=\"cb-ftr-lst\"><a class=\"text-white\" rel=\"nofollow\" href=\"/info/privacy\">Privacy Policy</a></li><li class=\"cb-ftr-lst\"><a class=\"text-white\" rel=\"nofollow\" href=\"/info/termsofuse\">Terms of Use</a></li><li class=\"cb-ftr-lst\"><a class=\"text-white\" href=\"/product-blog/cricbuzz-mobile-apps-tv-ad-cricket-ka-keeda\">Cricbuzz TV Ads</a></li></ul></div><div class=\\'cb-col-100 cb-col cb-ftr-cpyrght\\'>&copy; 2019 Cricbuzz.com, Times Internet Limited. All rights reserved | <a class=\\'cb-ftr-cpyrght text-hvr-underline\\' href=\"http://timesofindia.indiatimes.com/\" target=\"_blank\">The Times of India</a> | <a href=\"http://navbharattimes.indiatimes.com/\" target=\"_blank\" class=\\'cb-ftr-cpyrght text-hvr-underline\\'>Navbharat Times</a></div></div></div></footer><script type=\"text/javascript\">var script_tag = document.getElementsByTagName(\\'script\\')[0];\\t(function() {\\tvar cmin = document.createElement(\\'script\\'); cmin.type = \\'text/javascript\\'; cmin.async = true;\\tcmin.src = \\'/dist/js/cricbuzz.min.6501.js\\';\\tscript_tag.parentNode.insertBefore(cmin, script_tag);\\t})();</script><noscript><iframe src=\"//www.googletagmanager.com/ns.html?id=GTM-PGNCT7\"\\theight=\"0\" width=\"0\" style=\"display:none;visibility:hidden\"></iframe></noscript><script>(function(w,d,s,l,i){w[l]=w[l]||[];w[l].push({\\'gtm.start\\':\\tnew Date().getTime(),event:\\'gtm.js\\'});var f=d.getElementsByTagName(s)[0],\\tj=d.createElement(s),dl=l!=\\'dataLayer\\'?\\'&l=\\'+l:\\'\\';j.async=true;j.src=\\t\\'//www.googletagmanager.com/gtm.js?id=\\'+i+dl;f.parentNode.insertBefore(j,f);\\t})(window,document,\\'script\\',\\'dataLayer\\',\\'GTM-PGNCT7\\');</script><script>window.onerror = function(message, file, line) {\\tvar sFormattedMessage = \\'[\\' + file + \\' (\\' + line + \\')] \\' + message;\\tdataLayer.push({\\'EventAction\\': \"Application\",\\'EventLabel\\': sFormattedMessage,\\'event\\': \\'Exceptions\\'});\\t}</script> </body></html>'"
      ]
     },
     "execution_count": 3,
     "metadata": {},
     "output_type": "execute_result"
    }
   ],
   "source": [
    "url.text"
   ]
  },
  {
   "cell_type": "code",
   "execution_count": 4,
   "metadata": {},
   "outputs": [],
   "source": [
    "Soup=url.text\n",
    "\n"
   ]
  },
  {
   "cell_type": "code",
   "execution_count": 5,
   "metadata": {},
   "outputs": [],
   "source": [
    "s=BeautifulSoup(Soup,'html.parser')\n",
    "\n",
    "\n"
   ]
  },
  {
   "cell_type": "code",
   "execution_count": 6,
   "metadata": {},
   "outputs": [
    {
     "name": "stdout",
     "output_type": "stream",
     "text": [
      "\n",
      "<!DOCTYPE html>\n",
      "<html itemscope=\"\" itemtype=\"http://schema.org/WebPage\" lang=\"en\"><head><meta charset=\"utf-8\"/><script>var is_mobile = /symbian|tizen|midp|uc(web|browser)|MSIE (5.0|6.0|7.0|8.0)|tablet/i.test(navigator.userAgent);\tif(is_mobile && window.location.hostname != \"www1.cricbuzz.com\") window.location.hostname = \"m.cricbuzz.com\";</script><style>body{background:#E3E6E3; font-family: helvetica,\"Segoe UI\",Arial,sans-serif;color:#222;font-size:14px; line-height: 1.5; margin:0;}\tbody, .cb-comm-pg, .cb-hm-mid {min-height:1000px}\t.container{width:980px;margin:0 auto;}\t.page{max-width: 980px;margin: 0 auto;position: relative;}\t.cb-col-8 {width:8%;}\t.cb-col-10 {width:10%;}\t.cb-col-14 {width:14%;}\t.cb-col-16 {width:16%;}\t.cb-col-20 {width:20%;}\t.cb-col-25 {width:25%;}\t.cb-col-27 {width:27%;}\t.cb-col-33 {width:33%;}\t.cb-col-40 {width:40%;}\t.cb-col-46 {width:46%;}\t.cb-col-47 {width:47%;}\t.cb-col-50 {width:50%;}\t.cb-col-60 {width:60%;}\t.cb-col-66 {width:66%;}\t.cb-col-67 {width:67%;}\t.cb-col-73 {width:73%;}\t.cb-col-75 {width:75%;}\t.cb-col-84 {width:84%;}\t.cb-col-80 {width:80%;}\t.cb-col-90{width:90%;}\t.cb-col-100 {width:100%;}\t.cb-col {display: inline-block;box-sizing: border-box;float: left; min-height: 1px;}\th1 {font-size: 36px;line-height: 42px; margin:0;}\th2 {font-size: 24px; margin:0; line-height: 30px;}\th3 {font-size: 18px;line-height: 24px; margin:0; }\th4 {font-size: 16px; margin:0; }\th5 {font-size: 14px; margin: 0;}\t.cb-font-18 {font-size:18px;}\timg{border-radius: 4px;}\ta {text-decoration: none; color:#222;}\ta, a:hover, a:active, a:focus {outline: medium none;}\t.text-center {text-align: center;}\t.cb-nws-lft-col{padding:15px 20px;}\t.cb-nws-dtl-lft-col {padding: 10px 30px 0 30px;border-right: 1px solid #ecebeb ;}\t.cb-nws-lst-rt{padding-left: 10px;}\t.cb-srs-lst-itm {padding: 10px 0;}\t.cb-lst-itm-sm{padding:10px 0 5px;}\t.cb-scrd-lft-col{padding:15px 10px;} .cb-col-rt{padding: 10px;}\t.text-white{color: #fff;}\t.cb-scrd-hdr-rw, .cb-nav-pill-1.active {background: #028062 ;color: #fff;}\t.cb-nav{position:relative; height:48px;background: #009270;}\t.cb-hm-mnu-itm{padding: 16px 6px 11px; color:#fff; display:inline-block;}\t.cb-hm-text{padding:10px 18px 10px 20px;}\t.cb-hm-rght{padding: 15px;}\t.cb-subnav .cb-sub-navigation {display: none; position: absolute;}\t.cb-mat-mnu{background:#4a4a4a; width:980px; font-size: 0;}\t.cb-mat-mnu-itm{font-size:12px; color:#fff; padding:10px; cursor: pointer; display:inline-block; max-width: 140px;}\t.cb-mat-mnu-ttl{background: #333; padding: 10px 20px;}\t.cb-mat-mnu-wrp{margin-bottom: 10px;}\t.cb-ovr-flo{overflow: hidden; white-space: nowrap; text-overflow: ellipsis;}\t.cb-mat-mnu-all{text-align: center; float: right; width:60px;}\t.cb-nav-main{border-bottom:1px solid #e3e6e3;padding:0 0 5px 20px;}\t.cb-nav-bar{padding-top:10px;clear:both;}\t.cb-lst-itm, .cb-bg-white{background: #fff;}\t.cb-nav-tab.active, .cb-nav-tab-hm.active{ font-weight: bold; color: #028062;}\t.cb-nav-tab.active {border-bottom: 3px solid #028062; line-height: 24px; }\t.cb-nav-tab-hm.active{ border-bottom:2px solid #028062; line-height: 22px;}\t.cb-nav-tab{margin-right:20px;padding-bottom:6px;}\t.cb-nav-tab-hm{margin-right:15px;padding-bottom:6px;}\t.cb-nav-hdr{padding-top:15px}\t.cb-nav-subhdr{padding:5px 0 10px 0;}\t.cb-lv-scr-mtch-hdr{line-height: 21px;font-size: 16px;}\t.disp-none{display:none;}\t.disp-blck{display:block;}\t.cb-font-24{font-size: 24px;}\t.line-ht30{line-height: 30px;}\t.line-ht24{line-height: 24px;}\t.cb-hm-scg-blk{background: #fff; margin-bottom: 5px; height:90px;}\t.mrgn-btm-5{margin-bottom : 5px;}\t#scagTabContent .show{display: block; visibility: visible;}\t#scagTabContent .hide{display: none; visibility: hidden;}\t[ng\\:cloak], [ng-cloak], [data-ng-cloak], [x-ng-cloak], .ng-cloak, .x-ng-cloak { display: none !important;}\t.cb-hm-lft{margin-bottom:5px;padding:0 15px;}\t.cb-hm-lft-hdr{margin:0; padding:15px 15px 0; color: #009270;} .cb-hm-mid {border-left: 5px solid #e3e6e3 ;border-right: 5px solid #e3e6e3 ;padding: 0 15px;} .cb-mtch-blk {border-right: 1px solid #ecebeb ;line-height: 1.4;margin: 15px 0;padding: 0 20px;}\t.crd-cntxt{font-size: 12px; color:#666; padding-bottom: 10px;}\t.big-crd-main{border-top: 1px solid #ecebeb;padding:15px 0 5px; margin-bottom: 1px;clear: both;} .big-crd-reltd-itm {margin: 0 0 10px; width:100%; display: inline-block;}\t.cb-nws-time{font-size:12px; padding-bottom: 5px;}\t.cb-nws-hdln-ancr{padding-bottom: 5px;}\t.cb-hmscg-bwl-txt, .cb-hmscg-bat-txt{font-weight:bold; padding-bottom:4px; height:18px;}\t.cb-hmscg-bwl-txt{color:#666;}\t.sml-crd-main{padding: 15px 0 5px; width: 100%;}\t.big-crd-hdln{margin: 10px 0;}\t.big-crd-rltd-txt {font-weight: bold; margin:10px 0; color:#1866DB;} .cb-nws-intr {color: #666;padding-bottom: 5px;} .cb-lv-scrs-well {background: #f5f5f5 ;display: inline-block;margin: 10px 0;padding: 10px 5px;}\t.cb-hm-mtch-crd-width{min-width:300px;}\t.cb-mr-30{margin-right: 30px;} .cb-schdl-hdr {margin: 0;padding: 15px 0 10px 10px;} .cb-lst-itm-lg {padding: 20px 0;} .cb-left-pad {padding: 20px 10px 0;}\t.cb-nav-pill-1 {background: #CFE0DB;border-radius: 20px;color: #222;cursor: pointer;margin-right: 15px;padding: 5px 20px;} .cb-mtch-lst {padding: 15px 0;}\t.cb-nws-min-cntr{padding: 10px; background: #f5f5f5; color:#333; margin:10px 0 15px;}\t.sml-crd-subtxt{margin:0 10px 10px;}\t/*-------------------------Live Pages -----------------------*/\t.cb-scrcrd-status{padding:0 0 10px 10px;}\t.cb-scrd-hdr-rw{padding:8px 10px;}\t.cb-bg-gray{background: #ecebeb;}\t.cb-lv-grn-strip{background: #ecebeb;}\t.cb-min-hdr-rw, .cb-scrd-sub-hdr{padding: 4px 10px; font-size: 12px; color: #666;}\t.cb-scrd-itms{padding: 4px 10px; font-size: 13px;}\t.cb-text-link {color: #1866DB;}\t.text-bold{font-weight: bold;}\t.text-normal{font-weight: normal;}\t.cb-mat-fct-itm{padding: 5px 0;}\t.cb-min-bat-rw{padding-bottom: 5px;}\t.cb-nws-sub-txt, .cb-nws-sub-txt, .cb-font-12{font-size:12px;}\t.cb-font-16{font-size:16px;}\t.cb-font-20{font-size:20px;}\t.cb-min-inf{padding-top:10px; margin-left: -10px; display: inline-block;}\t.cb-min-itm-rw{padding:5px 10px 0;}\t.text-right{text-align:right;}\t.cb-key-st-lst{padding: 10px 0 0 5px; }\t.cb-min-prw-time{padding:20px 0 0;}\t.cb-toss-sts{padding: 10px 0 30px;}\t.cb-min-rcnt{padding: 7px 10px; margin: 0 -10px 0;}\t.cb-key-lst-wrp{border: 1px solid #ecebeb; padding-bottom: 15px; margin-right: -10px;}\t.cb-min-tm{font-size: 18px; font-weight: bold;}\t.cb-min-stts{padding: 20px 0;}\t.cb-mom-itm{padding: 0 0 10px;}\t.cb-lv-grn-strip {padding: 10px 10px 5px;}\t.cb-ovr-num{padding-top:2px;}\t.cb-min-pad{padding-left: 5px;}\t/*Upcoming Series*/\t.cb-mnth{margin-top: 10px; padding: 0 10px;}\t.cb-sch-lst-itm {padding:10px 0; margin-left: 20px;border-bottom: 1px solid #ecebeb;}\t/*Matches By Day*/\t.cb-mtchs-dy{padding:20px 20px 20px 10px ;}\t.cb-mtchs-dy-tm,.cb-mtchs-dy-vnu{padding:20px 20px 20px 0px;}\t/*Schedule Teams*/\t.cb-lv-upcom-strip{padding: 5px 10px;background: #ecebeb;}\t/*Archives*/\t.cb-srs-cat{padding:10px; color:#028062; }\t.pad-left{padding-left:30px;}\t.cb-arcv-yr{font-size:20px; padding: 0 0 5px 10px;font-weight: bold}\t.cb-yr-tmline{padding: 2px 15px 15px 0;}\t.cb-sch-tms-widgt{padding: 5px 10px; margin:5px 2px 2px 2px; background: #f5f5f5; border-radius: 0; border:0; display: inline-block;}\t/*Photos*/\t.cb-thmb-dark {background: #333333; box-shadow:none; border-radius:4px; border:none; padding:0;color:#CCC;}\t.cb-pht-main {padding:20px 15px;margin: 0 -10px;}\t.cb-pht-block{padding:9px;float:left;height:280px;box-sizing: border-box;} .cb-gallery-pht-block{padding: 9px 9px 9px 16px;}\t.img-responsive{height:auto; max-width:100%;}\t.center-block{margin-right: auto;margin-left: auto;}\t.cb-schdl{padding:0 10px;line-height: 1.5;}\t.cb-caret-up, .cb-caret-down{display: inline-block; width: 0; height: 0; margin-left: 4px; margin-bottom: 1px; border-right: 4px solid transparent; border-left: 4px solid transparent;}\t.cb-caret-up{border-bottom: 4px solid;}\t.cb-caret-down{border-top: 4px solid;}\t.cb-hm-rt-itm{margin: 0 0 5px; padding: 10px 10px 5px;}\t.cb-hmscg-tm-nm{display:inline-block; width: 60px;}\t.pull-right,.cb-all-mtch-tab{float:right;}\t.cb-skin-ads-close{display: none;}\t.cb-nws-sub-txt{padding-top:10px;}\t.nws-dtl-hdln{margin-top:10px;}\t.cb-min-lv{min-height:270px}\t.cb-min-comp{min-height:150px;}\t.cb-ttl-vts{margin-top:20px;}\t.cb-poll-radio{width: 5%;margin:4px 10px 0 0;}\t.cb-mini-tim{padding-bottom:20px;}\t.cb-com-ln{margin: 0 0 10px; line-height: 24px;}\t.cb-comm-static{min-height:31px; margin: 0 -10px 10px;}\t.cb-com-ovr-sum-ad{min-height: 31px;}\t.cb-comm-static-anchr{margin:5px 10px; display: block;}\t.ad-unit-rendered{margin-bottom: 5px;}\t.cb-mm-wrp { max-height: 0px; -webkit-transition: max-height 0.35s ease; transition: max-height 0.35s ease; overflow: hidden; }\t.cb-mm-wrp.down { max-height: 1000px; transition: max-height 0.75s ease; -webkit-transition: max-height 0.75s ease; overflow: hidden;} .cb-srs-hstry-dtl {padding:10px 15px;margin-top:20px; border-radius: 4px;}\t.cb-qck-lnk{margin-bottom: 5px; padding:10px 15px;}\t.cb-qck-hdr{padding-right: 15px; border-right: 1px solid #ecebeb ;}\t.cb-qck-ancr{margin-left: 15px;}\t.cb-lst-vid-rw{padding-bottom: 0; height: 64px; border: 1px solid #ecebeb; margin-right: -10px;}\t.cb-auth-img{border-radius: 100%;}\t.cb-expt-athr{vertical-align: top; padding: 5px 0 0 0; display: inline-block; font-size: 16px}\t.inline-block{display: inline-block;}\t.cb-exprt-athr-hdr{text-align: right;font-size: 42px;font-family: bodani; color: #fff;padding-right: 15px;line-height:44px;text-transform:uppercase;}\t.cb-exprt-athr-hdr-tag{text-align: right;font-size: 24px;font-family: bodani; color: #fff;padding-right: 15px;font-style:italic;}\t.cb-athr-wgt-wrp{border:1px solid #ecebeb; padding:15px; margin-bottom:20px;background:#f5f5f5;}\t.cb-exprt-athr-hdr-img{background: url(\"/images/harsha-banner.jpg\") no-repeat scroll; height:80px;}\t.cb-overflow-hidden{overflow: hidden;}\t/*Videos*/\t.cb-vid-sm-ply-api {color: #fff;line-height: 34px;font-size: 18px;margin-left: 3px;}\t.cb-vid-sml-card-api {margin-top: 10px;height: auto;padding: 0 12px 0 11px;}\t.cb-cat-head-wrap {padding: 0 12px 0 11px;}\t.cb-cat-head-text {margin-top: 5px;line-height: 20px;}\t.cb-more-btn {padding: 8px 20px;border-radius: 2px;color: #fff;background: #009270;border: 0;cursor: pointer;}\t.cb-cat-head-link {float: right;padding: 5px 25px;margin-top: 10px;border-radius: 4px;}\t.cb-pos-rel{position: relative;}\t.cb-videos-cat {border-bottom: 1px solid #ecebeb;padding: 10px 3px 15px 4px;}\t.cb-cat-head-text-wrap {float: left;}\t.cb-cat-head-count {margin: 0;color: #666;}\th2.cb-cat-head-text{font-size : 18px}\t.cb-vid-sml-card-api-head {font-size: 14px;font-weight: bold;line-height: 18px;max-height: 55px;margin: 2px 0 5px;overflow: hidden;}\t.cb-cen {position: absolute;top: 50%;left: 50%;opacity: .8;transform: translateX(-50%) translateY(-50%);-webkit-transform: translateX(-50%) translateY(-50%);-moz-transform: translateX(-50%) translateY(-50%);-ms-transform: translateX(-50%) translateY(-50%);-o-transform: translateX(-50%) translateY(-50%);background: #222;text-align: center;height: 35px;width: 35px;border-radius: 50px;}\t.cb-cen:hover{opacity: 1;}\t.padding-handling-errors{padding: 20px 0px 10px 15px;border-bottom: 1px solid #ecebeb;}\t.cb-col .cb-align-cen{float: none; text-align: center; padding: 7px 25px; margin-top: 20px;}\t.cb-align-cen{padding-top: 10px;}\t.cb-hot-cat{max-width: 90px; text-align: center; padding-right: 0;}\t.cb-hot-cat-img{width: 72px;}\t.cb-vid-slider-arrs{position: absolute; top: 52px; left: 0; right: 0; z-index: 5;}\t.cb-vid-slider-arr{position: absolute; z-index: 5; height: 43px; width: 43px; border-radius: 50%; cursor: pointer;}\t.cb-vid-slider-arr-prev{display: none; left: 0;}\t.cb-vid-slider-arr-next{right: 0;}\t.videos-list-carousal{overflow: hidden; position: relative; height: 220px;}\t.videos-carousal-wrapper{float: none; list-style: none; padding: 0; margin: 0; transition: all 0.3s ease; display: flex; flex-direction: row; position: absolute; left: 0;}\t.videos-carousal-item{min-width: 25%; justify-content: center; align-items: center;}\t.cb-vid-more{float: right; color: #2C3E9A; font-size: 18px;}\t.cb-vid-more:hover{text-decoration: underline;}\t.cat-vid-carousal{height: 135px !important;}\t.cat-vid-carousal .videos-carousal-item{min-width: auto;}\t.cat-vid-carousal .cb-vid-slider-arrs{top: 24px;}\t.cb-srs-sqd-box{min-height: 700px; background: #fff;}\t.cb-float-none{float: none;}\t.cb-margin-top-10{margin-top: 10px;}\t.cb-schdl-nvtb {margin: 0 0 10px 0;padding: 10px;}\t.cb-carousal-item-small {padding: 0 0 0 16px;}\t.cb-carousal-item-small:first-child {padding-left: 11px;}\t.cb-carousal-item-large {padding: 0 11px;}\t.cb-carousal-item-small .cb-vid-txt-wrp{font-size: 12px;}\t.cb-hot-cat .cb-vid-txt-wrp{display: -webkit-box; -webkit-box-orient: vertical; -webkit-line-clamp: 2; overflow: hidden; max-height: 40px;}\t/*Rankings*/\t.cb-ranking-nav.active{line-height: 21px}\t.cb-rank-plyr{padding-left:15px}\t.text-left{text-align:left;}\t.cb-rank-tabs{padding-left: 10px;}\t.cb-plyr-tbody{padding:5px 0;}\t.cb-padding-left0{padding-left: 0;}\t.cb-rank-hdr{margin-top: 15px; padding: 5px 0;}\t.cb-bg-grey{background: #f5f5f5;}\t/*Players*/\t.cb-player-name-wrap{padding-top: 90px;}\t.cb-plyr-tbl{margin-top: 30px}\t.cb-font-40{font-size:40px;}\t/*Teams*/\t.cb-cursor-pointer{cursor: pointer;}\t.cb-team-stats-btn{margin-top: 21px;}\t.cb-upper-text{text-transform: capitalize;}</style><script>function getCookie(c_name){\tvar i,x,y,ARRcookies=document.cookie.split(\";\");\tfor (i=0;i<ARRcookies.length;i++){\tx=ARRcookies[i].substr(0,ARRcookies[i].indexOf(\"=\"));\ty=ARRcookies[i].substr(ARRcookies[i].indexOf(\"=\")+1);\tx=x.replace(/^\\s+|\\s+$/g,\"\");\tif (x==c_name){\treturn unescape(y);\t}\t}\t}\tvar cbads_value = getCookie(\"cbzads\");\tif(cbads_value != null && cbads_value.indexOf('IN|AS') >= 0){\tdocument.write(\"<style>.cb-geo-in-50{height:50px}</style>\")\t}\t/*polifill for remove function*/\tif (!('remove' in Element.prototype)) {\tElement.prototype['remove'] = function () {\tif (this.parentNode) {\tthis.parentNode.removeChild(this);\t}\t};\t}</script><meta content=\"IE=edge\" http-equiv=\"X-UA-Compatible\"><meta content=\"\" name=\"author\"/><link href=\"/images/cric_ball.ico\" rel=\"shortcut icon\" type=\"image/x-icon\"/><meta content=\"125255339112-d594jen12o0j854sufu8jfn2gbbnaskj.apps.googleusercontent.com\" name=\"google-signin-client_id\"/><link href=\"/images/apple-touch-icon.png\" rel=\"apple-touch-icon\"/> <title itemprop=\"name\">Live Cricket Score | Scorecard | Live Commentary | Cricbuzz.com</title><meta content=\"Get Live Cricket Score, Ball by Ball Commentary, Scorecard Updates, Match Facts &amp; related News of all the International &amp; Domestic Cricket Matches across the globe.\" itemprop=\"description\" name=\"description\"/><link href=\"android-app://com.cricbuzz.android/http/www.cricbuzz.com/cricket-match/live-scores\" rel=\"alternate\"/><link href=\"//m.cricbuzz.com/cricket-match/live-scores\" media=\"only screen and (max-width: 640px)\" rel=\"alternate\"/><meta content=\"index, follow\" name=\"robots\"/><meta content=\"index, follow\" name=\"googlebot\"/><meta content=\"google89fd37b1258ef4b9.html\" name=\"google-site-verification\"/><meta content=\"fd560568b43f31382de30f628c8430bd\" name=\"p:domain_verify\"/><meta content=\"A509FA8BAE50018F9DF2553AEDEDF77B\" name=\"msvalidate.01\"/> <meta content=\"Live Cricket Score | Scorecard | Live Commentary\" property=\"og:title\"/><meta content=\"Get Live Cricket Score, Ball by Ball Commentary, Scorecard Updates, Match Facts &amp; related News of all the International &amp; Domestic Cricket Matches across the globe.\" property=\"og:description\"/><meta content=\"http://www.cricbuzz.com\" property=\"og:image\"/><meta content=\"https://www.cricbuzz.com\" property=\"og:image:secure_url\"/><meta content=\"30119633160\" property=\"fb:app_id\"/><meta content=\"Cricbuzz\" property=\"og:site_name\"/> <meta content=\"Live Cricket Score | Scorecard | Live Commentary\" property=\"twitter:title\"/><meta content=\"Get Live Cricket Score, Ball by Ball Commentary, Scorecard Updates, Match Facts &amp; related News of all the International &amp; Domestic Cricket Matches across the globe.\" property=\"twitter:description\"/><meta content=\"https://www.cricbuzz.com\" property=\"twitter:image\"/><meta content=\"@cricbuzz\" name=\"twitter:site\"/><meta content=\"cricbuzz.com\" name=\"twitter:domain\"/><meta content=\"Cricbuzz\" name=\"twitter:app:name:iphone\"/><meta content=\"360466413\" name=\"twitter:app:id:iphone\"/><meta content=\"Cricbuzz\" name=\"twitter:app:name:googleplay\"/><meta content=\"com.cricbuzz.android\" name=\"twitter:app:id:googleplay\"/><meta content=\"on\" name=\"twitter:widgets:csp\"/><meta content=\"178697151159\" property=\"fb:pages\"><meta content=\"\" name=\"keywords\"/><meta content=\"\" name=\"news_keywords\"/><link href=\"https://www.cricbuzz.com/cricket-match/live-scores\" rel=\"canonical\"/><meta content=\"none\" name=\"msapplication-config\"><script>var PAGE_NAME = \"live-scores-page\";\tvar PAGE_TARGETS = {};\tvar CBQueue = CBQueue || [];\tvar CBQueueOnLoad = CBQueueOnLoad || [];\t/*CBQueue.push(function(){roadblock(2,{country:[\"US\",\"CA\", \"ZA\", \"AU\"], continent:[\"EU\"]});});*/\tCBQueue.push(function(){roadblock(2,{country:[\"US\"]});});\t_udn = \"cricbuzz.com\";</script><script>(function(w){\t\"use strict\";\tvar loadCSS = function( href, before, media ){\tvar doc = w.document;\tvar ss = doc.createElement( \"link\" );\tvar ref;\tif( before ){\tref = before;\t}\telse {\tvar refs = ( doc.body || doc.getElementsByTagName( \"head\" )[ 0 ] ).childNodes;\tref = refs[ refs.length - 1];\t}\tvar sheets = doc.styleSheets;\tss.rel = \"stylesheet\";\tss.href = href;\tss.media = \"only x\";\tref.parentNode.insertBefore( ss, ( before ? ref : ref.nextSibling ) );\tvar onloadcssdefined = function( cb ){\tvar resolvedHref = ss.href;\tvar i = sheets.length;\twhile( i-- ){\tif( sheets[ i ].href === resolvedHref ){\treturn cb();\t}\t}\tsetTimeout(function() {\tonloadcssdefined( cb );\t});\t};\tss.onloadcssdefined = onloadcssdefined;\tonloadcssdefined(function() {\tss.media = media || \"all\";\t});\treturn ss;\t};\tif( typeof module !== \"undefined\" ){\tmodule.exports = loadCSS;\t}\telse {\tw.loadCSS = loadCSS;\t}\t}( typeof global !== \"undefined\" ? global : this ));\tloadCSS( \"/dist/css/cricbuzz.min.6501.css\" );</script><noscript><link href=\"/dist/css/cricbuzz.min.6501.css\" rel=\"stylesheet\" type=\"text/css\"/></noscript></meta></meta></meta></head><body><a href=\"https://plus.google.com/104502282508811467249\" rel=\"publisher\"></a><a class=\"cb-skin-ads-link cb-skin-ads-link-fixed ad-skin\" href=\"Javascript:void(0)\" id=\"ad-skin\" target=\"_blank\"></a><a class=\"cb-skin-ads-close cb-font-18 ad-skin-close\" href=\"Javascript:void(0)\" style=\"position:fixed; z-index:1001; color:#FFF; background:#000; padding:2px 5px; right:2px;\">✖</a><header id=\"top\" itemscope=\"\" itemtype=\"http://schema.org/WPHeader\" style=\"z-index: 1000;position: relative;padding-top:10px;width:980px;margin:0 auto;\"><div class=\"container\"><div class=\"ad-unit text-center center-block\" id=\"leaderboard\" style=\"min-height:90px;margin-bottom:10px;\"></div><div class=\"ad-unit\" id=\"countdown\" style=\"margin:-10px 15px 0px;float:right;position:absolute;\"></div><div class=\"toi-branding toi-referral\"></div><nav class=\"cb-nav cb-col cb-col-100\" id=\"cb-main-menu\"><a class=\"cb-hm-text\" href=\"/\" target=\"_self\"><img alt=\"Cricbuzz Logo\" height=\"30\" itemprop=\"image\" src=\"/images/cbz-logo.png\" style=\"bottom: -4px; position: relative;\" title=\"Cricbuzz Logo\" width=\"101\"/></a><a class=\"cb-hm-mnu-itm\" href=\"/cricket-match/live-scores\" target=\"_self\" title=\"Live Cricket Score\">Live Scores</a><a class=\"cb-hm-mnu-itm\" href=\"/cricket-schedule/upcoming-series/international\" target=\"_self\" title=\"Cricket Schedule\">Schedule</a><a class=\"cb-hm-mnu-itm\" href=\"/cricket-scorecard-archives\" target=\"_self\" title=\"Cricket Scorecard Archives\">Archives</a><div class=\"cb-subnav cb-hm-mnu-itm feature-button cursor-pointer\" id=\"newsDropDown\"><a class=\"text-white\" href=\"/cricket-news\" target=\"_self\">News</a><span class=\"cb-caret-down\"></span><nav class=\"cb-sub-navigation\"><a class=\"cb-subnav-item\" href=\"/cricket-news\" target=\"_self\" title=\"Latest Cricket News\">All Stories</a><a class=\"cb-subnav-item\" href=\"/cricket-news/latest-news\" target=\"_self\" title=\"Latest Cricket News\">Latest News</a><a class=\"cb-subnav-item\" href=\"/cricket-news/info/\" target=\"_self\" title=\"Latest Cricket Topics\">Topics</a><a class=\"cb-subnav-item\" href=\"/cricket-news/editorial/spotlight\" target=\"_self\" title=\"Cricket Editorials and Specials\">Spotlight</a><a class=\"cb-subnav-item\" href=\"/cricket-news/editorial/editorial-list\" target=\"_self\" title=\"Latest Cricket Opinions &amp; Editorials\">Opinions</a><a class=\"cb-subnav-item\" href=\"/cricket-news/editorial/specials\" target=\"_self\" title=\"Latest Cricket Specials\">Specials</a><a class=\"cb-subnav-item\" href=\"/cricket-news/editorial/stats-analysis\" target=\"_self\" title=\"Latest Cricket Stats &amp; Analysis\">Stats &amp; Analysis</a><a class=\"cb-subnav-item\" href=\"/cricket-news/editorial/interviews\" target=\"_self\" title=\"Latest Cricket Player Interviews\">Interviews</a><a class=\"cb-subnav-item\" href=\"/cricket-news/editorial/live-blogs\" target=\"_self\" title=\"Latest Cricket Match live blogs\">Live Blogs</a><a class=\"cb-subnav-item\" href=\"/cricket-news/experts/harsha-bhogle/170\" target=\"_self\" title=\"Articles and Videos by Harsha Bhogle\">Harsha Bhogle</a></nav></div><div class=\"cb-subnav cb-hm-mnu-itm feature-button cursor-pointer\" id=\"seriesDropDown\"><a class=\"text-white\" href=\"/cricket-schedule/series\" target=\"_self\">Series</a><span class=\"cb-caret-down\"></span><nav class=\"cb-sub-navigation\"><a class=\"cb-subnav-item\" href=\"/cricket-series/2697/icc-cricket-world-cup-2019\" target=\"_self\" title=\"ICC Cricket World Cup 2019\">ICC Cricket World Cup 2019</a><a class=\"cb-subnav-item\" href=\"/cricket-series/2818/zimbabwe-tour-of-netherlands-2019\" target=\"_self\" title=\"Zimbabwe tour of Netherlands, 2019\">Zimbabwe tour of Netherlands, 2019</a><a class=\"cb-subnav-item\" href=\"/cricket-series/2844/malaysia-tri-series-2019\" target=\"_self\" title=\"Malaysia Tri-Series 2019\">Malaysia Tri-Series 2019</a><a class=\"cb-subnav-item\" href=\"/cricket-series/2793/zimbabwe-tour-of-ireland-2019\" target=\"_self\" title=\"Zimbabwe tour of Ireland, 2019\">Zimbabwe tour of Ireland, 2019</a><a class=\"cb-subnav-item\" href=\"/cricket-series/2777/west-indies-women-tour-of-england-2019\" target=\"_self\" title=\"West Indies Women tour of England, 2019\">West Indies Women tour of England, 2019</a><a class=\"cb-subnav-item\" href=\"/cricket-series/2780/county-championship-division-one-2019\" target=\"_self\" title=\"County Championship Division One 2019\">County Championship Division One 2019</a></nav></div><div class=\"cb-subnav cb-hm-mnu-itm feature-button cursor-pointer\" id=\"teamDropDown\"><a class=\"text-white\" href=\"/cricket-team\" target=\"_self\">Teams</a><span class=\"cb-caret-down\"></span><nav class=\"cb-sub-navigation cb-sub-lg\"> <div class=\"cb-sub-lg-outer\"> <div class=\"cb-sub-lg-sec\"> <h4 class=\"cb-sub-lg-sec-head\">Test Teams</h4> <a class=\"cb-subnav-item cb-sub-lg-sec-item\" href=\"/cricket-team/india/2\" target=\"_self\" title=\"India Cricket Team\">India</a> <a class=\"cb-subnav-item cb-sub-lg-sec-item\" href=\"/cricket-team/pakistan/3\" target=\"_self\" title=\"Pakistan Cricket Team\">Pakistan</a> <a class=\"cb-subnav-item cb-sub-lg-sec-item\" href=\"/cricket-team/australia/4\" target=\"_self\" title=\"Australia Cricket Team\">Australia</a> <a class=\"cb-subnav-item cb-sub-lg-sec-item\" href=\"/cricket-team/sri-lanka/5\" target=\"_self\" title=\"Sri Lanka Cricket Team\">Sri Lanka</a> <a class=\"cb-subnav-item cb-sub-lg-sec-item\" href=\"/cricket-team/bangladesh/6\" target=\"_self\" title=\"Bangladesh Cricket Team\">Bangladesh</a> <a class=\"cb-subnav-item cb-sub-lg-sec-item\" href=\"/cricket-team/england/9\" target=\"_self\" title=\"England Cricket Team\">England</a> <a class=\"cb-subnav-item cb-sub-lg-sec-item\" href=\"/cricket-team/west-indies/10\" target=\"_self\" title=\"West Indies Cricket Team\">West Indies</a> <a class=\"cb-subnav-item cb-sub-lg-sec-item\" href=\"/cricket-team/south-africa/11\" target=\"_self\" title=\"South Africa Cricket Team\">South Africa</a> <a class=\"cb-subnav-item cb-sub-lg-sec-item\" href=\"/cricket-team/zimbabwe/12\" target=\"_self\" title=\"Zimbabwe Cricket Team\">Zimbabwe</a> <a class=\"cb-subnav-item cb-sub-lg-sec-item\" href=\"/cricket-team/new-zealand/13\" target=\"_self\" title=\"New Zealand Cricket Team\">New Zealand</a> <a class=\"cb-subnav-item cb-sub-lg-sec-item\" href=\"/cricket-team/ireland/27\" target=\"_self\" title=\"Ireland Cricket Team\">Ireland</a> <a class=\"cb-subnav-item cb-sub-lg-sec-item\" href=\"/cricket-team/afghanistan/96\" target=\"_self\" title=\"Afghanistan Cricket Team\">Afghanistan</a> </div> <div class=\"cb-sub-lg-sec\"> <h4 class=\"cb-sub-lg-sec-head\">Associate</h4> <a class=\"cb-subnav-item cb-sub-lg-sec-item\" href=\"/cricket-team/united-arab-emirates/7\" target=\"_self\" title=\"United Arab Emirates Cricket Team\">United Arab Emirates</a> <a class=\"cb-subnav-item cb-sub-lg-sec-item\" href=\"/cricket-team/hong-kong/8\" target=\"_self\" title=\"Hong Kong Cricket Team\">Hong Kong</a> <a class=\"cb-subnav-item cb-sub-lg-sec-item\" href=\"/cricket-team/kenya/14\" target=\"_self\" title=\"Kenya Cricket Team\">Kenya</a> <a class=\"cb-subnav-item cb-sub-lg-sec-item\" href=\"/cricket-team/united-states/15\" target=\"_self\" title=\"United States Cricket Team\">United States</a> <a class=\"cb-subnav-item cb-sub-lg-sec-item\" href=\"/cricket-team/scotland/23\" target=\"_self\" title=\"Scotland Cricket Team\">Scotland</a> <a class=\"cb-subnav-item cb-sub-lg-sec-item\" href=\"/cricket-team/netherlands/24\" target=\"_self\" title=\"Netherlands Cricket Team\">Netherlands</a> <a class=\"cb-subnav-item cb-sub-lg-sec-item\" href=\"/cricket-team/bermuda/25\" target=\"_self\" title=\"Bermuda Cricket Team\">Bermuda</a> <a class=\"cb-subnav-item cb-sub-lg-sec-item\" href=\"/cricket-team/canada/26\" target=\"_self\" title=\"Canada Cricket Team\">Canada</a> <a class=\"cb-subnav-item cb-sub-lg-sec-item\" href=\"/cricket-team/uganda/44\" target=\"_self\" title=\"Uganda Cricket Team\">Uganda</a> <a class=\"cb-subnav-item cb-sub-lg-sec-item\" href=\"/cricket-team/malaysia/71\" target=\"_self\" title=\"Malaysia Cricket Team\">Malaysia</a> <a class=\"cb-subnav-item cb-sub-lg-sec-item\" href=\"/cricket-team/nepal/72\" target=\"_self\" title=\"Nepal Cricket Team\">Nepal</a> <a class=\"cb-subnav-item cb-sub-lg-sec-item\" href=\"/cricket-team/germany/77\" target=\"_self\" title=\"Germany Cricket Team\">Germany</a> </div> </div> <a class=\"cb-sub-lg-more\" href=\"/cricket-team\" target=\"_self\">More...</a></nav></div> <div class=\"cb-subnav cb-hm-mnu-itm feature-button cursor-pointer\" id=\"videosDropDown\"><a class=\"text-white\" href=\"/cricket-videos\" target=\"_self\">Videos</a><span class=\"cb-caret-down\"></span> <nav class=\"cb-sub-navigation\"> <a class=\"cb-subnav-item\" href=\"/cricket-videos\" target=\"_self\" title=\"All Cricket Videos\">All Videos</a> <a class=\"cb-subnav-item\" href=\"/cricket-videos/categories\" target=\"_self\" title=\"Cricket Videos Categories\">Categories</a> <a class=\"cb-subnav-item\" href=\"/cricket-videos/playlists\" target=\"_self\" title=\"Cricket Videos Playlists\">Playlists</a> </nav> </div> <div class=\"cb-subnav cb-hm-mnu-itm feature-button cursor-pointer\" id=\"rankingDropDown\"><a class=\"text-white\" href=\"/cricket-stats/icc-rankings/men/batting\">Rankings</a><span class=\"cb-caret-down\"></span><nav class=\"cb-sub-navigation\"><a class=\"cb-subnav-item\" href=\"/cricket-stats/icc-rankings/men/batting\" target=\"_self\" title=\"ICC Rankings Men\">ICC Rankings - Men</a><a class=\"cb-subnav-item\" href=\"/cricket-stats/icc-rankings/women/batting\" target=\"_self\" title=\"ICC Rankings Women\">ICC Rankings - Women</a></nav></div> <div class=\"cb-subnav cb-hm-mnu-itm feature-button cursor-pointer\">More<span class=\"cb-caret-down\"></span><nav class=\"cb-sub-navigation\" style=\"right:0px;\"> <a class=\"cb-subnav-item\" href=\"/cricket-photo-gallery\" target=\"_self\" title=\"Photo Gallery\">Photos</a> <a class=\"cb-subnav-item\" href=\"/mobileapps\" target=\"_self\" title=\"Mobile Apps\">Mobile Apps</a><a class=\"cb-subnav-item\" href=\"/careers\" target=\"_self\" title=\"Careers\">Careers</a><a class=\"cb-subnav-item\" href=\"/info/contact\" target=\"_self\" title=\"Contact Us\">Contact Us</a></nav></div> <div ng-controller=\"SearchCtrl\" ng-init=\" init(-1, 61, 76, 350, '', 'nav')\"> <div class=\"cb-nav-search-wrap\" ng-style=\"{width: inputFocus?'830px':'170px'}\"> <div class=\"cb-col-100 cb-col cb-srch-bar cb-srch-bar-nav\"> <form class=\"cb-search-form\" name=\"form\" ng-cloak=\"\" ng-submit=\"search_results(false, false)\"> <div class=\"cb-search-input-nav\"> <div class=\"cb-search-outer\"> <div class=\"cb-search-input-wrap\"> <input autocomplete=\"off\" class=\"js-cb-search-input cb-search-input-elem cb-search-input-elem-nav form-control cb-car-inp cb-srch-bg\" id=\"search_bar\" maxlength=\"500\" name=\"search\" ng-blur=\"loseInputFocus()\" ng-change=\"suggest_search()\" ng-class=\"{'cb-search-input-elem-error-nav':errorText, 'cb-srch-high-zIndex':dropdownVisible, 'cb-srch-input-focus':inputFocus}\" ng-focus=\"onInputFocus()\" ng-keydown=\"onKeyPress($event)\" ng-model=\"searchText\" ng-model-options=\"{ debounce: 400 }\" placeholder=\"{{errorText?errorText:(source == 'nav' &amp;&amp; inputFocus) || source == 'search-page'?'Search for Player, Series, Team, News or Video. eg: Windies tour of India': 'Search'}}\" type=\"text\" value=\"suggest.title\"/> <span class=\"cb-ico cb-search-input-icon cb-search-input-icon-nav\"></span> <span class=\"cb-srch-cross-new cb-srch-cross-new-nav cb-font-14\" ng-class=\"{'cb-srch-cross-focus': inputFocus, 'cb-srch-high-zIndex':dropdownVisible}\" ng-click=\"reset_form('view');\" ng-show=\"searchText.length &gt; 0\">â</span> </div> <div class=\"cb-srch-backdrop\" ng-click=\"hideDropdown()\" ng-show=\"dropdownVisible\"></div> <div class=\"cb-main-srch-box-wrap\" ng-show=\"dropdownVisible &amp;&amp; searchText.length &gt;= 2 &amp;&amp; search_ftr_suggst.length &gt; 0\"> <ul class=\"cb-main-srch-box\" id=\"searchBox_nav\"> <li class=\"cb-main-srch-box-item {{selected_suggestions == $index?'highlight':''}}\" id=\"search_item_{{$index}}\" ng-class=\"{'cb-main-srch-box-item-border':suggest.hasBorder, 'cb-big': suggest.isSearchItem}\" ng-click=\"search_results()\" ng-mouseover=\"highlight_item_mouse_hover($index)\" ng-repeat=\"suggest in search_ftr_suggst track by $index\" ng-show=\"suggestions &amp;&amp; searchText.length &gt; 0 &amp;&amp; inputFocus\"> <a class=\"text-black cb-srch-suggest-link\" ng-if=\"!suggest.isSearchItem\"> <div class=\"cb-srch-suggest-img\" ng-class=\"{'cb-srch-suggest-img-teams': suggest.type == 'Teams'}\"> <div class=\"\" ng-if=\"suggest.imgUrl\"> <img class=\"cb-srch-suggest-icon-img\" ng-src=\"{{suggest.imgUrl}}\"> </img></div> <div class=\"cb-srch-sugggest-icon {{suggest.iconClass}} cb-ico\" ng-if=\"!suggest.imgUrl\"> </div> </div> <div class=\"cb-srch-suggest-content\"> <p class=\"cb-srch-suggest-content-title\" ng-bind-html=\"suggest | searchfilter:oldText\"></p> <p class=\"cb-srch-suggest-content-subtitle cb-font-12 cb-text-gray\">{{suggest.tag}}</p> </div> </a> <a class=\"text-black cb-srch-suggest-link\" href=\"javascript:void(0)\" ng-if=\"suggest.isSearchItem\"> <div class=\"cb-srch-suggest-img\"> <div class=\"cb-srch-sugggest-icon cb-srch-sugggest-icon-search cb-ico\"> </div> </div> <div class=\"cb-srch-suggest-content cb-center-text\"> <p class=\"cb-srch-suggest-content-title\">Search for “<span ng-bind=\"searchText\"></span>”</p> </div> </a> </li> </ul> </div> </div> </div> <div class=\"cb-search-submit-nav\" ng-class=\"{'cb-search-submit-input-focus': inputFocus, 'cb-search-submit-error': errorText}\"> <a class=\"text-white cb-srch-bttn\" ng-class=\"{'cb-srch-high-zIndex':dropdownVisible}\" ng-click=\"search_results(false, true)\">SEARCH</a> </div> </form></div><style>.cb-srch-ico{margin: 0}</style> </div> </div> </nav></div></header><div class=\"page\"><div id=\"fb-root\"></div><div class=\"container\" id=\"page-wrapper\" style=\"display:inline-block;\"><div class=\"ad-unit shosh-embed\" id=\"shosh\" style=\"height:0; width:980px; text-align:center;\"></div><span class=\"ad-unit\" id=\"skin_left\" style=\"overflow:hidden; position:fixed;top:0;left:calc(50% - 635px);margin-right:3px;z-index:-99;\"></span> <div class=\"html-refresh\" disable-first-load=\"true\" timeout=\"300000\" url=\"/api/html/matches-menu\"><div class=\"cb-col cb-col-100 mrgn-btm-5\"><nav class=\"cb-mat-mnu\" ng-init=\"direction='up'\"><a class=\"cb-mat-mnu-itm cb-ovr-flo cb-mat-mnu-ttl\" href=\"/cricket-match/live-scores\" id=\"live-scores-link\" target=\"_self\" title=\"\">MATCHES</a><a class=\"cb-mat-mnu-itm cb-ovr-flo\" href=\"/live-cricket-scores/20274/eng-vs-ind-match-38-icc-cricket-world-cup-2019\" target=\"_self\" title=\"England v India,Match 38 - ENG Won\">ENG vs IND - ENG Won</a><a class=\"cb-mat-mnu-itm cb-ovr-flo\" href=\"/live-cricket-scores/20273/nz-vs-aus-match-37-icc-cricket-world-cup-2019\" target=\"_self\" title=\"New Zealand v Australia,Match 37 - AUS Won\">NZ vs AUS - AUS Won</a><a class=\"cb-mat-mnu-itm cb-ovr-flo\" href=\"/live-cricket-scores/20275/sl-vs-wi-match-39-icc-cricket-world-cup-2019\" target=\"_self\" title=\"Sri Lanka v West Indies,Match 39 - Preview\">SL vs WI - Preview</a><a class=\"cb-mat-mnu-itm cb-ovr-flo\" href=\"/live-cricket-scores/22232/ire-vs-zim-1st-odi-zimbabwe-tour-of-ireland-2019\" target=\"_self\" title=\"Ireland v Zimbabwe,1st ODI - Preview\">IRE vs ZIM - Preview</a><a class=\"cb-mat-mnu-itm cb-ovr-flo\" href=\"/live-cricket-scores/21723/yorks-vs-sur-county-div-1-county-championship-division-one-2019\" target=\"_self\" title=\"Yorkshire v Surrey,County Div 1 - Stumps\">YORKS vs SUR - Stumps</a><span ng-click=\"(direction=='up')?direction = 'down' : direction = 'up'\"><a class=\"cb-mat-mnu-itm cb-mat-mnu-all\" id=\"match-dropdown\" ng-class=\"{true:'cb-mat-mnu-cls'}[direction=='down']\"><span ng-bind=\"(direction=='up') ? 'ALL': 'CLOSE'\"></span><span ng-class=\"(direction=='up') ? 'cb-caret-down' : 'cb-caret-up'\"></span></a></span></nav><div id=\"matchmenu\"><div class=\"cb-mm-wrp {{direction}}\"><div class=\"cb-scg-drp-dwn cb-col cb-col-100 cb-mnu-{{direction}}\"><nav class=\"nav cb-mm-nvtb\" ng-init=\"option= 'all'\"><a class=\"cb-nav-pill-2 {{(option=='all')?'active':''}}\" ng-click=\"option='all'\" style=\"margin-right: 20px;\">All</a><a class=\"cb-nav-pill-2 {{(option=='live')?'active':''}}\" ng-click=\"option='live'\" style=\"margin-right: 20px;\">Live Now</a><a class=\"cb-nav-pill-2 {{(option=='today')?'active':''}}\" ng-click=\"option='today'\" style=\"margin-right: 20px;\">Today</a></nav><style>.cb-nt-{{option}}{opacity:0.4!important;}</style><ul class=\"cb-scg-drp-dwn-ul\"><li class=\"cb-lst-mtch cb-lst-dom\"> <div style=\"display:inline-block\"><div class=\"cb-mm-typ\">INTERNATIONAL</div><div class=\"cb-scg-srs-nm\">ICC Cricket WC 2019</div><div class=\"cb-mtch-all cb-nt-live cb-nt-today\"><a href=\"/live-cricket-scores/20274/eng-vs-ind-match-38-icc-cricket-world-cup-2019\" target=\"_self\" title=\"England v India,Match 38 - ENG Won\"><span class=\"cb-mm-mtch-tm\">England vs India</span><span class=\"cb-mm-liv-tag\"></span></a><div class=\"cb-mm-mtch-nm\">Match 38</div></div></div></li><li class=\"cb-lst-mtch cb-lst-dom\"> <div style=\"display:inline-block\"><div class=\"cb-mtch-all cb-nt-live cb-nt-today\"><a href=\"/live-cricket-scores/20273/nz-vs-aus-match-37-icc-cricket-world-cup-2019\" target=\"_self\" title=\"New Zealand v Australia,Match 37 - AUS Won\"><span class=\"cb-mm-mtch-tm\">New Zealand vs Australia</span><span class=\"cb-mm-liv-tag\"></span></a><div class=\"cb-mm-mtch-nm\">Match 37</div></div></div></li><li class=\"cb-lst-mtch cb-lst-dom\"> <div style=\"display:inline-block\"><div class=\"cb-mtch-all cb-nt-live\"><a href=\"/live-cricket-scores/20275/sl-vs-wi-match-39-icc-cricket-world-cup-2019\" target=\"_self\" title=\"Sri Lanka v West Indies,Match 39 - Preview\"><span class=\"cb-mm-mtch-tm\">Sri Lanka vs West Indies</span><span class=\"cb-mm-liv-tag\"></span></a><div class=\"cb-mm-mtch-nm\">Match 39</div></div></div></li><li class=\"cb-lst-mtch cb-lst-dom\"> <div style=\"display:inline-block\"><div class=\"cb-scg-srs-nm\">ZIM tour of IRE</div><div class=\"cb-mtch-all cb-nt-live\"><a href=\"/live-cricket-scores/22232/ire-vs-zim-1st-odi-zimbabwe-tour-of-ireland-2019\" target=\"_self\" title=\"Ireland v Zimbabwe,1st ODI - Preview\"><span class=\"cb-mm-mtch-tm\">Ireland vs Zimbabwe</span><span class=\"cb-mm-liv-tag\"></span></a><div class=\"cb-mm-mtch-nm\">1st ODI</div></div></div></li><li class=\"cb-lst-mtch cb-lst-dom\"> <div style=\"display:inline-block\"><div class=\"cb-mm-typ\">DOMESTIC</div><div class=\"cb-scg-srs-nm\">County Division One</div><div class=\"cb-mtch-all cb-nt-live\"><a href=\"/live-cricket-scores/21723/yorks-vs-sur-county-div-1-county-championship-division-one-2019\" target=\"_self\" title=\"Yorkshire v Surrey,County Div 1 - Stumps\"><span class=\"cb-mm-mtch-tm\">Yorkshire vs Surrey</span><span class=\"cb-mm-liv-tag\"></span></a><div class=\"cb-mm-mtch-nm\">County Div 1</div></div></div></li><li class=\"cb-lst-mtch cb-lst-dom\"> <div style=\"display:inline-block\"><div class=\"cb-mtch-all cb-nt-live\"><a href=\"/live-cricket-scores/21715/kent-vs-warks-county-div-1-county-championship-division-one-2019\" target=\"_self\" title=\"Kent v Warwickshire,County Div 1 - Stumps\"><span class=\"cb-mm-mtch-tm\">Kent vs Warwickshire</span><span class=\"cb-mm-liv-tag\"></span></a><div class=\"cb-mm-mtch-nm\">County Div 1</div></div></div></li><li class=\"cb-lst-mtch cb-lst-dom\"> <div style=\"display:inline-block\"><div class=\"cb-mtch-all cb-nt-live\"><a href=\"/live-cricket-scores/21720/som-vs-ham-county-div-1-county-championship-division-one-2019\" target=\"_self\" title=\"Somerset v Hampshire,County Div 1 - Stumps\"><span class=\"cb-mm-mtch-tm\">Somerset vs Hampshire</span><span class=\"cb-mm-liv-tag\"></span></a><div class=\"cb-mm-mtch-nm\">County Div 1</div></div></div></li><li class=\"cb-lst-mtch cb-lst-dom\"> <div style=\"display:inline-block\"><div class=\"cb-mtch-all cb-nt-live\"><a href=\"/live-cricket-scores/21718/notts-vs-ess-county-div-1-county-championship-division-one-2019\" target=\"_self\" title=\"Nottinghamshire v Essex,County Div 1 - Stumps\"><span class=\"cb-mm-mtch-tm\">Nottinghamshire vs Essex</span><span class=\"cb-mm-liv-tag\"></span></a><div class=\"cb-mm-mtch-nm\">County Div 1</div></div></div></li><li class=\"cb-lst-mtch cb-lst-dom\"> <div style=\"display:inline-block\"><div class=\"cb-scg-srs-nm\">County Division Two</div><div class=\"cb-mtch-all cb-nt-live\"><a href=\"/live-cricket-scores/21726/derby-vs-mdx-county-div-2-county-championship-division-two-2019\" target=\"_self\" title=\"Derbyshire v Middlesex,County Div 2 - Stumps\"><span class=\"cb-mm-mtch-tm\">Derbyshire vs Middlesex</span><span class=\"cb-mm-liv-tag\"></span></a><div class=\"cb-mm-mtch-nm\">County Div 2</div></div></div></li><li class=\"cb-lst-mtch cb-lst-dom\"> <div style=\"display:inline-block\"><div class=\"cb-mtch-all cb-nt-live\"><a href=\"/live-cricket-scores/21725/glam-vs-worcs-county-div-2-county-championship-division-two-2019\" target=\"_self\" title=\"Glamorgan v Worcestershire,County Div 2 - Stumps\"><span class=\"cb-mm-mtch-tm\">Glamorgan vs Worcestershire</span><span class=\"cb-mm-liv-tag\"></span></a><div class=\"cb-mm-mtch-nm\">County Div 2</div></div></div></li><li class=\"cb-lst-mtch cb-lst-dom\"> <div style=\"display:inline-block\"><div class=\"cb-mtch-all cb-nt-live\"><a href=\"/live-cricket-scores/21724/sus-vs-nor-county-div-2-county-championship-division-two-2019\" target=\"_self\" title=\"Sussex v Northamptonshire,County Div 2 - Stumps\"><span class=\"cb-mm-mtch-tm\">Sussex vs Northamptonshire</span><span class=\"cb-mm-liv-tag\"></span></a><div class=\"cb-mm-mtch-nm\">County Div 2</div></div></div></li><li class=\"cb-lst-mtch cb-lst-dom\"> <div style=\"display:inline-block\"><div class=\"cb-mtch-all cb-nt-live\"><a href=\"/live-cricket-scores/21722/lancs-vs-dur-county-div-2-county-championship-division-two-2019\" target=\"_self\" title=\"Lancashire v Durham,County Div 2 - Stumps\"><span class=\"cb-mm-mtch-tm\">Lancashire vs Durham</span><span class=\"cb-mm-liv-tag\"></span></a><div class=\"cb-mm-mtch-nm\">County Div 2</div></div></div></li><li class=\"cb-lst-mtch cb-lst-dom\"> <div style=\"display:inline-block\"><div class=\"cb-scg-srs-nm\">AUS A tour of ENG, 2019</div><div class=\"cb-mtch-all cb-nt-live cb-nt-today\"><a href=\"/live-cricket-scores/22384/gloucs-vs-ausa-4th-unofficial-odi-australia-a-tour-of-england-2019\" target=\"_self\" title=\"Gloucestershire v Australia A,4th unofficial ODI - AUSA Won\"><span class=\"cb-mm-mtch-tm\">Gloucestershire vs Australia A</span><span class=\"cb-mm-liv-tag\"></span></a><div class=\"cb-mm-mtch-nm\">4th unofficial ODI</div></div></div></li><li class=\"cb-lst-mtch cb-lst-dom\"> <div style=\"display:inline-block\"><div class=\"cb-scg-srs-nm\">PAK U19 tour of SA</div><div class=\"cb-mtch-all cb-nt-live cb-nt-today\"><a href=\"/live-cricket-scores/22864/rsau19-vs-paku19-4th-youth-odi-pakistan-under-19-tour-of-south-africa-2019\" target=\"_self\" title=\"South Africa U19 v Pakistan U19,4th Youth ODI - PAKU19 Won\"><span class=\"cb-mm-mtch-tm\">South Africa U19 vs Pakistan U19</span><span class=\"cb-mm-liv-tag\"></span></a><div class=\"cb-mm-mtch-nm\">4th Youth ODI</div></div></div></li></ul></div></div></div></div></div> <div class=\"cb-col cb-col-100\" id=\"strip_wrapper\"><div class=\"pull-left ad-unit\" id=\"large_strip\"></div><div class=\"pull-right ad-unit\" id=\"small_strip\"></div><div class=\"pull-left ad-unit\" id=\"super_strip\"></div></div><div class=\"cb-nav-main cb-col-100 cb-col cb-bg-white\"><nav class=\"cb-nav-bar\" role=\"navigation\"><a class=\"cb-nav-tab active\" href=\"/cricket-match/live-scores\" target=\"_self\" title=\"Cricbuzz Live Scores\">Current Matches</a><a class=\"cb-nav-tab\" href=\"/cricket-schedule/series\" target=\"_self\" title=\"Series Schedule\">Current &amp; Future Series</a><a class=\"cb-nav-tab\" href=\"/cricket-schedule/upcoming-series/international\" target=\"_self\" title=\"Cricket Schedule\">Matches By Day</a><a class=\"cb-nav-tab\" href=\"/cricket-team\" target=\"_self\" title=\"Teams Schedule\">Teams</a><a class=\"cb-nav-tab\" href=\"/cricket-scorecard-archives\" target=\"_self\" title=\"Cricket Scorecard Archives\">Series Archive</a></nav></div><div class=\"cb-bg-white cb-col-100 cb-col\"><div class=\"cb-col-67 cb-col cb-left cb-schdl\"><h1 class=\"cb-schdl-hdr cb-font-24 line-ht30\">Live Cricket Score</h1><nav class=\"cb-font-12 cb-schdl-nvtb\" gtm-label=\"live scores\"><a class=\"cb-nav-pill-1 active\" href=\"/cricket-match/live-scores\" id=\"All-tab\">All</a><a class=\"cb-nav-pill-1\" href=\"/scores-home-domestic\" id=\"Domestic-tab\">Domestic &amp; Others</a></nav><div class=\"cb-col cb-col-100 cb-lv-main\"><h2 class=\"cb-lv-grn-strip text-bold cb-lv-scr-mtch-hdr\" title=\"ICC Cricket World Cup 2019\">ICC CRICKET WORLD CUP 2019</h2><div class=\"cb-mtch-lst cb-col cb-col-100 cb-tms-itm\"><div class=\"cb-col-100 cb-col cb-schdl\"><h3 class=\"cb-lv-scr-mtch-hdr inline-block\"><a class=\"text-hvr-underline text-bold\" href=\"/live-cricket-scores/20274/eng-vs-ind-match-38-icc-cricket-world-cup-2019\" title=\"England vs India\">England vs India,</a></h3><span class=\"text-gray\"> Match 38</span><div class=\"text-gray\"><span class=\"schedule-date\" format=\"MMM dd'\" timestamp=\"1561887000000\"></span><span> • </span><span ng-bind=\"1561887000000 |date:'h:mm a'\"></span><span class=\"text-gray\"> at Edgbaston, Birmingham</span></div></div><div class=\"cb-col-100 cb-col cb-schdl\"><a class=\"cb-lv-scrs-well cb-lv-scrs-well-complete\" href=\"/live-cricket-scores/20274/eng-vs-ind-match-38-icc-cricket-world-cup-2019\" title=\"England vs India Match 38\"> <div class=\"cb-col\"> <div class=\"cb-scr-wll-chvrn\"> <div class=\"cb-lv-scrs-col text-black\"><span class=\"text-bold\">IND</span> 306/5 (50.0 Ovs) <span class=\"cb-series-sch-dot\"> • </span> <span class=\"text-bold\">ENG</span> 337/7 (50.0 Ovs)</div> <div class=\"cb-lv-scrs-col cb-text-complete\">England won by 31 runs</div> </div> <div class=\"cb-scr-wll-chvrn\"> <div class=\"cb-ico cb-lv-scr-chvrn-bg\"></div> </div> </div> </a></div><nav class=\"cb-col-100 cb-col padt5\"><a class=\"cb-text-link cb-mtch-lnks\" href=\"/live-cricket-scores/20274/eng-vs-ind-match-38-icc-cricket-world-cup-2019\">Live Score</a><a class=\"cb-text-link cb-mtch-lnks\" href=\"/live-cricket-scorecard/20274/eng-vs-ind-match-38-icc-cricket-world-cup-2019\">Scorecard</a><a class=\"cb-text-link cb-mtch-lnks\" href=\"/cricket-full-commentary/20274/eng-vs-ind-match-38-icc-cricket-world-cup-2019\">Full Commentary</a><a class=\"cb-text-link cb-mtch-lnks\" href=\"/cricket-match-news/20274/eng-vs-ind-match-38-icc-cricket-world-cup-2019\">News</a></nav></div></div><div class=\"cb-col cb-col-100 cb-lv-main\"><div class=\"cb-mtch-lst cb-col cb-col-100 cb-tms-itm\"><div class=\"cb-col-100 cb-col cb-schdl\"><h3 class=\"cb-lv-scr-mtch-hdr inline-block\"><a class=\"text-hvr-underline text-bold\" href=\"/live-cricket-scores/20273/nz-vs-aus-match-37-icc-cricket-world-cup-2019\" title=\"New Zealand vs Australia\">New Zealand vs Australia,</a></h3><span class=\"text-gray\"> Match 37</span><div class=\"text-gray\"><span class=\"schedule-date\" format=\"MMM dd'\" timestamp=\"1561811400000\"></span><span> • </span><span ng-bind=\"1561811400000 |date:'h:mm a'\"></span><span class=\"text-gray\"> at Lord's, London</span></div></div><div class=\"cb-col-100 cb-col cb-schdl\"><a class=\"cb-lv-scrs-well cb-lv-scrs-well-complete\" href=\"/live-cricket-scores/20273/nz-vs-aus-match-37-icc-cricket-world-cup-2019\" title=\"New Zealand vs Australia Match 37\"> <div class=\"cb-col\"> <div class=\"cb-scr-wll-chvrn\"> <div class=\"cb-lv-scrs-col text-black\"><span class=\"text-bold\">NZ</span> 157-all out (43.4 Ovs) <span class=\"cb-series-sch-dot\"> • </span> <span class=\"text-bold\">AUS</span> 243/9 (50.0 Ovs)</div> <div class=\"cb-lv-scrs-col cb-text-complete\">Australia won by 86 runs</div> </div> <div class=\"cb-scr-wll-chvrn\"> <div class=\"cb-ico cb-lv-scr-chvrn-bg\"></div> </div> </div> </a></div><nav class=\"cb-col-100 cb-col padt5\"><a class=\"cb-text-link cb-mtch-lnks\" href=\"/live-cricket-scores/20273/nz-vs-aus-match-37-icc-cricket-world-cup-2019\">Live Score</a><a class=\"cb-text-link cb-mtch-lnks\" href=\"/live-cricket-scorecard/20273/nz-vs-aus-match-37-icc-cricket-world-cup-2019\">Scorecard</a><a class=\"cb-text-link cb-mtch-lnks\" href=\"/cricket-full-commentary/20273/nz-vs-aus-match-37-icc-cricket-world-cup-2019\">Full Commentary</a><a class=\"cb-text-link cb-mtch-lnks\" href=\"/cricket-match-news/20273/nz-vs-aus-match-37-icc-cricket-world-cup-2019\">News</a></nav></div></div><div class=\"cb-col cb-col-100 cb-lv-main\"><div class=\"cb-mtch-lst cb-col cb-col-100 cb-tms-itm\"><div class=\"cb-col-100 cb-col cb-schdl\"><h3 class=\"cb-lv-scr-mtch-hdr inline-block\"><a class=\"text-hvr-underline text-bold\" href=\"/live-cricket-scores/20275/sl-vs-wi-match-39-icc-cricket-world-cup-2019\" title=\"Sri Lanka vs West Indies\">Sri Lanka vs West Indies,</a></h3><span class=\"text-gray\"> Match 39</span><div class=\"text-gray\"><span class=\"schedule-date\" format=\"MMM dd'\" timestamp=\"1561973400000\"></span><span> • </span><span ng-bind=\"1561973400000 |date:'h:mm a'\"></span><span class=\"text-gray\"> at Riverside Ground, Chester-le-Street</span></div></div><div class=\"cb-col-100 cb-col cb-schdl\"><a class=\"cb-lv-scrs-well cb-lv-scrs-well-preview\" href=\"/live-cricket-scores/20275/sl-vs-wi-match-39-icc-cricket-world-cup-2019\" title=\"Sri Lanka vs West Indies Match 39\"> <span class=\"cb-text-preview\">Read Preview</span> <span class=\"cb-ico cb-lv-scr-chvrn-sml\"></span> </a></div><nav class=\"cb-col-100 cb-col padt5\"><a class=\"cb-text-link cb-mtch-lnks\" href=\"/cricket-match-facts/20275/sl-vs-wi-match-39-icc-cricket-world-cup-2019\">Match Facts</a><a class=\"cb-text-link cb-mtch-lnks\" href=\"/cricket-match-news/20275/sl-vs-wi-match-39-icc-cricket-world-cup-2019\">News</a></nav></div></div><div class=\"cb-col cb-col-100 cb-lv-main\"><h2 class=\"cb-lv-grn-strip text-bold cb-lv-scr-mtch-hdr\" title=\"Zimbabwe tour of Ireland, 2019\">ZIMBABWE TOUR OF IRELAND, 2019</h2><div class=\"cb-mtch-lst cb-col cb-col-100 cb-tms-itm\"><div class=\"cb-col-100 cb-col cb-schdl\"><h3 class=\"cb-lv-scr-mtch-hdr inline-block\"><a class=\"text-hvr-underline text-bold\" href=\"/live-cricket-scores/22232/ire-vs-zim-1st-odi-zimbabwe-tour-of-ireland-2019\" title=\"Ireland vs Zimbabwe\">Ireland vs Zimbabwe,</a></h3><span class=\"text-gray\"> 1st ODI</span><div class=\"text-gray\"><span class=\"schedule-date\" format=\"MMM dd'\" timestamp=\"1561974300000\"></span><span> • </span><span ng-bind=\"1561974300000 |date:'h:mm a'\"></span><span class=\"text-gray\"> at Bready Cricket Club, Bready, Northern Ireland</span></div></div><div class=\"cb-col-100 cb-col cb-schdl\"><a class=\"cb-lv-scrs-well cb-lv-scrs-well-preview\" href=\"/live-cricket-scores/22232/ire-vs-zim-1st-odi-zimbabwe-tour-of-ireland-2019\" title=\"Ireland vs Zimbabwe 1st ODI\"> <span class=\"cb-text-preview\">Read Preview</span> <span class=\"cb-ico cb-lv-scr-chvrn-sml\"></span> </a></div><nav class=\"cb-col-100 cb-col padt5\"><a class=\"cb-text-link cb-mtch-lnks\" href=\"/cricket-match-facts/22232/ire-vs-zim-1st-odi-zimbabwe-tour-of-ireland-2019\">Match Facts</a><a class=\"cb-text-link cb-mtch-lnks\" href=\"/cricket-match-news/22232/ire-vs-zim-1st-odi-zimbabwe-tour-of-ireland-2019\">News</a></nav></div></div><div class=\"cb-col cb-col-100 cb-lv-main\"><h2 class=\"cb-lv-grn-strip text-bold cb-lv-scr-mtch-hdr\" title=\"County Championship Division One 2019\">COUNTY CHAMPIONSHIP DIVISION ONE 2019</h2><div class=\"cb-mtch-lst cb-col cb-col-100 cb-tms-itm\"><div class=\"cb-col-100 cb-col cb-schdl\"><h3 class=\"cb-lv-scr-mtch-hdr inline-block\"><a class=\"text-hvr-underline text-bold\" href=\"/live-cricket-scores/21723/yorks-vs-sur-county-div-1-county-championship-division-one-2019\" title=\"Yorkshire vs Surrey\">Yorkshire vs Surrey,</a></h3><span class=\"text-gray\"> County Div 1</span><div class=\"text-gray\"><span class=\"schedule-date\" format=\"MMM dd'\" timestamp=\"1561888800000\"></span><span> - </span><span class=\"schedule-date\" format=\"MMM dd'\" timestamp=\"1562112000000\"></span><span> • </span><span ng-bind=\"1561888800000 |date:'h:mm a'\"></span><span class=\"text-gray\"> at North Marine Road Ground, Scarborough</span></div></div><div class=\"cb-col-100 cb-col cb-schdl\"><a class=\"cb-lv-scrs-well cb-lv-scrs-well-live\" href=\"/live-cricket-scores/21723/yorks-vs-sur-county-div-1-county-championship-division-one-2019\" title=\"Yorkshire vs Surrey County Div 1\"> <div class=\"cb-col\"> <div class=\"cb-scr-wll-chvrn\"> <div class=\"cb-lv-scrs-col text-black\"><span class=\"text-bold\">SUR</span> 48/0 (14.0 Ovs) <span class=\"cb-series-sch-dot\"> • </span> <span class=\"text-bold\">YORKS</span> 327</div> <div class=\"cb-lv-scrs-col cb-text-live\">Day 1: Stumps - Surrey trail by 279 runs</div> </div> <div class=\"cb-scr-wll-chvrn\"> <div class=\"cb-ico cb-lv-scr-chvrn-bg\"></div> </div> </div> </a></div><nav class=\"cb-col-100 cb-col padt5\"><a class=\"cb-text-link cb-mtch-lnks\" href=\"/live-cricket-scores/21723/yorks-vs-sur-county-div-1-county-championship-division-one-2019\">Live Score</a><a class=\"cb-text-link cb-mtch-lnks\" href=\"/live-cricket-scorecard/21723/yorks-vs-sur-county-div-1-county-championship-division-one-2019\">Scorecard</a><a class=\"cb-text-link cb-mtch-lnks\" href=\"/cricket-full-commentary/21723/yorks-vs-sur-county-div-1-county-championship-division-one-2019\">Full Commentary</a><a class=\"cb-text-link cb-mtch-lnks\" href=\"/cricket-match-news/21723/yorks-vs-sur-county-div-1-county-championship-division-one-2019\">News</a></nav></div></div><div class=\"cb-col cb-col-100 cb-lv-main\"><div class=\"cb-mtch-lst cb-col cb-col-100 cb-tms-itm\"><div class=\"cb-col-100 cb-col cb-schdl\"><h3 class=\"cb-lv-scr-mtch-hdr inline-block\"><a class=\"text-hvr-underline text-bold\" href=\"/live-cricket-scores/21715/kent-vs-warks-county-div-1-county-championship-division-one-2019\" title=\"Kent vs Warwickshire\">Kent vs Warwickshire,</a></h3><span class=\"text-gray\"> County Div 1</span><div class=\"text-gray\"><span class=\"schedule-date\" format=\"MMM dd'\" timestamp=\"1561888800000\"></span><span> - </span><span class=\"schedule-date\" format=\"MMM dd'\" timestamp=\"1562112000000\"></span><span> • </span><span ng-bind=\"1561888800000 |date:'h:mm a'\"></span><span class=\"text-gray\"> at St Lawrence Ground, Canterbury</span></div></div><div class=\"cb-col-100 cb-col cb-schdl\"><a class=\"cb-lv-scrs-well cb-lv-scrs-well-live\" href=\"/live-cricket-scores/21715/kent-vs-warks-county-div-1-county-championship-division-one-2019\" title=\"Kent vs Warwickshire County Div 1\"> <div class=\"cb-col\"> <div class=\"cb-scr-wll-chvrn\"> <div class=\"cb-lv-scrs-col text-black\"><span class=\"text-bold\">KENT</span> 338/2 (96.0 Ovs) <span class=\"cb-series-sch-dot\"> • </span> <span class=\"text-bold\">WARKS</span> </div> <div class=\"cb-lv-scrs-col cb-text-live\">Day 1: Stumps</div> </div> <div class=\"cb-scr-wll-chvrn\"> <div class=\"cb-ico cb-lv-scr-chvrn-bg\"></div> </div> </div> </a></div><nav class=\"cb-col-100 cb-col padt5\"><a class=\"cb-text-link cb-mtch-lnks\" href=\"/live-cricket-scores/21715/kent-vs-warks-county-div-1-county-championship-division-one-2019\">Live Score</a><a class=\"cb-text-link cb-mtch-lnks\" href=\"/live-cricket-scorecard/21715/kent-vs-warks-county-div-1-county-championship-division-one-2019\">Scorecard</a><a class=\"cb-text-link cb-mtch-lnks\" href=\"/cricket-full-commentary/21715/kent-vs-warks-county-div-1-county-championship-division-one-2019\">Full Commentary</a><a class=\"cb-text-link cb-mtch-lnks\" href=\"/cricket-match-news/21715/kent-vs-warks-county-div-1-county-championship-division-one-2019\">News</a></nav></div></div><div class=\"cb-col cb-col-100 cb-lv-main\"><div class=\"cb-mtch-lst cb-col cb-col-100 cb-tms-itm\"><div class=\"cb-col-100 cb-col cb-schdl\"><h3 class=\"cb-lv-scr-mtch-hdr inline-block\"><a class=\"text-hvr-underline text-bold\" href=\"/live-cricket-scores/21720/som-vs-ham-county-div-1-county-championship-division-one-2019\" title=\"Somerset vs Hampshire\">Somerset vs Hampshire,</a></h3><span class=\"text-gray\"> County Div 1</span><div class=\"text-gray\"><span class=\"schedule-date\" format=\"MMM dd'\" timestamp=\"1561888800000\"></span><span> - </span><span class=\"schedule-date\" format=\"MMM dd'\" timestamp=\"1562112000000\"></span><span> • </span><span ng-bind=\"1561888800000 |date:'h:mm a'\"></span><span class=\"text-gray\"> at The Cooper Associates County Ground, Taunton</span></div></div><div class=\"cb-col-100 cb-col cb-schdl\"><a class=\"cb-lv-scrs-well cb-lv-scrs-well-live\" href=\"/live-cricket-scores/21720/som-vs-ham-county-div-1-county-championship-division-one-2019\" title=\"Somerset vs Hampshire County Div 1\"> <div class=\"cb-col\"> <div class=\"cb-scr-wll-chvrn\"> <div class=\"cb-lv-scrs-col text-black\"><span class=\"text-bold\">HAM</span> 15/1 (6.0 Ovs) <span class=\"cb-series-sch-dot\"> • </span> <span class=\"text-bold\">SOM</span> 408</div> <div class=\"cb-lv-scrs-col cb-text-live\">Day 1: Stumps - Hampshire trail by 393 runs</div> </div> <div class=\"cb-scr-wll-chvrn\"> <div class=\"cb-ico cb-lv-scr-chvrn-bg\"></div> </div> </div> </a></div><nav class=\"cb-col-100 cb-col padt5\"><a class=\"cb-text-link cb-mtch-lnks\" href=\"/live-cricket-scores/21720/som-vs-ham-county-div-1-county-championship-division-one-2019\">Live Score</a><a class=\"cb-text-link cb-mtch-lnks\" href=\"/live-cricket-scorecard/21720/som-vs-ham-county-div-1-county-championship-division-one-2019\">Scorecard</a><a class=\"cb-text-link cb-mtch-lnks\" href=\"/cricket-full-commentary/21720/som-vs-ham-county-div-1-county-championship-division-one-2019\">Full Commentary</a><a class=\"cb-text-link cb-mtch-lnks\" href=\"/cricket-match-news/21720/som-vs-ham-county-div-1-county-championship-division-one-2019\">News</a></nav></div></div><div class=\"cb-col cb-col-100 cb-lv-main\"><div class=\"cb-mtch-lst cb-col cb-col-100 cb-tms-itm\"><div class=\"cb-col-100 cb-col cb-schdl\"><h3 class=\"cb-lv-scr-mtch-hdr inline-block\"><a class=\"text-hvr-underline text-bold\" href=\"/live-cricket-scores/21718/notts-vs-ess-county-div-1-county-championship-division-one-2019\" title=\"Nottinghamshire vs Essex\">Nottinghamshire vs Essex,</a></h3><span class=\"text-gray\"> County Div 1</span><div class=\"text-gray\"><span class=\"schedule-date\" format=\"MMM dd'\" timestamp=\"1561888800000\"></span><span> - </span><span class=\"schedule-date\" format=\"MMM dd'\" timestamp=\"1562112000000\"></span><span> • </span><span ng-bind=\"1561888800000 |date:'h:mm a'\"></span><span class=\"text-gray\"> at Trent Bridge, Nottingham</span></div></div><div class=\"cb-col-100 cb-col cb-schdl\"><a class=\"cb-lv-scrs-well cb-lv-scrs-well-live\" href=\"/live-cricket-scores/21718/notts-vs-ess-county-div-1-county-championship-division-one-2019\" title=\"Nottinghamshire vs Essex County Div 1\"> <div class=\"cb-col\"> <div class=\"cb-scr-wll-chvrn\"> <div class=\"cb-lv-scrs-col text-black\"><span class=\"text-bold\">ESS</span> 72/1 (24.0 Ovs) <span class=\"cb-series-sch-dot\"> • </span> <span class=\"text-bold\">NOTTS</span> 213</div> <div class=\"cb-lv-scrs-col cb-text-live\">Day 1: Stumps - Essex trail by 141 runs</div> </div> <div class=\"cb-scr-wll-chvrn\"> <div class=\"cb-ico cb-lv-scr-chvrn-bg\"></div> </div> </div> </a></div><nav class=\"cb-col-100 cb-col padt5\"><a class=\"cb-text-link cb-mtch-lnks\" href=\"/live-cricket-scores/21718/notts-vs-ess-county-div-1-county-championship-division-one-2019\">Live Score</a><a class=\"cb-text-link cb-mtch-lnks\" href=\"/live-cricket-scorecard/21718/notts-vs-ess-county-div-1-county-championship-division-one-2019\">Scorecard</a><a class=\"cb-text-link cb-mtch-lnks\" href=\"/cricket-full-commentary/21718/notts-vs-ess-county-div-1-county-championship-division-one-2019\">Full Commentary</a><a class=\"cb-text-link cb-mtch-lnks\" href=\"/cricket-match-news/21718/notts-vs-ess-county-div-1-county-championship-division-one-2019\">News</a></nav></div></div><div class=\"cb-col cb-col-100 cb-lv-main\"><h2 class=\"cb-lv-grn-strip text-bold cb-lv-scr-mtch-hdr\" title=\"County Championship Division Two 2019\">COUNTY CHAMPIONSHIP DIVISION TWO 2019</h2><div class=\"cb-mtch-lst cb-col cb-col-100 cb-tms-itm\"><div class=\"cb-col-100 cb-col cb-schdl\"><h3 class=\"cb-lv-scr-mtch-hdr inline-block\"><a class=\"text-hvr-underline text-bold\" href=\"/live-cricket-scores/21726/derby-vs-mdx-county-div-2-county-championship-division-two-2019\" title=\"Derbyshire vs Middlesex\">Derbyshire vs Middlesex,</a></h3><span class=\"text-gray\"> County Div 2</span><div class=\"text-gray\"><span class=\"schedule-date\" format=\"MMM dd'\" timestamp=\"1561888800000\"></span><span> - </span><span class=\"schedule-date\" format=\"MMM dd'\" timestamp=\"1562112000000\"></span><span> • </span><span ng-bind=\"1561888800000 |date:'h:mm a'\"></span><span class=\"text-gray\"> at County Ground, Derby</span></div></div><div class=\"cb-col-100 cb-col cb-schdl\"><a class=\"cb-lv-scrs-well cb-lv-scrs-well-live\" href=\"/live-cricket-scores/21726/derby-vs-mdx-county-div-2-county-championship-division-two-2019\" title=\"Derbyshire vs Middlesex County Div 2\"> <div class=\"cb-col\"> <div class=\"cb-scr-wll-chvrn\"> <div class=\"cb-lv-scrs-col text-black\"><span class=\"text-bold\">DERBY</span> 372/4 (96.0 Ovs) <span class=\"cb-series-sch-dot\"> • </span> <span class=\"text-bold\">MDX</span> </div> <div class=\"cb-lv-scrs-col cb-text-live\">Day 1: Stumps</div> </div> <div class=\"cb-scr-wll-chvrn\"> <div class=\"cb-ico cb-lv-scr-chvrn-bg\"></div> </div> </div> </a></div><nav class=\"cb-col-100 cb-col padt5\"><a class=\"cb-text-link cb-mtch-lnks\" href=\"/live-cricket-scores/21726/derby-vs-mdx-county-div-2-county-championship-division-two-2019\">Live Score</a><a class=\"cb-text-link cb-mtch-lnks\" href=\"/live-cricket-scorecard/21726/derby-vs-mdx-county-div-2-county-championship-division-two-2019\">Scorecard</a><a class=\"cb-text-link cb-mtch-lnks\" href=\"/cricket-full-commentary/21726/derby-vs-mdx-county-div-2-county-championship-division-two-2019\">Full Commentary</a><a class=\"cb-text-link cb-mtch-lnks\" href=\"/cricket-match-news/21726/derby-vs-mdx-county-div-2-county-championship-division-two-2019\">News</a></nav></div></div><div class=\"cb-col cb-col-100 cb-lv-main\"><div class=\"cb-mtch-lst cb-col cb-col-100 cb-tms-itm\"><div class=\"cb-col-100 cb-col cb-schdl\"><h3 class=\"cb-lv-scr-mtch-hdr inline-block\"><a class=\"text-hvr-underline text-bold\" href=\"/live-cricket-scores/21725/glam-vs-worcs-county-div-2-county-championship-division-two-2019\" title=\"Glamorgan vs Worcestershire\">Glamorgan vs Worcestershire,</a></h3><span class=\"text-gray\"> County Div 2</span><div class=\"text-gray\"><span class=\"schedule-date\" format=\"MMM dd'\" timestamp=\"1561888800000\"></span><span> - </span><span class=\"schedule-date\" format=\"MMM dd'\" timestamp=\"1562112000000\"></span><span> • </span><span ng-bind=\"1561888800000 |date:'h:mm a'\"></span><span class=\"text-gray\"> at Sophia Gardens, Cardiff</span></div></div><div class=\"cb-col-100 cb-col cb-schdl\"><a class=\"cb-lv-scrs-well cb-lv-scrs-well-live\" href=\"/live-cricket-scores/21725/glam-vs-worcs-county-div-2-county-championship-division-two-2019\" title=\"Glamorgan vs Worcestershire County Div 2\"> <div class=\"cb-col\"> <div class=\"cb-scr-wll-chvrn\"> <div class=\"cb-lv-scrs-col text-black\"><span class=\"text-bold\">GLAM</span> 354/6 (96.0 Ovs) <span class=\"cb-series-sch-dot\"> • </span> <span class=\"text-bold\">WORCS</span> </div> <div class=\"cb-lv-scrs-col cb-text-live\">Day 1: Stumps</div> </div> <div class=\"cb-scr-wll-chvrn\"> <div class=\"cb-ico cb-lv-scr-chvrn-bg\"></div> </div> </div> </a></div><nav class=\"cb-col-100 cb-col padt5\"><a class=\"cb-text-link cb-mtch-lnks\" href=\"/live-cricket-scores/21725/glam-vs-worcs-county-div-2-county-championship-division-two-2019\">Live Score</a><a class=\"cb-text-link cb-mtch-lnks\" href=\"/live-cricket-scorecard/21725/glam-vs-worcs-county-div-2-county-championship-division-two-2019\">Scorecard</a><a class=\"cb-text-link cb-mtch-lnks\" href=\"/cricket-full-commentary/21725/glam-vs-worcs-county-div-2-county-championship-division-two-2019\">Full Commentary</a><a class=\"cb-text-link cb-mtch-lnks\" href=\"/cricket-match-news/21725/glam-vs-worcs-county-div-2-county-championship-division-two-2019\">News</a></nav></div></div><div class=\"cb-col cb-col-100 cb-lv-main\"><div class=\"cb-mtch-lst cb-col cb-col-100 cb-tms-itm\"><div class=\"cb-col-100 cb-col cb-schdl\"><h3 class=\"cb-lv-scr-mtch-hdr inline-block\"><a class=\"text-hvr-underline text-bold\" href=\"/live-cricket-scores/21724/sus-vs-nor-county-div-2-county-championship-division-two-2019\" title=\"Sussex vs Northamptonshire\">Sussex vs Northamptonshire,</a></h3><span class=\"text-gray\"> County Div 2</span><div class=\"text-gray\"><span class=\"schedule-date\" format=\"MMM dd'\" timestamp=\"1561888800000\"></span><span> - </span><span class=\"schedule-date\" format=\"MMM dd'\" timestamp=\"1562112000000\"></span><span> • </span><span ng-bind=\"1561888800000 |date:'h:mm a'\"></span><span class=\"text-gray\"> at County Ground, Hove</span></div></div><div class=\"cb-col-100 cb-col cb-schdl\"><a class=\"cb-lv-scrs-well cb-lv-scrs-well-live\" href=\"/live-cricket-scores/21724/sus-vs-nor-county-div-2-county-championship-division-two-2019\" title=\"Sussex vs Northamptonshire County Div 2\"> <div class=\"cb-col\"> <div class=\"cb-scr-wll-chvrn\"> <div class=\"cb-lv-scrs-col text-black\"><span class=\"text-bold\">SUS</span> 7/2 (7.0 Ovs) <span class=\"cb-series-sch-dot\"> • </span> <span class=\"text-bold\">NOR</span> 273</div> <div class=\"cb-lv-scrs-col cb-text-live\">Day 1: Stumps - Sussex trail by 266 runs</div> </div> <div class=\"cb-scr-wll-chvrn\"> <div class=\"cb-ico cb-lv-scr-chvrn-bg\"></div> </div> </div> </a></div><nav class=\"cb-col-100 cb-col padt5\"><a class=\"cb-text-link cb-mtch-lnks\" href=\"/live-cricket-scores/21724/sus-vs-nor-county-div-2-county-championship-division-two-2019\">Live Score</a><a class=\"cb-text-link cb-mtch-lnks\" href=\"/live-cricket-scorecard/21724/sus-vs-nor-county-div-2-county-championship-division-two-2019\">Scorecard</a><a class=\"cb-text-link cb-mtch-lnks\" href=\"/cricket-full-commentary/21724/sus-vs-nor-county-div-2-county-championship-division-two-2019\">Full Commentary</a><a class=\"cb-text-link cb-mtch-lnks\" href=\"/cricket-match-news/21724/sus-vs-nor-county-div-2-county-championship-division-two-2019\">News</a></nav></div></div><div class=\"cb-col cb-col-100 cb-lv-main\"><div class=\"cb-mtch-lst cb-col cb-col-100 cb-tms-itm\"><div class=\"cb-col-100 cb-col cb-schdl\"><h3 class=\"cb-lv-scr-mtch-hdr inline-block\"><a class=\"text-hvr-underline text-bold\" href=\"/live-cricket-scores/21722/lancs-vs-dur-county-div-2-county-championship-division-two-2019\" title=\"Lancashire vs Durham\">Lancashire vs Durham,</a></h3><span class=\"text-gray\"> County Div 2</span><div class=\"text-gray\"><span class=\"schedule-date\" format=\"MMM dd'\" timestamp=\"1561888800000\"></span><span> - </span><span class=\"schedule-date\" format=\"MMM dd'\" timestamp=\"1562112000000\"></span><span> • </span><span ng-bind=\"1561888800000 |date:'h:mm a'\"></span><span class=\"text-gray\"> at Sedbergh School Ground, Sedbergh</span></div></div><div class=\"cb-col-100 cb-col cb-schdl\"><a class=\"cb-lv-scrs-well cb-lv-scrs-well-live\" href=\"/live-cricket-scores/21722/lancs-vs-dur-county-div-2-county-championship-division-two-2019\" title=\"Lancashire vs Durham County Div 2\"> <div class=\"cb-col\"> <div class=\"cb-scr-wll-chvrn\"> <div class=\"cb-lv-scrs-col text-black\"><span class=\"text-bold\">LANCS</span> 275/5 (96.0 Ovs) <span class=\"cb-series-sch-dot\"> • </span> <span class=\"text-bold\">DUR</span> </div> <div class=\"cb-lv-scrs-col cb-text-live\">Day 1: Stumps</div> </div> <div class=\"cb-scr-wll-chvrn\"> <div class=\"cb-ico cb-lv-scr-chvrn-bg\"></div> </div> </div> </a></div><nav class=\"cb-col-100 cb-col padt5\"><a class=\"cb-text-link cb-mtch-lnks\" href=\"/live-cricket-scores/21722/lancs-vs-dur-county-div-2-county-championship-division-two-2019\">Live Score</a><a class=\"cb-text-link cb-mtch-lnks\" href=\"/live-cricket-scorecard/21722/lancs-vs-dur-county-div-2-county-championship-division-two-2019\">Scorecard</a><a class=\"cb-text-link cb-mtch-lnks\" href=\"/cricket-full-commentary/21722/lancs-vs-dur-county-div-2-county-championship-division-two-2019\">Full Commentary</a><a class=\"cb-text-link cb-mtch-lnks\" href=\"/cricket-match-news/21722/lancs-vs-dur-county-div-2-county-championship-division-two-2019\">News</a></nav></div></div><div class=\"cb-col cb-col-100 cb-lv-main\"><h2 class=\"cb-lv-grn-strip text-bold cb-lv-scr-mtch-hdr\" title=\"Australia A tour of England, 2019\">AUSTRALIA A TOUR OF ENGLAND, 2019</h2><div class=\"cb-mtch-lst cb-col cb-col-100 cb-tms-itm\"><div class=\"cb-col-100 cb-col cb-schdl\"><h3 class=\"cb-lv-scr-mtch-hdr inline-block\"><a class=\"text-hvr-underline text-bold\" href=\"/live-cricket-scores/22384/gloucs-vs-ausa-4th-unofficial-odi-australia-a-tour-of-england-2019\" title=\"Gloucestershire vs Australia A\">Gloucestershire vs Australia A,</a></h3><span class=\"text-gray\"> 4th unofficial ODI</span><div class=\"text-gray\"><span class=\"schedule-date\" format=\"MMM dd'\" timestamp=\"1561888800000\"></span><span> • </span><span ng-bind=\"1561888800000 |date:'h:mm a'\"></span><span class=\"text-gray\"> at County Ground, Bristol</span></div></div><div class=\"cb-col-100 cb-col cb-schdl\"><a class=\"cb-lv-scrs-well cb-lv-scrs-well-complete\" href=\"/live-cricket-scores/22384/gloucs-vs-ausa-4th-unofficial-odi-australia-a-tour-of-england-2019\" title=\"Gloucestershire vs Australia A 4th unofficial ODI\"> <div class=\"cb-col\"> <div class=\"cb-scr-wll-chvrn\"> <div class=\"cb-lv-scrs-col text-black\"><span class=\"text-bold\">AUSA</span> 247/5 (42.1 Ovs) <span class=\"cb-series-sch-dot\"> • </span> <span class=\"text-bold\">GLOUCS</span> 246/8 (50.0 Ovs)</div> <div class=\"cb-lv-scrs-col cb-text-complete\">Australia A won by 5 wkts</div> </div> <div class=\"cb-scr-wll-chvrn\"> <div class=\"cb-ico cb-lv-scr-chvrn-bg\"></div> </div> </div> </a></div><nav class=\"cb-col-100 cb-col padt5\"><a class=\"cb-text-link cb-mtch-lnks\" href=\"/live-cricket-scores/22384/gloucs-vs-ausa-4th-unofficial-odi-australia-a-tour-of-england-2019\">Live Score</a><a class=\"cb-text-link cb-mtch-lnks\" href=\"/live-cricket-scorecard/22384/gloucs-vs-ausa-4th-unofficial-odi-australia-a-tour-of-england-2019\">Scorecard</a><a class=\"cb-text-link cb-mtch-lnks\" href=\"/cricket-full-commentary/22384/gloucs-vs-ausa-4th-unofficial-odi-australia-a-tour-of-england-2019\">Full Commentary</a><a class=\"cb-text-link cb-mtch-lnks\" href=\"/cricket-match-news/22384/gloucs-vs-ausa-4th-unofficial-odi-australia-a-tour-of-england-2019\">News</a></nav></div></div><div class=\"cb-col cb-col-100 cb-lv-main\"><h2 class=\"cb-lv-grn-strip text-bold cb-lv-scr-mtch-hdr\" title=\"Pakistan Under 19 tour of South Africa, 2019\">PAKISTAN UNDER 19 TOUR OF SOUTH AFRICA, 2019</h2><div class=\"cb-mtch-lst cb-col cb-col-100 cb-tms-itm\"><div class=\"cb-col-100 cb-col cb-schdl\"><h3 class=\"cb-lv-scr-mtch-hdr inline-block\"><a class=\"text-hvr-underline text-bold\" href=\"/live-cricket-scores/22864/rsau19-vs-paku19-4th-youth-odi-pakistan-under-19-tour-of-south-africa-2019\" title=\"South Africa U19 vs Pakistan U19\">South Africa U19 vs Pakistan U19,</a></h3><span class=\"text-gray\"> 4th Youth ODI</span><div class=\"text-gray\"><span class=\"schedule-date\" format=\"MMM dd'\" timestamp=\"1561878000000\"></span><span> • </span><span ng-bind=\"1561878000000 |date:'h:mm a'\"></span><span class=\"text-gray\"> at City Oval, Pietermaritzburg</span></div></div><div class=\"cb-col-100 cb-col cb-schdl\"><a class=\"cb-lv-scrs-well cb-lv-scrs-well-complete\" href=\"/live-cricket-scores/22864/rsau19-vs-paku19-4th-youth-odi-pakistan-under-19-tour-of-south-africa-2019\" title=\"South Africa U19 vs Pakistan U19 4th Youth ODI\"> <div class=\"cb-col\"> <div class=\"cb-scr-wll-chvrn\"> <div class=\"cb-lv-scrs-col text-black\"><span class=\"text-bold\">RSAU19</span> 253-all out (43.3 Ovs) <span class=\"cb-series-sch-dot\"> • </span> <span class=\"text-bold\">PAKU19</span> 341/8 (50.0 Ovs)</div> <div class=\"cb-lv-scrs-col cb-text-complete\">Pakistan U19 won by 88 runs</div> </div> <div class=\"cb-scr-wll-chvrn\"> <div class=\"cb-ico cb-lv-scr-chvrn-bg\"></div> </div> </div> </a></div><nav class=\"cb-col-100 cb-col padt5\"><a class=\"cb-text-link cb-mtch-lnks\" href=\"/live-cricket-scores/22864/rsau19-vs-paku19-4th-youth-odi-pakistan-under-19-tour-of-south-africa-2019\">Live Score</a><a class=\"cb-text-link cb-mtch-lnks\" href=\"/live-cricket-scorecard/22864/rsau19-vs-paku19-4th-youth-odi-pakistan-under-19-tour-of-south-africa-2019\">Scorecard</a><a class=\"cb-text-link cb-mtch-lnks\" href=\"/cricket-full-commentary/22864/rsau19-vs-paku19-4th-youth-odi-pakistan-under-19-tour-of-south-africa-2019\">Full Commentary</a><a class=\"cb-text-link cb-mtch-lnks\" href=\"/cricket-match-news/22864/rsau19-vs-paku19-4th-youth-odi-pakistan-under-19-tour-of-south-africa-2019\">News</a></nav></div></div></div><div class=\"cb-col cb-col-33 cb-col-rt\"><div class=\"ad-unit cb-col cb-col-100\" id=\"mpu\" style=\"min-height:250px;margin-bottom:20px;\"></div> <div class=\"cb-col cb-col-100 cb-sr-hist-pad\" gtm-label=\"Commentary\" id=\"latest-vid-mod\"> <h4 class=\"cb-mdl-hdr\">Featured Videos</h4> <div class=\"cb-col cb-col-100 cb-mid-wrp\"> <a class=\"suggested-video-gtm\" gtm-label=\"Wouldn't have minded India losing by 50-55 runs going for glory - Harsha Bhogle|39755\" href=\"/cricket-videos/39755/wouldnt-have-minded-india-losing-by-50-55-runs-going-for-glory-harsha-bhogle\" target=\"_self\" title=\"Wouldn't have minded India losing by 50-55 runs going for glory - Harsha Bhogle\"> <div class=\"cb-pos-rel\"> <img alt=\"Wouldn't have minded India losing by 50-55 runs going for glory - Harsha Bhogle\" class=\"cb-suggested-vid-img suggested-video-gtm\" gtm-label=\"Wouldn't have minded India losing by 50-55 runs going for glory - Harsha Bhogle|39755\" height=\"164\" src=\"/a/img/v1/290x164/i1/c176247/wouldnt-have-minded-india-los.jpg\" title=\"Wouldn't have minded India losing by 50-55 runs going for glory - Harsha Bhogle\" width=\"290\"/> <div class=\"cb-vid-duration\">5:42</div> <div class=\"cb-cen\"> <div class=\"cb-vid-sm-ply-api\">►</div> </div> </div> <h4 class=\"text-hvr-underline suggested-video-gtm\" gtm-label=\"Wouldn't have minded India losing by 50-55 runs going for glory - Harsha Bhogle|39755\">Wouldn't have minded India losing by 50-55 runs going for glory - Harsha Bhogle</h4> </a> <div class=\"cb-nws-time\">\t10h ago </div> </div> <div class=\"cb-col cb-col-100 cb-mid-wrp\"> <a class=\"suggested-video-gtm\" gtm-label=\"England's tactics of take pace off the ball disallowed Dhoni to launch - Zaheer Khan|39753\" href=\"/cricket-videos/39753/englands-tactics-of-take-pace-off-the-ball-disallowed-dhoni-to-launch-zaheer-khan\" target=\"_self\" title=\"England's tactics of take pace off the ball disallowed Dhoni to launch - Zaheer Khan\"> <div class=\"cb-pos-rel\"> <img alt=\"England's tactics of take pace off the ball disallowed Dhoni to launch - Zaheer Khan\" class=\"cb-suggested-vid-img suggested-video-gtm\" gtm-label=\"England's tactics of take pace off the ball disallowed Dhoni to launch - Zaheer Khan|39753\" height=\"164\" src=\"/a/img/v1/290x164/i1/c176241/englands-tactics-of-take-pace.jpg\" title=\"England's tactics of take pace off the ball disallowed Dhoni to launch - Zaheer Khan\" width=\"290\"/> <div class=\"cb-vid-duration\">2:16</div> <div class=\"cb-cen\"> <div class=\"cb-vid-sm-ply-api\">►</div> </div> </div> <h4 class=\"text-hvr-underline suggested-video-gtm\" gtm-label=\"England's tactics of take pace off the ball disallowed Dhoni to launch - Zaheer Khan|39753\">England's tactics of take pace off the ball disallowed Dhoni to launch - Zaheer Khan</h4> </a> <div class=\"cb-nws-time\">\t12h ago </div> </div> <div class=\"cb-col cb-col-100 cb-mid-wrp\"> <a class=\"suggested-video-gtm\" gtm-label=\"Dhoni and Jadhav couldn't hit because the pitch got slow - Rohit|39756\" href=\"/cricket-videos/39756/dhoni-and-jadhav-couldnt-hit-because-the-pitch-got-slow-rohit\" target=\"_self\" title=\"Dhoni and Jadhav couldn't hit because the pitch got slow - Rohit\"> <div class=\"cb-pos-rel\"> <img alt=\"Dhoni and Jadhav couldn't hit because the pitch got slow - Rohit\" class=\"cb-suggested-vid-img suggested-video-gtm\" gtm-label=\"Dhoni and Jadhav couldn't hit because the pitch got slow - Rohit|39756\" height=\"164\" src=\"/a/img/v1/290x164/i1/c176248/dhoni-and-jadhav-couldnt-hit.jpg\" title=\"Dhoni and Jadhav couldn't hit because the pitch got slow - Rohit\" width=\"290\"/> <div class=\"cb-vid-duration\">4:21</div> <div class=\"cb-cen\"> <div class=\"cb-vid-sm-ply-api\">►</div> </div> </div> <h4 class=\"text-hvr-underline suggested-video-gtm\" gtm-label=\"Dhoni and Jadhav couldn't hit because the pitch got slow - Rohit|39756\">Dhoni and Jadhav couldn't hit because the pitch got slow - Rohit</h4> </a> <div class=\"cb-nws-time\">\t9h ago </div> </div> <div class=\"cb-col cb-col-100 cb-more-btn-cntnr\"> <a class=\"cb-more-btn\" href=\"/cricket-videos\" role=\"button\" target=\"_self\" title=\"Click to view more videos\">More Videos</a> </div> </div> <div class=\"ad-unit cb-col\" id=\"mpu2\" style=\"margin:20px 0;\"></div> <div class=\"cb-col cb-col-100 cb-sr-hist-pad\" gtm-label=\"live scores\" id=\"latest-news-mod\"> <h4 class=\"cb-ltst-hdr\">LATEST NEWS</h4> <div class=\"cb-col cb-col-100 cb-lst-itm cb-lst-itm-sm\"><div class=\"cb-col cb-col-33\" itemprop=\"image\" itemscope=\"\" itemtype=\"https://schema.org/ImageObject\"><meta content=\"100\" itemprop=\"width\"/> <meta content=\"77\" itemprop=\"height\"/> <meta content=\"https:/a/img/v1/100x77/i1/c176246/jonny-bairstows-first-hundred.jpg\" itemprop=\"url\"/><a href=\"/cricket-news/108770/when-discomfort-rekindled-the-jonny-bairstow-fire-india-vs-england-icc-cricket-world-cup-2019\" target=\"_self\" title=\"When discomfort rekindled the Bairstow fire\"><img alt=\"Jonny Bairstow's first hundred in this World Cup set up England's crucial win over India\" class=\"cb-lst-img lazy-loading\" height=\"77\" itemprop=\"image\" source=\"/a/img/v1/100x77/i1/c176246/jonny-bairstows-first-hundred.jpg\" style=\"padding:0px;\" title=\"Jonny Bairstow's first hundred in this World Cup set up England's crucial win over India\" width=\"100\"/></a></div><div class=\"cb-col-67 cb-nws-lst-rt cb-col cb-col-text-container\"><div class=\"cb-ltst-wgt-hdr\"><a class=\"cb-nws-hdln-ancr text-hvr-underline\" href=\"/cricket-news/108770/when-discomfort-rekindled-the-jonny-bairstow-fire-india-vs-england-icc-cricket-world-cup-2019\" target=\"_self\" title=\"When discomfort rekindled the Bairstow fire\">When discomfort rekindled the Bairstow fire</a></div><div><span class=\"cb-nws-time\">11h ago</span></div></div></div> <span ad-content='&lt;div class=\"cb-col cb-col-100 cb-lst-itm cb-lst-itm-sm\" style=\"border-bottom: 1px solid #ecebeb\"&gt;&lt;div class=\"cb-col cb-col-33\"&gt;&lt;a rel=\"noreferrer\" target=\"_blank\" href=\"[[clk]]\"&gt;&lt;img style=\"width:90px;height:70px;\" src=\"[[img]]\" &gt;&lt;/a&gt;&lt;/div&gt;&lt;div class=\"cb-col-67 cb-nws-lst-rt cb-col cb-col-text-container\"&gt;&lt;a rel=\"nofollow\" target=\"_blank\" href=\"[[clk]]\" class=\"cb-nws-hdln-ancr text-hvr-underline\"&gt;&lt;div class=\"cb-list-intro-text\" style=\"height: 66px; overflow: hidden;\"&gt;[[text]]&lt;/div&gt;&lt;div class=\"cb-list-sub-text ad-native-sponsor\"&gt;[[sponsor]]&lt;img src=\"[[logo]]\" class=\"pull-right\" style=\"height:14px;\" /&gt;&lt;/div&gt;&lt;/a&gt;&lt;div style=\"float:right;margin-top:-85px;\"&gt;&lt;a rel=\"noreferrer\" target=\"_blank\" href=\"[[adchoicesClickURL]]\"&gt;&lt;img src=\"[[adchoicesImgURL]]\"/&gt;&lt;/a&gt;&lt;/div&gt;&lt;/div&gt;&lt;/div&gt;' ad-loaded=\"false\" class=\"ad-native ng-cloak\" id=\"native_latest_news\" ng-if='$root.$GEO.continent != \"EU\"'></span> <div class=\"cb-col cb-col-100 cb-lst-itm cb-lst-itm-sm\"><div class=\"cb-col cb-col-33\" itemprop=\"image\" itemscope=\"\" itemtype=\"https://schema.org/ImageObject\"><meta content=\"100\" itemprop=\"width\"/> <meta content=\"77\" itemprop=\"height\"/> <meta content=\"https:/a/img/v1/100x77/i1/c176244/mashrafe-mortaza-has-bagged-on.jpg\" itemprop=\"url\"/><a href=\"/cricket-news/108769/icc-world-cup-2019-courtney-walsh-backs-out-of-form-mashrafe-mortaza-to-come-good-in-must-wins-bangladesh-cricket-team\" target=\"_self\" title=\"Walsh backs out-of-form Mortaza to come good in must-wins\"><img alt=\"Mashrafe Mortaza has bagged only one wicket in the ongoing world cup\" class=\"cb-lst-img lazy-loading\" height=\"77\" itemprop=\"image\" source=\"/a/img/v1/100x77/i1/c176244/mashrafe-mortaza-has-bagged-on.jpg\" style=\"padding:0px;\" title=\"Mashrafe Mortaza has bagged only one wicket in the ongoing world cup\" width=\"100\"/></a></div><div class=\"cb-col-67 cb-nws-lst-rt cb-col cb-col-text-container\"><div class=\"cb-ltst-wgt-hdr\"><a class=\"cb-nws-hdln-ancr text-hvr-underline\" href=\"/cricket-news/108769/icc-world-cup-2019-courtney-walsh-backs-out-of-form-mashrafe-mortaza-to-come-good-in-must-wins-bangladesh-cricket-team\" target=\"_self\" title=\"Walsh backs out-of-form Mortaza to come good in must-wins\">Walsh backs out-of-form Mortaza to come good in must-wins</a></div><div><span class=\"cb-nws-time\">12h ago</span></div></div></div><div class=\"cb-col cb-col-100 cb-lst-itm cb-lst-itm-sm\"><div class=\"cb-col cb-col-33\" itemprop=\"image\" itemscope=\"\" itemtype=\"https://schema.org/ImageObject\"><meta content=\"100\" itemprop=\"width\"/> <meta content=\"77\" itemprop=\"height\"/> <meta content=\"https:/a/img/v1/100x77/i1/c176243/marnus-labuschagne-scored-106.jpg\" itemprop=\"url\"/><a href=\"/cricket-news/108768/county-championship-billy-godleman-marnus-labuschagne-stroke-tons-on-day-1\" target=\"_self\" title=\"Godleman, Labuschagne stroke tons on Day 1\"><img alt=\"Marnus Labuschagne scored 106 against Worcestershire\" class=\"cb-lst-img lazy-loading\" height=\"77\" itemprop=\"image\" source=\"/a/img/v1/100x77/i1/c176243/marnus-labuschagne-scored-106.jpg\" style=\"padding:0px;\" title=\"Marnus Labuschagne scored 106 against Worcestershire\" width=\"100\"/></a></div><div class=\"cb-col-67 cb-nws-lst-rt cb-col cb-col-text-container\"><div class=\"cb-ltst-wgt-hdr\"><a class=\"cb-nws-hdln-ancr text-hvr-underline\" href=\"/cricket-news/108768/county-championship-billy-godleman-marnus-labuschagne-stroke-tons-on-day-1\" target=\"_self\" title=\"Godleman, Labuschagne stroke tons on Day 1\">Godleman, Labuschagne stroke tons on Day 1</a></div><div><span class=\"cb-nws-time\">12h ago</span></div></div></div><div class=\"cb-col cb-col-100 cb-lst-itm cb-lst-itm-sm\"><div class=\"cb-col cb-col-33\" itemprop=\"image\" itemscope=\"\" itemtype=\"https://schema.org/ImageObject\"><meta content=\"100\" itemprop=\"width\"/> <meta content=\"77\" itemprop=\"height\"/> <meta content=\"https:/a/img/v1/100x77/i1/c176242/james-hildreths-century-prope.jpg\" itemprop=\"url\"/><a href=\"/cricket-news/108767/abbott-hildreth-shine-on-action-packed-day-in-tauton-icc-cricket-world-cup-2019\" target=\"_self\" title=\"Abbott, Hildreth shine on action-packed day in Tauton\"><img alt=\"James Hildreth's century propelled Somerset to 408\" class=\"cb-lst-img lazy-loading\" height=\"77\" itemprop=\"image\" source=\"/a/img/v1/100x77/i1/c176242/james-hildreths-century-prope.jpg\" style=\"padding:0px;\" title=\"James Hildreth's century propelled Somerset to 408\" width=\"100\"/></a></div><div class=\"cb-col-67 cb-nws-lst-rt cb-col cb-col-text-container\"><div class=\"cb-ltst-wgt-hdr\"><a class=\"cb-nws-hdln-ancr text-hvr-underline\" href=\"/cricket-news/108767/abbott-hildreth-shine-on-action-packed-day-in-tauton-icc-cricket-world-cup-2019\" target=\"_self\" title=\"Abbott, Hildreth shine on action-packed day in Tauton\">Abbott, Hildreth shine on action-packed day in Tauton</a></div><div><span class=\"cb-nws-time\">12h ago</span></div></div></div><div class=\"cb-col cb-col-100 cb-lst-itm cb-lst-itm-sm\"><div class=\"cb-col cb-col-33\" itemprop=\"image\" itemscope=\"\" itemtype=\"https://schema.org/ImageObject\"><meta content=\"100\" itemprop=\"width\"/> <meta content=\"77\" itemprop=\"height\"/> <meta content=\"https:/a/img/v1/100x77/i1/c176232/virat-kohli-was-taken-by-surpr.jpg\" itemprop=\"url\"/><a href=\"/cricket-news/108766/virat-kohli-expresses-surprise-over-edgbaston-playing-conditions-icc-cricket-world-cup-2019\" target=\"_self\" title=\"Kohli expresses surprise over Edgbaston playing conditions\"><img alt=\"Virat Kohli was taken by surprise with the short boundary on one side\" class=\"cb-lst-img lazy-loading\" height=\"77\" itemprop=\"image\" source=\"/a/img/v1/100x77/i1/c176232/virat-kohli-was-taken-by-surpr.jpg\" style=\"padding:0px;\" title=\"Virat Kohli was taken by surprise with the short boundary on one side\" width=\"100\"/></a></div><div class=\"cb-col-67 cb-nws-lst-rt cb-col cb-col-text-container\"><div class=\"cb-ltst-wgt-hdr\"><a class=\"cb-nws-hdln-ancr text-hvr-underline\" href=\"/cricket-news/108766/virat-kohli-expresses-surprise-over-edgbaston-playing-conditions-icc-cricket-world-cup-2019\" target=\"_self\" title=\"Kohli expresses surprise over Edgbaston playing conditions\">Kohli expresses surprise over Edgbaston playing conditions</a></div><div><span class=\"cb-nws-time\">13h ago</span></div></div></div> <div class=\"cb-col cb-col-100 cb-more-btn-cntnr\"> <a class=\"cb-more-btn\" href=\"/cricket-news\" role=\"button\" target=\"_self\" title=\"Click to view more News\">More News</a> </div> </div> <style> .cb-topic-header{margin-left:0px!important;} .cb-list-heading{font-weight:normal!important} </style><div class=\"ad-unit cb-col\" id=\"mpu3\"></div></div></div> <span class=\"ad-unit\" id=\"skin_right\" style=\"overflow:hidden;position:fixed;top:0;left:calc(50% + 490px);margin-left:3px;z-index:-99;\"></span></div></div><div ng-cloak=\"\" ng-if='$root.$GEO.continent == \"EU\"'><div class=\"feedback-bar text-center cb-col-100 disp-none feedback-menu\" id=\"feedback-bar\" ng-controller=\"FeedbackCtrl\" ng-init=\"show_feedback_menu();\"><span class=\"feedback-txt\">We use cookies to improve your experience on our site and to show you non-personalized ads. Find out more in our <a href=\"/info/privacy\" style=\"color:#4A90E2;\">privacy policy</a> and <a href=\"/info/privacy#cookie_policy\" style=\"color:#4A90E2;\">cookie policy</a></span><button class=\"cb-feedback-btn blue-btn cb-cursor\" id=\"close_feedback_btn\" ng-click=\"close_feedback();\">OK</button></div></div><footer id=\"FooterWraper\" itemscope=\"\" itemtype=\"http://schema.org/WPFooter\"><div class=\"cb-footer cb-col-100 cb-col\"><div class=\"cb-ftr-cntnr\"><div class=\"cb-col-25 cb-col\"><a class=\"center-block\" href=\"/\"><div class=\"cb-ftr-logo cb-ico\"></div></a></div><div class=\"cb-col-25 cb-col\"><div class=\"text-left cb-font-16 text-bold\">MOBILE SITE &amp; APPS</div><ul class=\"cb-ftr-ul\"><li class=\"cb-ftr-lst\"><a class=\"text-white\" href=\"https://m.cricbuzz.com\"><span class=\"cb-mobile-site cb-ico\"></span><span class=\"cb-footer-list-rt\">m.cricbuzz.com</span></a></li><li class=\"cb-ftr-lst\"><a class=\"text-white\" href=\"https://play.google.com/store/apps/details?id=com.cricbuzz.android\" target=\"_blank\"><span class=\"cb-app-android cb-ico\"></span><span class=\"cb-footer-list-rt\">Android</span></a></li><li class=\"cb-ftr-lst\"><a class=\"text-white\" href=\"https://itunes.apple.com/app/id360466413\" target=\"_blank\"><span class=\"cb-app-ios cb-ico\"></span><span class=\"cb-footer-list-rt\">iOS</span></a></li></ul></div><div class=\"cb-col-25 cb-col\"><div class=\"text-left cb-font-16 text-bold\">FOLLOW US ON</div><ul class=\"cb-ftr-ul\"><li class=\"cb-ftr-lst\"><a class=\"text-white\" href=\"https://www.facebook.com/cricbuzz\" target=\"_blank\"><span class=\"cb-social-fb cb-ico\"></span><span class=\"cb-footer-list-rt\">facebook</span></a></li><li class=\"cb-ftr-lst\"><a class=\"text-white\" href=\"https://twitter.com/cricbuzz\" target=\"_blank\"><span class=\"cb-social-twitter cb-ico\"></span><span class=\"cb-footer-list-rt\">twitter</span></a></li><li class=\"cb-ftr-lst\"><a class=\"text-white\" href=\"https://www.youtube.com/channel/UCSRQXk5yErn4e14vN76upOw\" target=\"_blank\"><span class=\"cb-social-ytbe cb-ico\"></span><span class=\"cb-footer-list-rt\">youtube</span></a></li><li class=\"cb-ftr-lst\"><a class=\"text-white\" href=\"https://in.pinterest.com/cricbuzz/\" target=\"_blank\"><span class=\"cb-social-pinterest cb-ico\"></span><span class=\"cb-footer-list-rt\">Pinterest</span></a></li></ul></div><div class=\"cb-col-25 cb-col\"><div class=\"text-left cb-font-16 text-bold\">COMPANY</div><ul class=\"cb-ftr-ul\"><li class=\"cb-ftr-lst\"><a class=\"text-white\" href=\"/careers\">Careers</a></li><li class=\"cb-ftr-lst\"><a class=\"text-white\" href=\"/info/advertise\">Advertise</a></li><li class=\"cb-ftr-lst\"><a class=\"text-white\" href=\"/info/privacy\" rel=\"nofollow\">Privacy Policy</a></li><li class=\"cb-ftr-lst\"><a class=\"text-white\" href=\"/info/termsofuse\" rel=\"nofollow\">Terms of Use</a></li><li class=\"cb-ftr-lst\"><a class=\"text-white\" href=\"/product-blog/cricbuzz-mobile-apps-tv-ad-cricket-ka-keeda\">Cricbuzz TV Ads</a></li></ul></div><div class=\"cb-col-100 cb-col cb-ftr-cpyrght\">© 2019 Cricbuzz.com, Times Internet Limited. All rights reserved | <a class=\"cb-ftr-cpyrght text-hvr-underline\" href=\"http://timesofindia.indiatimes.com/\" target=\"_blank\">The Times of India</a> | <a class=\"cb-ftr-cpyrght text-hvr-underline\" href=\"http://navbharattimes.indiatimes.com/\" target=\"_blank\">Navbharat Times</a></div></div></div></footer><script type=\"text/javascript\">var script_tag = document.getElementsByTagName('script')[0];\t(function() {\tvar cmin = document.createElement('script'); cmin.type = 'text/javascript'; cmin.async = true;\tcmin.src = '/dist/js/cricbuzz.min.6501.js';\tscript_tag.parentNode.insertBefore(cmin, script_tag);\t})();</script><noscript><iframe height=\"0\" src=\"//www.googletagmanager.com/ns.html?id=GTM-PGNCT7\" style=\"display:none;visibility:hidden\" width=\"0\"></iframe></noscript><script>(function(w,d,s,l,i){w[l]=w[l]||[];w[l].push({'gtm.start':\tnew Date().getTime(),event:'gtm.js'});var f=d.getElementsByTagName(s)[0],\tj=d.createElement(s),dl=l!='dataLayer'?'&l='+l:'';j.async=true;j.src=\t'//www.googletagmanager.com/gtm.js?id='+i+dl;f.parentNode.insertBefore(j,f);\t})(window,document,'script','dataLayer','GTM-PGNCT7');</script><script>window.onerror = function(message, file, line) {\tvar sFormattedMessage = '[' + file + ' (' + line + ')] ' + message;\tdataLayer.push({'EventAction': \"Application\",'EventLabel': sFormattedMessage,'event': 'Exceptions'});\t}</script> </body></html>\n"
     ]
    }
   ],
   "source": [
    "print(s)"
   ]
  },
  {
   "cell_type": "code",
   "execution_count": 7,
   "metadata": {},
   "outputs": [
    {
     "name": "stdout",
     "output_type": "stream",
     "text": [
      "England vs India, Match 38 •  at Edgbaston, Birmingham   IND 306/5 (50.0 Ovs)  •  ENG 337/7 (50.0 Ovs) England won by 31 runs      Live ScoreScorecardFull CommentaryNews\n",
      "New Zealand vs Australia, Match 37 •  at Lord's, London   NZ 157-all out (43.4 Ovs)  •  AUS 243/9 (50.0 Ovs) Australia won by 86 runs      Live ScoreScorecardFull CommentaryNews\n",
      "Sri Lanka vs West Indies, Match 39 •  at Riverside Ground, Chester-le-Street Read Preview  Match FactsNews\n",
      "Ireland vs Zimbabwe, 1st ODI •  at Bready Cricket Club, Bready, Northern Ireland Read Preview  Match FactsNews\n",
      "Yorkshire vs Surrey, County Div 1 -  •  at North Marine Road Ground, Scarborough   SUR 48/0 (14.0 Ovs)  •  YORKS 327 Day 1: Stumps - Surrey trail by 279 runs      Live ScoreScorecardFull CommentaryNews\n",
      "Kent vs Warwickshire, County Div 1 -  •  at St Lawrence Ground, Canterbury   KENT 338/2 (96.0 Ovs)  •  WARKS  Day 1: Stumps      Live ScoreScorecardFull CommentaryNews\n",
      "Somerset vs Hampshire, County Div 1 -  •  at The Cooper Associates County Ground, Taunton   HAM 15/1 (6.0 Ovs)  •  SOM 408 Day 1: Stumps - Hampshire trail by 393 runs      Live ScoreScorecardFull CommentaryNews\n",
      "Nottinghamshire vs Essex, County Div 1 -  •  at Trent Bridge, Nottingham   ESS 72/1 (24.0 Ovs)  •  NOTTS 213 Day 1: Stumps - Essex trail by 141 runs      Live ScoreScorecardFull CommentaryNews\n",
      "Derbyshire vs Middlesex, County Div 2 -  •  at County Ground, Derby   DERBY 372/4 (96.0 Ovs)  •  MDX  Day 1: Stumps      Live ScoreScorecardFull CommentaryNews\n",
      "Glamorgan vs Worcestershire, County Div 2 -  •  at Sophia Gardens, Cardiff   GLAM 354/6 (96.0 Ovs)  •  WORCS  Day 1: Stumps      Live ScoreScorecardFull CommentaryNews\n",
      "Sussex vs Northamptonshire, County Div 2 -  •  at County Ground, Hove   SUS 7/2 (7.0 Ovs)  •  NOR 273 Day 1: Stumps - Sussex trail by 266 runs      Live ScoreScorecardFull CommentaryNews\n",
      "Lancashire vs Durham, County Div 2 -  •  at Sedbergh School Ground, Sedbergh   LANCS 275/5 (96.0 Ovs)  •  DUR  Day 1: Stumps      Live ScoreScorecardFull CommentaryNews\n",
      "Gloucestershire vs Australia A, 4th unofficial ODI •  at County Ground, Bristol   AUSA 247/5 (42.1 Ovs)  •  GLOUCS 246/8 (50.0 Ovs) Australia A won by 5 wkts      Live ScoreScorecardFull CommentaryNews\n",
      "South Africa U19 vs Pakistan U19, 4th Youth ODI •  at City Oval, Pietermaritzburg   RSAU19 253-all out (43.3 Ovs)  •  PAKU19 341/8 (50.0 Ovs) Pakistan U19 won by 88 runs      Live ScoreScorecardFull CommentaryNews\n"
     ]
    }
   ],
   "source": [
    "for i in s.find_all(\"div\",{\"class\":\"cb-mtch-lst cb-col cb-col-100 cb-tms-itm\"}):\n",
    "    print(i.text)"
   ]
  },
  {
   "cell_type": "code",
   "execution_count": 8,
   "metadata": {},
   "outputs": [
    {
     "name": "stdout",
     "output_type": "stream",
     "text": [
      "England vs India, Match 38 •  at Edgbaston, Birmingham   IND 306/5 (50.0 Ovs)  •  ENG 337/7 (50.0 Ovs) England won by 31 runs      Live ScoreScorecardFull CommentaryNews\n",
      "New Zealand vs Australia, Match 37 •  at Lord's, London   NZ 157-all out (43.4 Ovs)  •  AUS 243/9 (50.0 Ovs) Australia won by 86 runs      Live ScoreScorecardFull CommentaryNews\n",
      "Sri Lanka vs West Indies, Match 39 •  at Riverside Ground, Chester-le-Street Read Preview  Match FactsNews\n",
      "Ireland vs Zimbabwe, 1st ODI •  at Bready Cricket Club, Bready, Northern Ireland Read Preview  Match FactsNews\n",
      "Yorkshire vs Surrey, County Div 1 -  •  at North Marine Road Ground, Scarborough   SUR 48/0 (14.0 Ovs)  •  YORKS 327 Day 1: Stumps - Surrey trail by 279 runs      Live ScoreScorecardFull CommentaryNews\n",
      "Kent vs Warwickshire, County Div 1 -  •  at St Lawrence Ground, Canterbury   KENT 338/2 (96.0 Ovs)  •  WARKS  Day 1: Stumps      Live ScoreScorecardFull CommentaryNews\n",
      "Somerset vs Hampshire, County Div 1 -  •  at The Cooper Associates County Ground, Taunton   HAM 15/1 (6.0 Ovs)  •  SOM 408 Day 1: Stumps - Hampshire trail by 393 runs      Live ScoreScorecardFull CommentaryNews\n",
      "Nottinghamshire vs Essex, County Div 1 -  •  at Trent Bridge, Nottingham   ESS 72/1 (24.0 Ovs)  •  NOTTS 213 Day 1: Stumps - Essex trail by 141 runs      Live ScoreScorecardFull CommentaryNews\n",
      "Derbyshire vs Middlesex, County Div 2 -  •  at County Ground, Derby   DERBY 372/4 (96.0 Ovs)  •  MDX  Day 1: Stumps      Live ScoreScorecardFull CommentaryNews\n",
      "Glamorgan vs Worcestershire, County Div 2 -  •  at Sophia Gardens, Cardiff   GLAM 354/6 (96.0 Ovs)  •  WORCS  Day 1: Stumps      Live ScoreScorecardFull CommentaryNews\n",
      "Sussex vs Northamptonshire, County Div 2 -  •  at County Ground, Hove   SUS 7/2 (7.0 Ovs)  •  NOR 273 Day 1: Stumps - Sussex trail by 266 runs      Live ScoreScorecardFull CommentaryNews\n",
      "Lancashire vs Durham, County Div 2 -  •  at Sedbergh School Ground, Sedbergh   LANCS 275/5 (96.0 Ovs)  •  DUR  Day 1: Stumps      Live ScoreScorecardFull CommentaryNews\n",
      "Gloucestershire vs Australia A, 4th unofficial ODI •  at County Ground, Bristol   AUSA 247/5 (42.1 Ovs)  •  GLOUCS 246/8 (50.0 Ovs) Australia A won by 5 wkts      Live ScoreScorecardFull CommentaryNews\n",
      "South Africa U19 vs Pakistan U19, 4th Youth ODI •  at City Oval, Pietermaritzburg   RSAU19 253-all out (43.3 Ovs)  •  PAKU19 341/8 (50.0 Ovs) Pakistan U19 won by 88 runs      Live ScoreScorecardFull CommentaryNews\n"
     ]
    }
   ],
   "source": [
    "for i in s.findAll(\"div\",{\"class\":\"cb-mtch-lst cb-col cb-col-100 cb-tms-itm\"}):\n",
    "    print(i.text)"
   ]
  },
  {
   "cell_type": "code",
   "execution_count": 2,
   "metadata": {},
   "outputs": [],
   "source": [
    "from textblob import TextBlob"
   ]
  },
  {
   "cell_type": "code",
   "execution_count": 3,
   "metadata": {},
   "outputs": [
    {
     "data": {
      "text/plain": [
       "Sentiment(polarity=0.8, subjectivity=1.0)"
      ]
     },
     "execution_count": 3,
     "metadata": {},
     "output_type": "execute_result"
    }
   ],
   "source": [
    "a=TextBlob('i m happy')\n",
    "a.sentiment"
   ]
  },
  {
   "cell_type": "code",
   "execution_count": 21,
   "metadata": {},
   "outputs": [
    {
     "name": "stdout",
     "output_type": "stream",
     "text": [
      "\n",
      "**********************************************************************\n",
      "  Resource \u001b[93mpunkt\u001b[0m not found.\n",
      "  Please use the NLTK Downloader to obtain the resource:\n",
      "\n",
      "  \u001b[31m>>> import nltk\n",
      "  >>> nltk.download('punkt')\n",
      "  \u001b[0m\n",
      "  Attempted to load \u001b[93mtokenizers/punkt/english.pickle\u001b[0m\n",
      "\n",
      "  Searched in:\n",
      "    - 'C:\\\\Users\\\\db2admin/nltk_data'\n",
      "    - 'C:\\\\Users\\\\db2admin\\\\Anaconda3\\\\nltk_data'\n",
      "    - 'C:\\\\Users\\\\db2admin\\\\Anaconda3\\\\share\\\\nltk_data'\n",
      "    - 'C:\\\\Users\\\\db2admin\\\\Anaconda3\\\\lib\\\\nltk_data'\n",
      "    - 'C:\\\\Users\\\\db2admin\\\\AppData\\\\Roaming\\\\nltk_data'\n",
      "    - 'C:\\\\nltk_data'\n",
      "    - 'D:\\\\nltk_data'\n",
      "    - 'E:\\\\nltk_data'\n",
      "    - ''\n",
      "**********************************************************************\n",
      "\n"
     ]
    },
    {
     "ename": "MissingCorpusError",
     "evalue": "\nLooks like you are missing some required data for this feature.\n\nTo download the necessary data, simply run\n\n    python -m textblob.download_corpora\n\nor use the NLTK downloader to download the missing data: http://nltk.org/data.html\nIf this doesn't fix the problem, file an issue at https://github.com/sloria/TextBlob/issues.\n",
     "output_type": "error",
     "traceback": [
      "\u001b[1;31m---------------------------------------------------------------------------\u001b[0m",
      "\u001b[1;31mLookupError\u001b[0m                               Traceback (most recent call last)",
      "\u001b[1;32m~\\Anaconda3\\lib\\site-packages\\textblob\\decorators.py\u001b[0m in \u001b[0;36mdecorated\u001b[1;34m(*args, **kwargs)\u001b[0m\n\u001b[0;32m     34\u001b[0m         \u001b[1;32mtry\u001b[0m\u001b[1;33m:\u001b[0m\u001b[1;33m\u001b[0m\u001b[1;33m\u001b[0m\u001b[0m\n\u001b[1;32m---> 35\u001b[1;33m             \u001b[1;32mreturn\u001b[0m \u001b[0mfunc\u001b[0m\u001b[1;33m(\u001b[0m\u001b[1;33m*\u001b[0m\u001b[0margs\u001b[0m\u001b[1;33m,\u001b[0m \u001b[1;33m**\u001b[0m\u001b[0mkwargs\u001b[0m\u001b[1;33m)\u001b[0m\u001b[1;33m\u001b[0m\u001b[1;33m\u001b[0m\u001b[0m\n\u001b[0m\u001b[0;32m     36\u001b[0m         \u001b[1;32mexcept\u001b[0m \u001b[0mLookupError\u001b[0m \u001b[1;32mas\u001b[0m \u001b[0merr\u001b[0m\u001b[1;33m:\u001b[0m\u001b[1;33m\u001b[0m\u001b[1;33m\u001b[0m\u001b[0m\n",
      "\u001b[1;32m~\\Anaconda3\\lib\\site-packages\\textblob\\tokenizers.py\u001b[0m in \u001b[0;36mtokenize\u001b[1;34m(self, text)\u001b[0m\n\u001b[0;32m     56\u001b[0m         \u001b[1;34m'''Return a list of sentences.'''\u001b[0m\u001b[1;33m\u001b[0m\u001b[1;33m\u001b[0m\u001b[0m\n\u001b[1;32m---> 57\u001b[1;33m         \u001b[1;32mreturn\u001b[0m \u001b[0mnltk\u001b[0m\u001b[1;33m.\u001b[0m\u001b[0mtokenize\u001b[0m\u001b[1;33m.\u001b[0m\u001b[0msent_tokenize\u001b[0m\u001b[1;33m(\u001b[0m\u001b[0mtext\u001b[0m\u001b[1;33m)\u001b[0m\u001b[1;33m\u001b[0m\u001b[1;33m\u001b[0m\u001b[0m\n\u001b[0m\u001b[0;32m     58\u001b[0m \u001b[1;33m\u001b[0m\u001b[0m\n",
      "\u001b[1;32m~\\Anaconda3\\lib\\site-packages\\nltk\\tokenize\\__init__.py\u001b[0m in \u001b[0;36msent_tokenize\u001b[1;34m(text, language)\u001b[0m\n\u001b[0;32m    103\u001b[0m     \"\"\"\n\u001b[1;32m--> 104\u001b[1;33m     \u001b[0mtokenizer\u001b[0m \u001b[1;33m=\u001b[0m \u001b[0mload\u001b[0m\u001b[1;33m(\u001b[0m\u001b[1;34m'tokenizers/punkt/{0}.pickle'\u001b[0m\u001b[1;33m.\u001b[0m\u001b[0mformat\u001b[0m\u001b[1;33m(\u001b[0m\u001b[0mlanguage\u001b[0m\u001b[1;33m)\u001b[0m\u001b[1;33m)\u001b[0m\u001b[1;33m\u001b[0m\u001b[1;33m\u001b[0m\u001b[0m\n\u001b[0m\u001b[0;32m    105\u001b[0m     \u001b[1;32mreturn\u001b[0m \u001b[0mtokenizer\u001b[0m\u001b[1;33m.\u001b[0m\u001b[0mtokenize\u001b[0m\u001b[1;33m(\u001b[0m\u001b[0mtext\u001b[0m\u001b[1;33m)\u001b[0m\u001b[1;33m\u001b[0m\u001b[1;33m\u001b[0m\u001b[0m\n",
      "\u001b[1;32m~\\Anaconda3\\lib\\site-packages\\nltk\\data.py\u001b[0m in \u001b[0;36mload\u001b[1;34m(resource_url, format, cache, verbose, logic_parser, fstruct_reader, encoding)\u001b[0m\n\u001b[0;32m    867\u001b[0m     \u001b[1;31m# Load the resource.\u001b[0m\u001b[1;33m\u001b[0m\u001b[1;33m\u001b[0m\u001b[1;33m\u001b[0m\u001b[0m\n\u001b[1;32m--> 868\u001b[1;33m     \u001b[0mopened_resource\u001b[0m \u001b[1;33m=\u001b[0m \u001b[0m_open\u001b[0m\u001b[1;33m(\u001b[0m\u001b[0mresource_url\u001b[0m\u001b[1;33m)\u001b[0m\u001b[1;33m\u001b[0m\u001b[1;33m\u001b[0m\u001b[0m\n\u001b[0m\u001b[0;32m    869\u001b[0m \u001b[1;33m\u001b[0m\u001b[0m\n",
      "\u001b[1;32m~\\Anaconda3\\lib\\site-packages\\nltk\\data.py\u001b[0m in \u001b[0;36m_open\u001b[1;34m(resource_url)\u001b[0m\n\u001b[0;32m    992\u001b[0m     \u001b[1;32mif\u001b[0m \u001b[0mprotocol\u001b[0m \u001b[1;32mis\u001b[0m \u001b[1;32mNone\u001b[0m \u001b[1;32mor\u001b[0m \u001b[0mprotocol\u001b[0m\u001b[1;33m.\u001b[0m\u001b[0mlower\u001b[0m\u001b[1;33m(\u001b[0m\u001b[1;33m)\u001b[0m \u001b[1;33m==\u001b[0m \u001b[1;34m'nltk'\u001b[0m\u001b[1;33m:\u001b[0m\u001b[1;33m\u001b[0m\u001b[1;33m\u001b[0m\u001b[0m\n\u001b[1;32m--> 993\u001b[1;33m         \u001b[1;32mreturn\u001b[0m \u001b[0mfind\u001b[0m\u001b[1;33m(\u001b[0m\u001b[0mpath_\u001b[0m\u001b[1;33m,\u001b[0m \u001b[0mpath\u001b[0m \u001b[1;33m+\u001b[0m \u001b[1;33m[\u001b[0m\u001b[1;34m''\u001b[0m\u001b[1;33m]\u001b[0m\u001b[1;33m)\u001b[0m\u001b[1;33m.\u001b[0m\u001b[0mopen\u001b[0m\u001b[1;33m(\u001b[0m\u001b[1;33m)\u001b[0m\u001b[1;33m\u001b[0m\u001b[1;33m\u001b[0m\u001b[0m\n\u001b[0m\u001b[0;32m    994\u001b[0m     \u001b[1;32melif\u001b[0m \u001b[0mprotocol\u001b[0m\u001b[1;33m.\u001b[0m\u001b[0mlower\u001b[0m\u001b[1;33m(\u001b[0m\u001b[1;33m)\u001b[0m \u001b[1;33m==\u001b[0m \u001b[1;34m'file'\u001b[0m\u001b[1;33m:\u001b[0m\u001b[1;33m\u001b[0m\u001b[1;33m\u001b[0m\u001b[0m\n",
      "\u001b[1;32m~\\Anaconda3\\lib\\site-packages\\nltk\\data.py\u001b[0m in \u001b[0;36mfind\u001b[1;34m(resource_name, paths)\u001b[0m\n\u001b[0;32m    698\u001b[0m     \u001b[0mresource_not_found\u001b[0m \u001b[1;33m=\u001b[0m \u001b[1;34m'\\n%s\\n%s\\n%s\\n'\u001b[0m \u001b[1;33m%\u001b[0m \u001b[1;33m(\u001b[0m\u001b[0msep\u001b[0m\u001b[1;33m,\u001b[0m \u001b[0mmsg\u001b[0m\u001b[1;33m,\u001b[0m \u001b[0msep\u001b[0m\u001b[1;33m)\u001b[0m\u001b[1;33m\u001b[0m\u001b[1;33m\u001b[0m\u001b[0m\n\u001b[1;32m--> 699\u001b[1;33m     \u001b[1;32mraise\u001b[0m \u001b[0mLookupError\u001b[0m\u001b[1;33m(\u001b[0m\u001b[0mresource_not_found\u001b[0m\u001b[1;33m)\u001b[0m\u001b[1;33m\u001b[0m\u001b[1;33m\u001b[0m\u001b[0m\n\u001b[0m\u001b[0;32m    700\u001b[0m \u001b[1;33m\u001b[0m\u001b[0m\n",
      "\u001b[1;31mLookupError\u001b[0m: \n**********************************************************************\n  Resource \u001b[93mpunkt\u001b[0m not found.\n  Please use the NLTK Downloader to obtain the resource:\n\n  \u001b[31m>>> import nltk\n  >>> nltk.download('punkt')\n  \u001b[0m\n  Attempted to load \u001b[93mtokenizers/punkt/english.pickle\u001b[0m\n\n  Searched in:\n    - 'C:\\\\Users\\\\db2admin/nltk_data'\n    - 'C:\\\\Users\\\\db2admin\\\\Anaconda3\\\\nltk_data'\n    - 'C:\\\\Users\\\\db2admin\\\\Anaconda3\\\\share\\\\nltk_data'\n    - 'C:\\\\Users\\\\db2admin\\\\Anaconda3\\\\lib\\\\nltk_data'\n    - 'C:\\\\Users\\\\db2admin\\\\AppData\\\\Roaming\\\\nltk_data'\n    - 'C:\\\\nltk_data'\n    - 'D:\\\\nltk_data'\n    - 'E:\\\\nltk_data'\n    - ''\n**********************************************************************\n",
      "\nDuring handling of the above exception, another exception occurred:\n",
      "\u001b[1;31mMissingCorpusError\u001b[0m                        Traceback (most recent call last)",
      "\u001b[1;32m<ipython-input-21-aecfe17c9d87>\u001b[0m in \u001b[0;36m<module>\u001b[1;34m\u001b[0m\n\u001b[0;32m      1\u001b[0m \u001b[1;32mfrom\u001b[0m \u001b[0mtextblob\u001b[0m \u001b[1;32mimport\u001b[0m \u001b[0mTextBlob\u001b[0m\u001b[1;33m\u001b[0m\u001b[1;33m\u001b[0m\u001b[0m\n\u001b[0;32m      2\u001b[0m \u001b[0ma\u001b[0m\u001b[1;33m=\u001b[0m\u001b[0mTextBlob\u001b[0m\u001b[1;33m(\u001b[0m\u001b[1;34m'i m helpful'\u001b[0m\u001b[1;33m)\u001b[0m\u001b[1;33m\u001b[0m\u001b[1;33m\u001b[0m\u001b[0m\n\u001b[1;32m----> 3\u001b[1;33m \u001b[1;32mfor\u001b[0m \u001b[0mwords\u001b[0m\u001b[1;33m,\u001b[0m\u001b[0mtags\u001b[0m \u001b[1;32min\u001b[0m \u001b[0ma\u001b[0m\u001b[1;33m.\u001b[0m\u001b[0mtags\u001b[0m\u001b[1;33m:\u001b[0m\u001b[1;33m\u001b[0m\u001b[1;33m\u001b[0m\u001b[0m\n\u001b[0m\u001b[0;32m      4\u001b[0m     \u001b[0mprint\u001b[0m\u001b[1;33m(\u001b[0m\u001b[1;34m'words,tags'\u001b[0m\u001b[1;33m)\u001b[0m\u001b[1;33m\u001b[0m\u001b[1;33m\u001b[0m\u001b[0m\n",
      "\u001b[1;32m~\\Anaconda3\\lib\\site-packages\\textblob\\decorators.py\u001b[0m in \u001b[0;36m__get__\u001b[1;34m(self, obj, cls)\u001b[0m\n\u001b[0;32m     22\u001b[0m         \u001b[1;32mif\u001b[0m \u001b[0mobj\u001b[0m \u001b[1;32mis\u001b[0m \u001b[1;32mNone\u001b[0m\u001b[1;33m:\u001b[0m\u001b[1;33m\u001b[0m\u001b[1;33m\u001b[0m\u001b[0m\n\u001b[0;32m     23\u001b[0m             \u001b[1;32mreturn\u001b[0m \u001b[0mself\u001b[0m\u001b[1;33m\u001b[0m\u001b[1;33m\u001b[0m\u001b[0m\n\u001b[1;32m---> 24\u001b[1;33m         \u001b[0mvalue\u001b[0m \u001b[1;33m=\u001b[0m \u001b[0mobj\u001b[0m\u001b[1;33m.\u001b[0m\u001b[0m__dict__\u001b[0m\u001b[1;33m[\u001b[0m\u001b[0mself\u001b[0m\u001b[1;33m.\u001b[0m\u001b[0mfunc\u001b[0m\u001b[1;33m.\u001b[0m\u001b[0m__name__\u001b[0m\u001b[1;33m]\u001b[0m \u001b[1;33m=\u001b[0m \u001b[0mself\u001b[0m\u001b[1;33m.\u001b[0m\u001b[0mfunc\u001b[0m\u001b[1;33m(\u001b[0m\u001b[0mobj\u001b[0m\u001b[1;33m)\u001b[0m\u001b[1;33m\u001b[0m\u001b[1;33m\u001b[0m\u001b[0m\n\u001b[0m\u001b[0;32m     25\u001b[0m         \u001b[1;32mreturn\u001b[0m \u001b[0mvalue\u001b[0m\u001b[1;33m\u001b[0m\u001b[1;33m\u001b[0m\u001b[0m\n\u001b[0;32m     26\u001b[0m \u001b[1;33m\u001b[0m\u001b[0m\n",
      "\u001b[1;32m~\\Anaconda3\\lib\\site-packages\\textblob\\blob.py\u001b[0m in \u001b[0;36mpos_tags\u001b[1;34m(self)\u001b[0m\n\u001b[0;32m    482\u001b[0m         \"\"\"\n\u001b[0;32m    483\u001b[0m         \u001b[1;32mif\u001b[0m \u001b[0misinstance\u001b[0m\u001b[1;33m(\u001b[0m\u001b[0mself\u001b[0m\u001b[1;33m,\u001b[0m \u001b[0mTextBlob\u001b[0m\u001b[1;33m)\u001b[0m\u001b[1;33m:\u001b[0m\u001b[1;33m\u001b[0m\u001b[1;33m\u001b[0m\u001b[0m\n\u001b[1;32m--> 484\u001b[1;33m             \u001b[1;32mreturn\u001b[0m \u001b[1;33m[\u001b[0m\u001b[0mval\u001b[0m \u001b[1;32mfor\u001b[0m \u001b[0msublist\u001b[0m \u001b[1;32min\u001b[0m \u001b[1;33m[\u001b[0m\u001b[0ms\u001b[0m\u001b[1;33m.\u001b[0m\u001b[0mpos_tags\u001b[0m \u001b[1;32mfor\u001b[0m \u001b[0ms\u001b[0m \u001b[1;32min\u001b[0m \u001b[0mself\u001b[0m\u001b[1;33m.\u001b[0m\u001b[0msentences\u001b[0m\u001b[1;33m]\u001b[0m \u001b[1;32mfor\u001b[0m \u001b[0mval\u001b[0m \u001b[1;32min\u001b[0m \u001b[0msublist\u001b[0m\u001b[1;33m]\u001b[0m\u001b[1;33m\u001b[0m\u001b[1;33m\u001b[0m\u001b[0m\n\u001b[0m\u001b[0;32m    485\u001b[0m         \u001b[1;32melse\u001b[0m\u001b[1;33m:\u001b[0m\u001b[1;33m\u001b[0m\u001b[1;33m\u001b[0m\u001b[0m\n\u001b[0;32m    486\u001b[0m             return [(Word(unicode(word), pos_tag=t), unicode(t))\n",
      "\u001b[1;32m~\\Anaconda3\\lib\\site-packages\\textblob\\decorators.py\u001b[0m in \u001b[0;36m__get__\u001b[1;34m(self, obj, cls)\u001b[0m\n\u001b[0;32m     22\u001b[0m         \u001b[1;32mif\u001b[0m \u001b[0mobj\u001b[0m \u001b[1;32mis\u001b[0m \u001b[1;32mNone\u001b[0m\u001b[1;33m:\u001b[0m\u001b[1;33m\u001b[0m\u001b[1;33m\u001b[0m\u001b[0m\n\u001b[0;32m     23\u001b[0m             \u001b[1;32mreturn\u001b[0m \u001b[0mself\u001b[0m\u001b[1;33m\u001b[0m\u001b[1;33m\u001b[0m\u001b[0m\n\u001b[1;32m---> 24\u001b[1;33m         \u001b[0mvalue\u001b[0m \u001b[1;33m=\u001b[0m \u001b[0mobj\u001b[0m\u001b[1;33m.\u001b[0m\u001b[0m__dict__\u001b[0m\u001b[1;33m[\u001b[0m\u001b[0mself\u001b[0m\u001b[1;33m.\u001b[0m\u001b[0mfunc\u001b[0m\u001b[1;33m.\u001b[0m\u001b[0m__name__\u001b[0m\u001b[1;33m]\u001b[0m \u001b[1;33m=\u001b[0m \u001b[0mself\u001b[0m\u001b[1;33m.\u001b[0m\u001b[0mfunc\u001b[0m\u001b[1;33m(\u001b[0m\u001b[0mobj\u001b[0m\u001b[1;33m)\u001b[0m\u001b[1;33m\u001b[0m\u001b[1;33m\u001b[0m\u001b[0m\n\u001b[0m\u001b[0;32m     25\u001b[0m         \u001b[1;32mreturn\u001b[0m \u001b[0mvalue\u001b[0m\u001b[1;33m\u001b[0m\u001b[1;33m\u001b[0m\u001b[0m\n\u001b[0;32m     26\u001b[0m \u001b[1;33m\u001b[0m\u001b[0m\n",
      "\u001b[1;32m~\\Anaconda3\\lib\\site-packages\\textblob\\blob.py\u001b[0m in \u001b[0;36msentences\u001b[1;34m(self)\u001b[0m\n\u001b[0;32m    637\u001b[0m     \u001b[1;32mdef\u001b[0m \u001b[0msentences\u001b[0m\u001b[1;33m(\u001b[0m\u001b[0mself\u001b[0m\u001b[1;33m)\u001b[0m\u001b[1;33m:\u001b[0m\u001b[1;33m\u001b[0m\u001b[1;33m\u001b[0m\u001b[0m\n\u001b[0;32m    638\u001b[0m         \u001b[1;34m\"\"\"Return list of :class:`Sentence <Sentence>` objects.\"\"\"\u001b[0m\u001b[1;33m\u001b[0m\u001b[1;33m\u001b[0m\u001b[0m\n\u001b[1;32m--> 639\u001b[1;33m         \u001b[1;32mreturn\u001b[0m \u001b[0mself\u001b[0m\u001b[1;33m.\u001b[0m\u001b[0m_create_sentence_objects\u001b[0m\u001b[1;33m(\u001b[0m\u001b[1;33m)\u001b[0m\u001b[1;33m\u001b[0m\u001b[1;33m\u001b[0m\u001b[0m\n\u001b[0m\u001b[0;32m    640\u001b[0m \u001b[1;33m\u001b[0m\u001b[0m\n\u001b[0;32m    641\u001b[0m     \u001b[1;33m@\u001b[0m\u001b[0mcached_property\u001b[0m\u001b[1;33m\u001b[0m\u001b[1;33m\u001b[0m\u001b[0m\n",
      "\u001b[1;32m~\\Anaconda3\\lib\\site-packages\\textblob\\blob.py\u001b[0m in \u001b[0;36m_create_sentence_objects\u001b[1;34m(self)\u001b[0m\n\u001b[0;32m    681\u001b[0m         '''\n\u001b[0;32m    682\u001b[0m         \u001b[0msentence_objects\u001b[0m \u001b[1;33m=\u001b[0m \u001b[1;33m[\u001b[0m\u001b[1;33m]\u001b[0m\u001b[1;33m\u001b[0m\u001b[1;33m\u001b[0m\u001b[0m\n\u001b[1;32m--> 683\u001b[1;33m         \u001b[0msentences\u001b[0m \u001b[1;33m=\u001b[0m \u001b[0msent_tokenize\u001b[0m\u001b[1;33m(\u001b[0m\u001b[0mself\u001b[0m\u001b[1;33m.\u001b[0m\u001b[0mraw\u001b[0m\u001b[1;33m)\u001b[0m\u001b[1;33m\u001b[0m\u001b[1;33m\u001b[0m\u001b[0m\n\u001b[0m\u001b[0;32m    684\u001b[0m         \u001b[0mchar_index\u001b[0m \u001b[1;33m=\u001b[0m \u001b[1;36m0\u001b[0m  \u001b[1;31m# Keeps track of character index within the blob\u001b[0m\u001b[1;33m\u001b[0m\u001b[1;33m\u001b[0m\u001b[0m\n\u001b[0;32m    685\u001b[0m         \u001b[1;32mfor\u001b[0m \u001b[0msent\u001b[0m \u001b[1;32min\u001b[0m \u001b[0msentences\u001b[0m\u001b[1;33m:\u001b[0m\u001b[1;33m\u001b[0m\u001b[1;33m\u001b[0m\u001b[0m\n",
      "\u001b[1;32m~\\Anaconda3\\lib\\site-packages\\textblob\\base.py\u001b[0m in \u001b[0;36mitokenize\u001b[1;34m(self, text, *args, **kwargs)\u001b[0m\n\u001b[0;32m     62\u001b[0m         \u001b[1;33m:\u001b[0m\u001b[0mrtype\u001b[0m\u001b[1;33m:\u001b[0m \u001b[0mgenerator\u001b[0m\u001b[1;33m\u001b[0m\u001b[1;33m\u001b[0m\u001b[0m\n\u001b[0;32m     63\u001b[0m         \"\"\"\n\u001b[1;32m---> 64\u001b[1;33m         \u001b[1;32mreturn\u001b[0m \u001b[1;33m(\u001b[0m\u001b[0mt\u001b[0m \u001b[1;32mfor\u001b[0m \u001b[0mt\u001b[0m \u001b[1;32min\u001b[0m \u001b[0mself\u001b[0m\u001b[1;33m.\u001b[0m\u001b[0mtokenize\u001b[0m\u001b[1;33m(\u001b[0m\u001b[0mtext\u001b[0m\u001b[1;33m,\u001b[0m \u001b[1;33m*\u001b[0m\u001b[0margs\u001b[0m\u001b[1;33m,\u001b[0m \u001b[1;33m**\u001b[0m\u001b[0mkwargs\u001b[0m\u001b[1;33m)\u001b[0m\u001b[1;33m)\u001b[0m\u001b[1;33m\u001b[0m\u001b[1;33m\u001b[0m\u001b[0m\n\u001b[0m\u001b[0;32m     65\u001b[0m \u001b[1;33m\u001b[0m\u001b[0m\n\u001b[0;32m     66\u001b[0m \u001b[1;31m##### SENTIMENT ANALYZERS ####\u001b[0m\u001b[1;33m\u001b[0m\u001b[1;33m\u001b[0m\u001b[1;33m\u001b[0m\u001b[0m\n",
      "\u001b[1;32m~\\Anaconda3\\lib\\site-packages\\textblob\\decorators.py\u001b[0m in \u001b[0;36mdecorated\u001b[1;34m(*args, **kwargs)\u001b[0m\n\u001b[0;32m     36\u001b[0m         \u001b[1;32mexcept\u001b[0m \u001b[0mLookupError\u001b[0m \u001b[1;32mas\u001b[0m \u001b[0merr\u001b[0m\u001b[1;33m:\u001b[0m\u001b[1;33m\u001b[0m\u001b[1;33m\u001b[0m\u001b[0m\n\u001b[0;32m     37\u001b[0m             \u001b[0mprint\u001b[0m\u001b[1;33m(\u001b[0m\u001b[0merr\u001b[0m\u001b[1;33m)\u001b[0m\u001b[1;33m\u001b[0m\u001b[1;33m\u001b[0m\u001b[0m\n\u001b[1;32m---> 38\u001b[1;33m             \u001b[1;32mraise\u001b[0m \u001b[0mMissingCorpusError\u001b[0m\u001b[1;33m(\u001b[0m\u001b[1;33m)\u001b[0m\u001b[1;33m\u001b[0m\u001b[1;33m\u001b[0m\u001b[0m\n\u001b[0m\u001b[0;32m     39\u001b[0m     \u001b[1;32mreturn\u001b[0m \u001b[0mdecorated\u001b[0m\u001b[1;33m\u001b[0m\u001b[1;33m\u001b[0m\u001b[0m\n",
      "\u001b[1;31mMissingCorpusError\u001b[0m: \nLooks like you are missing some required data for this feature.\n\nTo download the necessary data, simply run\n\n    python -m textblob.download_corpora\n\nor use the NLTK downloader to download the missing data: http://nltk.org/data.html\nIf this doesn't fix the problem, file an issue at https://github.com/sloria/TextBlob/issues.\n"
     ]
    }
   ],
   "source": [
    "from textblob import TextBlob\n",
    "a=TextBlob('i m helpful')\n",
    "for words,tags in a.tags:\n",
    "    print('words,tags')"
   ]
  },
  {
   "cell_type": "code",
   "execution_count": 22,
   "metadata": {},
   "outputs": [],
   "source": [
    "import pandas"
   ]
  },
  {
   "cell_type": "code",
   "execution_count": 23,
   "metadata": {},
   "outputs": [],
   "source": [
    "import pandas as pd"
   ]
  },
  {
   "cell_type": "code",
   "execution_count": 33,
   "metadata": {},
   "outputs": [
    {
     "data": {
      "text/html": [
       "<div>\n",
       "<style scoped>\n",
       "    .dataframe tbody tr th:only-of-type {\n",
       "        vertical-align: middle;\n",
       "    }\n",
       "\n",
       "    .dataframe tbody tr th {\n",
       "        vertical-align: top;\n",
       "    }\n",
       "\n",
       "    .dataframe thead th {\n",
       "        text-align: right;\n",
       "    }\n",
       "</style>\n",
       "<table border=\"1\" class=\"dataframe\">\n",
       "  <thead>\n",
       "    <tr style=\"text-align: right;\">\n",
       "      <th></th>\n",
       "      <th>0</th>\n",
       "    </tr>\n",
       "  </thead>\n",
       "  <tbody>\n",
       "    <tr>\n",
       "      <th>0</th>\n",
       "      <td>1</td>\n",
       "    </tr>\n",
       "    <tr>\n",
       "      <th>1</th>\n",
       "      <td>2</td>\n",
       "    </tr>\n",
       "    <tr>\n",
       "      <th>2</th>\n",
       "      <td>3</td>\n",
       "    </tr>\n",
       "    <tr>\n",
       "      <th>3</th>\n",
       "      <td>4</td>\n",
       "    </tr>\n",
       "    <tr>\n",
       "      <th>4</th>\n",
       "      <td>5</td>\n",
       "    </tr>\n",
       "  </tbody>\n",
       "</table>\n",
       "</div>"
      ],
      "text/plain": [
       "   0\n",
       "0  1\n",
       "1  2\n",
       "2  3\n",
       "3  4\n",
       "4  5"
      ]
     },
     "execution_count": 33,
     "metadata": {},
     "output_type": "execute_result"
    }
   ],
   "source": [
    "l=[1,2,3,4,5]\n",
    "a=pd.DataFrame(l)\n",
    "a"
   ]
  },
  {
   "cell_type": "code",
   "execution_count": 39,
   "metadata": {},
   "outputs": [
    {
     "data": {
      "text/html": [
       "<div>\n",
       "<style scoped>\n",
       "    .dataframe tbody tr th:only-of-type {\n",
       "        vertical-align: middle;\n",
       "    }\n",
       "\n",
       "    .dataframe tbody tr th {\n",
       "        vertical-align: top;\n",
       "    }\n",
       "\n",
       "    .dataframe thead th {\n",
       "        text-align: right;\n",
       "    }\n",
       "</style>\n",
       "<table border=\"1\" class=\"dataframe\">\n",
       "  <thead>\n",
       "    <tr style=\"text-align: right;\">\n",
       "      <th></th>\n",
       "      <th>name</th>\n",
       "      <th>address</th>\n",
       "      <th>college</th>\n",
       "    </tr>\n",
       "  </thead>\n",
       "  <tbody>\n",
       "    <tr>\n",
       "      <th>0</th>\n",
       "      <td>1</td>\n",
       "      <td>4</td>\n",
       "      <td>7</td>\n",
       "    </tr>\n",
       "    <tr>\n",
       "      <th>1</th>\n",
       "      <td>2</td>\n",
       "      <td>5</td>\n",
       "      <td>8</td>\n",
       "    </tr>\n",
       "    <tr>\n",
       "      <th>2</th>\n",
       "      <td>3</td>\n",
       "      <td>6</td>\n",
       "      <td>9</td>\n",
       "    </tr>\n",
       "  </tbody>\n",
       "</table>\n",
       "</div>"
      ],
      "text/plain": [
       "   name  address  college\n",
       "0     1        4        7\n",
       "1     2        5        8\n",
       "2     3        6        9"
      ]
     },
     "execution_count": 39,
     "metadata": {},
     "output_type": "execute_result"
    }
   ],
   "source": [
    "a={\n",
    "   'name':[1,2,3],\n",
    "   'address':[4,5,6],\n",
    "   'college':[7,8,9]\n",
    "}\n",
    "b=pd.DataFrame(a)\n",
    "b"
   ]
  },
  {
   "cell_type": "code",
   "execution_count": 55,
   "metadata": {},
   "outputs": [
    {
     "name": "stdout",
     "output_type": "stream",
     "text": [
      "   name  address\n",
      "0     1        4\n",
      "1     2        5\n",
      "2     3        6\n"
     ]
    }
   ],
   "source": [
    "a={\n",
    "   'name':[1,2,3],\n",
    "   'address':[4,5,6],\n",
    "   'college':[7,8,9]\n",
    "}\n",
    "b=pd.DataFrame(a)\n",
    "print(b[['name','address']])"
   ]
  },
  {
   "cell_type": "code",
   "execution_count": 56,
   "metadata": {},
   "outputs": [
    {
     "name": "stdout",
     "output_type": "stream",
     "text": [
      "  Start Date   Start Time  End Date    End Time                  Event Title   \\\n",
      "0    9/5/2011  3:00:00 PM  9/5/2011         NaN  Social Studies Dept. Meeting   \n",
      "1    9/5/2011  6:00:00 PM  9/5/2011  8:00:00 PM            Curriculum Meeting   \n",
      "\n",
      "  All Day Event No End Time   Event Description         Contact   \\\n",
      "0             N           Y  Department meeting  Chris Gallagher   \n",
      "1             N           N  Curriculum Meeting  Chris Gallagher   \n",
      "\n",
      "                Contact Email Contact Phone     Location  Category Mandatory  \\\n",
      "0  cgallagher@schoolwires.com  814-555-5179  High School         2         N   \n",
      "1  cgallagher@schoolwires.com  814-555-5179  High School         2         N   \n",
      "\n",
      "  Registration  Maximum Last Date To Register  \n",
      "0            N       25              9/2/2011  \n",
      "1            N       25              9/2/2011  \n"
     ]
    }
   ],
   "source": [
    "a=pd.read_csv('C2ImportCalEventSample (2).csv')\n",
    "print(a)"
   ]
  },
  {
   "cell_type": "code",
   "execution_count": 60,
   "metadata": {},
   "outputs": [
    {
     "data": {
      "text/html": [
       "<div>\n",
       "<style scoped>\n",
       "    .dataframe tbody tr th:only-of-type {\n",
       "        vertical-align: middle;\n",
       "    }\n",
       "\n",
       "    .dataframe tbody tr th {\n",
       "        vertical-align: top;\n",
       "    }\n",
       "\n",
       "    .dataframe thead th {\n",
       "        text-align: right;\n",
       "    }\n",
       "</style>\n",
       "<table border=\"1\" class=\"dataframe\">\n",
       "  <thead>\n",
       "    <tr style=\"text-align: right;\">\n",
       "      <th></th>\n",
       "      <th>Start Date</th>\n",
       "      <th>Start Time</th>\n",
       "      <th>End Date</th>\n",
       "      <th>End Time</th>\n",
       "      <th>Event Title</th>\n",
       "      <th>All Day Event</th>\n",
       "      <th>No End Time</th>\n",
       "      <th>Event Description</th>\n",
       "      <th>Contact</th>\n",
       "      <th>Contact Email</th>\n",
       "      <th>Contact Phone</th>\n",
       "      <th>Location</th>\n",
       "      <th>Category</th>\n",
       "      <th>Mandatory</th>\n",
       "      <th>Registration</th>\n",
       "      <th>Maximum</th>\n",
       "      <th>Last Date To Register</th>\n",
       "    </tr>\n",
       "  </thead>\n",
       "  <tbody>\n",
       "    <tr>\n",
       "      <th>start date</th>\n",
       "      <td>NaN</td>\n",
       "      <td>NaN</td>\n",
       "      <td>NaN</td>\n",
       "      <td>NaN</td>\n",
       "      <td>NaN</td>\n",
       "      <td>NaN</td>\n",
       "      <td>NaN</td>\n",
       "      <td>NaN</td>\n",
       "      <td>NaN</td>\n",
       "      <td>NaN</td>\n",
       "      <td>NaN</td>\n",
       "      <td>NaN</td>\n",
       "      <td>NaN</td>\n",
       "      <td>NaN</td>\n",
       "      <td>NaN</td>\n",
       "      <td>NaN</td>\n",
       "      <td>NaN</td>\n",
       "    </tr>\n",
       "  </tbody>\n",
       "</table>\n",
       "</div>"
      ],
      "text/plain": [
       "           Start Date  Start Time End Date End Time Event Title   \\\n",
       "start date         NaN        NaN      NaN      NaN          NaN   \n",
       "\n",
       "           All Day Event No End Time Event Description Contact  Contact Email  \\\n",
       "start date           NaN         NaN               NaN      NaN           NaN   \n",
       "\n",
       "           Contact Phone Location  Category Mandatory Registration  Maximum  \\\n",
       "start date           NaN      NaN       NaN       NaN          NaN      NaN   \n",
       "\n",
       "           Last Date To Register  \n",
       "start date                   NaN  "
      ]
     },
     "execution_count": 60,
     "metadata": {},
     "output_type": "execute_result"
    }
   ],
   "source": [
    "a=pd.read_csv('C2ImportCalEventSample (2).csv')\n",
    "b=pd.DataFrame(a,['start date'])\n",
    "b"
   ]
  },
  {
   "cell_type": "code",
   "execution_count": 75,
   "metadata": {},
   "outputs": [
    {
     "data": {
      "text/plain": [
       "Start Date                                   9/5/2011\n",
       "End Date                                     9/5/2011\n",
       "End Time                                          NaN\n",
       "Event Title              Social Studies Dept. Meeting\n",
       "All Day Event                                       N\n",
       "No End Time                                         Y\n",
       "Event Description                  Department meeting\n",
       "Contact                               Chris Gallagher\n",
       "Contact Email              cgallagher@schoolwires.com\n",
       "Contact Phone                            814-555-5179\n",
       "Location                                  High School\n",
       "Category                                            2\n",
       "Mandatory                                           N\n",
       "Registration                                        N\n",
       "Maximum                                            25\n",
       "Last Date To Register                        9/2/2011\n",
       "Name: 3:00:00 PM, dtype: object"
      ]
     },
     "execution_count": 75,
     "metadata": {},
     "output_type": "execute_result"
    }
   ],
   "source": [
    "a=pd.read_csv('C2ImportCalEventSample (2).csv',index_col='Start Time')\n",
    "b=a.loc['3:00:00 PM']\n",
    "b"
   ]
  },
  {
   "cell_type": "code",
   "execution_count": 78,
   "metadata": {},
   "outputs": [
    {
     "data": {
      "text/plain": [
       "Start Date                                   9/5/2011\n",
       "End Date                                     9/5/2011\n",
       "End Time                                          NaN\n",
       "Event Title              Social Studies Dept. Meeting\n",
       "All Day Event                                       N\n",
       "No End Time                                         Y\n",
       "Event Description                  Department meeting\n",
       "Contact                               Chris Gallagher\n",
       "Contact Email              cgallagher@schoolwires.com\n",
       "Contact Phone                            814-555-5179\n",
       "Location                                  High School\n",
       "Category                                            2\n",
       "Mandatory                                           N\n",
       "Registration                                        N\n",
       "Maximum                                            25\n",
       "Last Date To Register                        9/2/2011\n",
       "Name: 3:00:00 PM, dtype: object"
      ]
     },
     "execution_count": 78,
     "metadata": {},
     "output_type": "execute_result"
    }
   ],
   "source": [
    "a=pd.read_csv('C2ImportCalEventSample (2).csv',index_col='Start Time')\n",
    "b=a.iloc[0]\n",
    "b"
   ]
  },
  {
   "cell_type": "code",
   "execution_count": 1,
   "metadata": {},
   "outputs": [],
   "source": [
    " import numpy as np"
   ]
  },
  {
   "cell_type": "code",
   "execution_count": 29,
   "metadata": {},
   "outputs": [
    {
     "name": "stdout",
     "output_type": "stream",
     "text": [
      "[[1 2 3 4]\n",
      " [5 6 7 8]]\n"
     ]
    }
   ],
   "source": [
    "x=np.array([[1,2,3,4],[5,6,7,8]])\n",
    "print(x)"
   ]
  },
  {
   "cell_type": "code",
   "execution_count": 30,
   "metadata": {},
   "outputs": [
    {
     "name": "stdout",
     "output_type": "stream",
     "text": [
      "[[ 1  2  3]\n",
      " [ 5  6  7]\n",
      " [ 8  9 10]]\n"
     ]
    }
   ],
   "source": [
    "y=np.array([[1,2,3],[5,6,7],[8,9,10]])\n",
    "print(y)"
   ]
  },
  {
   "cell_type": "code",
   "execution_count": 31,
   "metadata": {},
   "outputs": [
    {
     "name": "stdout",
     "output_type": "stream",
     "text": [
      "[[11 12 13]\n",
      " [15 16 17]\n",
      " [18 19 20]]\n"
     ]
    }
   ],
   "source": [
    "z=np.array([[11,12,13],[15,16,17],[18,19,20]])\n",
    "print(z)"
   ]
  },
  {
   "cell_type": "code",
   "execution_count": 32,
   "metadata": {},
   "outputs": [
    {
     "name": "stdout",
     "output_type": "stream",
     "text": [
      "[[21 22 23]\n",
      " [25 26 27]]\n"
     ]
    }
   ],
   "source": [
    "w=np.array([[21,22,23],[25,26,27]])\n",
    "print(w)"
   ]
  },
  {
   "cell_type": "code",
   "execution_count": 33,
   "metadata": {},
   "outputs": [
    {
     "name": "stdout",
     "output_type": "stream",
     "text": [
      "[[12 14 16]\n",
      " [20 22 24]\n",
      " [26 28 30]]\n"
     ]
    }
   ],
   "source": [
    "f=np.add(y,z)\n",
    "print(f)"
   ]
  },
  {
   "cell_type": "code",
   "execution_count": 35,
   "metadata": {},
   "outputs": [
    {
     "name": "stdout",
     "output_type": "stream",
     "text": [
      "[[-10 -10 -10]\n",
      " [-10 -10 -10]\n",
      " [-10 -10 -10]]\n"
     ]
    }
   ],
   "source": [
    "g=np.subtract(y,z)\n",
    "print(g)"
   ]
  },
  {
   "cell_type": "raw",
   "metadata": {},
   "source": []
  },
  {
   "cell_type": "code",
   "execution_count": 39,
   "metadata": {},
   "outputs": [
    {
     "data": {
      "text/plain": [
       "dtype('int32')"
      ]
     },
     "execution_count": 39,
     "metadata": {},
     "output_type": "execute_result"
    }
   ],
   "source": [
    "x.dtype"
   ]
  },
  {
   "cell_type": "code",
   "execution_count": 40,
   "metadata": {},
   "outputs": [
    {
     "data": {
      "text/plain": [
       "dtype('int32')"
      ]
     },
     "execution_count": 40,
     "metadata": {},
     "output_type": "execute_result"
    }
   ],
   "source": [
    "y.dtype"
   ]
  },
  {
   "cell_type": "code",
   "execution_count": 42,
   "metadata": {},
   "outputs": [
    {
     "data": {
      "text/plain": [
       "51"
      ]
     },
     "execution_count": 42,
     "metadata": {},
     "output_type": "execute_result"
    }
   ],
   "source": [
    "y.sum()"
   ]
  },
  {
   "cell_type": "code",
   "execution_count": 43,
   "metadata": {},
   "outputs": [
    {
     "data": {
      "text/plain": [
       "array([[1.        , 1.41421356, 1.73205081],\n",
       "       [2.23606798, 2.44948974, 2.64575131],\n",
       "       [2.82842712, 3.        , 3.16227766]])"
      ]
     },
     "execution_count": 43,
     "metadata": {},
     "output_type": "execute_result"
    }
   ],
   "source": [
    "np.sqrt(y)"
   ]
  },
  {
   "cell_type": "code",
   "execution_count": 44,
   "metadata": {},
   "outputs": [
    {
     "data": {
      "text/plain": [
       "dtype('float64')"
      ]
     },
     "execution_count": 44,
     "metadata": {},
     "output_type": "execute_result"
    }
   ],
   "source": [
    "f=np.sqrt(y)\n",
    "f.dtype"
   ]
  },
  {
   "cell_type": "code",
   "execution_count": 45,
   "metadata": {},
   "outputs": [
    {
     "name": "stdout",
     "output_type": "stream",
     "text": [
      "[[11 15 18]\n",
      " [12 16 19]\n",
      " [13 17 20]]\n"
     ]
    }
   ],
   "source": [
    "l=np.transpose(z)\n",
    "print(l)"
   ]
  },
  {
   "cell_type": "code",
   "execution_count": 47,
   "metadata": {},
   "outputs": [],
   "source": [
    " import matplotlib.pyplot as mp"
   ]
  },
  {
   "cell_type": "code",
   "execution_count": 48,
   "metadata": {},
   "outputs": [
    {
     "data": {
      "text/plain": [
       "[<matplotlib.lines.Line2D at 0x199e79892e8>]"
      ]
     },
     "execution_count": 48,
     "metadata": {},
     "output_type": "execute_result"
    },
    {
     "data": {
      "image/png": "[encoded data removed]",
      "text/plain": [
       "<Figure size 432x288 with 1 Axes>"
      ]
     },
     "metadata": {
      "needs_background": "light"
     },
     "output_type": "display_data"
    }
   ],
   "source": [
    "a=[1,2,3,4]\n",
    "b=[5,6,7,8]\n",
    "mp.plot(a,b)"
   ]
  },
  {
   "cell_type": "code",
   "execution_count": 50,
   "metadata": {},
   "outputs": [
    {
     "data": {
      "text/plain": [
       "[<matplotlib.lines.Line2D at 0x199e81908d0>,\n",
       " <matplotlib.lines.Line2D at 0x199e8190a20>]"
      ]
     },
     "execution_count": 50,
     "metadata": {},
     "output_type": "execute_result"
    },
    {
     "data": {
      "image/png": "[encoded data removed]",
      "text/plain": [
       "<Figure size 432x288 with 1 Axes>"
      ]
     },
     "metadata": {
      "needs_background": "light"
     },
     "output_type": "display_data"
    }
   ],
   "source": [
    "a=[1,2,3,4]\n",
    "b=[5,6,7,8]\n",
    "c=[13,15,16,19]\n",
    "mp.plot(a,b,c)"
   ]
  },
  {
   "cell_type": "code",
   "execution_count": 51,
   "metadata": {},
   "outputs": [
    {
     "data": {
      "text/plain": [
       "[<matplotlib.lines.Line2D at 0x199e81f9f98>,\n",
       " <matplotlib.lines.Line2D at 0x199e8204128>]"
      ]
     },
     "execution_count": 51,
     "metadata": {},
     "output_type": "execute_result"
    },
    {
     "data": {
      "image/png": "[encoded data removed]",
      "text/plain": [
       "<Figure size 432x288 with 1 Axes>"
      ]
     },
     "metadata": {
      "needs_background": "light"
     },
     "output_type": "display_data"
    }
   ],
   "source": [
    "a=[78,2,3,4]\n",
    "b=[5,6,76,8]\n",
    "c=[13,99,16,19]\n",
    "mp.plot(a,b,c)\n"
   ]
  },
  {
   "cell_type": "code",
   "execution_count": 53,
   "metadata": {},
   "outputs": [
    {
     "data": {
      "text/plain": [
       "<function matplotlib.pyplot.show(*args, **kw)>"
      ]
     },
     "execution_count": 53,
     "metadata": {},
     "output_type": "execute_result"
    },
    {
     "data": {
      "image/png": "[encoded data removed]",
      "text/plain": [
       "<Figure size 432x288 with 1 Axes>"
      ]
     },
     "metadata": {
      "needs_background": "light"
     },
     "output_type": "display_data"
    }
   ],
   "source": [
    "mp.xlabel('distance')\n",
    "mp.show"
   ]
  },
  {
   "cell_type": "code",
   "execution_count": 56,
   "metadata": {},
   "outputs": [
    {
     "data": {
      "image/png": "[encoded data removed]",
      "text/plain": [
       "<Figure size 432x288 with 1 Axes>"
      ]
     },
     "metadata": {
      "needs_background": "light"
     },
     "output_type": "display_data"
    }
   ],
   "source": [
    "a=[78,2,3,4]\n",
    "b=[5,6,76,8]\n",
    "c=[13,99,16,19]\n",
    "mp.plot(a,b,c)\n",
    "mp.xlabel('distance')\n",
    "mp.ylabel('time')\n",
    "mp.show()"
   ]
  },
  {
   "cell_type": "code",
   "execution_count": 70,
   "metadata": {},
   "outputs": [
    {
     "data": {
      "image/png": "[encoded data removed]",
      "text/plain": [
       "<Figure size 432x288 with 1 Axes>"
      ]
     },
     "metadata": {
      "needs_background": "light"
     },
     "output_type": "display_data"
    }
   ],
   "source": [
    "a=[78,2,3,4]\n",
    "b=[5,6,76,8]\n",
    "c=[13,99,16,19]\n",
    "mp.plot(a,b,c)\n",
    "mp.xlabel('distance')\n",
    "mp.ylabel('time')\n",
    "mp.title('graph')\n",
    "mp.legend(a)\n",
    "mp.show()"
   ]
  },
  {
   "cell_type": "code",
   "execution_count": 79,
   "metadata": {},
   "outputs": [
    {
     "data": {
      "image/png": "[encoded data removed]",
      "text/plain": [
       "<Figure size 432x288 with 1 Axes>"
      ]
     },
     "metadata": {
      "needs_background": "light"
     },
     "output_type": "display_data"
    }
   ],
   "source": [
    "a=[78,2,3,4]\n",
    "b=[5,6,76,8]\n",
    "c=[13,99,16,19]\n",
    "mp.plot(a,linestyle=':')\n",
    "mp.plot(b)\n",
    "mp.xlabel('distance')\n",
    "mp.ylabel('time')\n",
    "mp.title('graph')\n",
    "mp.legend(a)\n",
    "mp.show()"
   ]
  },
  {
   "cell_type": "code",
   "execution_count": 102,
   "metadata": {},
   "outputs": [
    {
     "data": {
      "image/png": "[encoded data removed]",
      "text/plain": [
       "<Figure size 432x288 with 1 Axes>"
      ]
     },
     "metadata": {
      "needs_background": "light"
     },
     "output_type": "display_data"
    }
   ],
   "source": [
    "a=[78,2,3,4]\n",
    "b=[5,6,76,8]\n",
    "mp.plot(a,b,label='distance',linestyle=':')\n",
    "i=[5,6,88,7]\n",
    "j=[3,45,7,2]\n",
    "mp.plot(i,j,label='time')\n",
    "mp.title('graph')\n",
    "mp.legend(a)\n",
    "mp.show()"
   ]
  },
  {
   "cell_type": "code",
   "execution_count": 87,
   "metadata": {},
   "outputs": [
    {
     "data": {
      "image/png": "[encoded data removed]",
      "text/plain": [
       "<Figure size 432x288 with 1 Axes>"
      ]
     },
     "metadata": {
      "needs_background": "light"
     },
     "output_type": "display_data"
    }
   ],
   "source": [
    "e=[6,4,5]\n",
    "f=[9,8,3]\n",
    "mp.bar(e,f,label='velocity',color='blue')\n",
    "mp.title('graph')\n",
    "mp.legend()\n",
    "mp.show()"
   ]
  },
  {
   "cell_type": "code",
   "execution_count": 92,
   "metadata": {},
   "outputs": [
    {
     "data": {
      "image/png": "[encoded data removed]",
      "text/plain": [
       "<Figure size 432x288 with 1 Axes>"
      ]
     },
     "metadata": {
      "needs_background": "light"
     },
     "output_type": "display_data"
    }
   ],
   "source": [
    "e=[6,4,5]\n",
    "f=[9,8,3]\n",
    "mp.bar(e,f,label='velocity',color='blue')\n",
    "mp.xlim(1,10)\n",
    "mp.ylim(1,10)\n",
    "mp.title('graph')\n",
    "mp.legend()\n",
    "mp.show()"
   ]
  },
  {
   "cell_type": "code",
   "execution_count": 101,
   "metadata": {},
   "outputs": [
    {
     "data": {
      "image/png": "[encoded data removed]",
      "text/plain": [
       "<Figure size 432x288 with 1 Axes>"
      ]
     },
     "metadata": {
      "needs_background": "light"
     },
     "output_type": "display_data"
    }
   ],
   "source": [
    "e=[6,4,5]\n",
    "f=[9,8,3]\n",
    "mp.bar(e,f,label='velocity',color=['blue','orange'])\n",
    "k=[1,2,3]\n",
    "l=[9,8,7]\n",
    "mp.bar(k,l,label='distance',color=['red','purple'])\n",
    "mp.xlim(1,10)\n",
    "mp.ylim(1,10)\n",
    "mp.title('graph')\n",
    "mp.legend()\n",
    "mp.show()"
   ]
  },
  {
   "cell_type": "code",
   "execution_count": 103,
   "metadata": {},
   "outputs": [],
   "source": [
    "import matplotlib.pyplot as mp"
   ]
  },
  {
   "cell_type": "code",
   "execution_count": 105,
   "metadata": {},
   "outputs": [
    {
     "data": {
      "image/png": "[encoded data removed]",
      "text/plain": [
       "<Figure size 432x288 with 1 Axes>"
      ]
     },
     "metadata": {
      "needs_background": "light"
     },
     "output_type": "display_data"
    }
   ],
   "source": [
    "l=[1,2,3,4]\n",
    "m=[5,6,7,8]\n",
    "mp.scatter(l,m)\n",
    "mp.show()"
   ]
  },
  {
   "cell_type": "code",
   "execution_count": 119,
   "metadata": {},
   "outputs": [
    {
     "data": {
      "image/png": "[encoded data removed]",
      "text/plain": [
       "<Figure size 432x288 with 1 Axes>"
      ]
     },
     "metadata": {},
     "output_type": "display_data"
    }
   ],
   "source": [
    "g=[6,7,8,9]\n",
    "h=['an','ru','ch','la']\n",
    "mp.pie(g,labels=h)\n",
    "mp.legend()\n",
    "mp.show()"
   ]
  },
  {
   "cell_type": "code",
   "execution_count": 120,
   "metadata": {},
   "outputs": [
    {
     "data": {
      "image/png": "[encoded data removed]",
      "text/plain": [
       "<Figure size 432x288 with 1 Axes>"
      ]
     },
     "metadata": {},
     "output_type": "display_data"
    }
   ],
   "source": [
    "g=[6,7,8,9]\n",
    "h=['an','ru','ch','la']\n",
    "mp.pie(g,labels=h)\n",
    "mp.show()"
   ]
  },
  {
   "cell_type": "code",
   "execution_count": 127,
   "metadata": {},
   "outputs": [
    {
     "data": {
      "image/png": "[encoded data removed]",
      "text/plain": [
       "<Figure size 432x288 with 1 Axes>"
      ]
     },
     "metadata": {},
     "output_type": "display_data"
    }
   ],
   "source": [
    "g=[6,7,8,9]\n",
    "h=['an','ru','ch','la']\n",
    "mp.pie(g,labels=h,colors=['yellow','red','blue','purple'],shadow='true')\n",
    "mp.legend()\n",
    "mp.show()"
   ]
  },
  {
   "cell_type": "code",
   "execution_count": 132,
   "metadata": {},
   "outputs": [
    {
     "data": {
      "image/png": "[encoded data removed]",
      "text/plain": [
       "<Figure size 432x288 with 1 Axes>"
      ]
     },
     "metadata": {},
     "output_type": "display_data"
    }
   ],
   "source": [
    "g=[6,7,8,9]\n",
    "h=['an','ru','ch','la']\n",
    "mp.pie(g,labels=h,colors=['yellow','red','blue','purple'],shadow='true',radius=2)\n",
    "mp.legend()\n",
    "mp.show()"
   ]
  },
  {
   "cell_type": "code",
   "execution_count": null,
   "metadata": {},
   "outputs": [],
   "source": []
  }
 ],
 "metadata": {
  "kernelspec": {
   "display_name": "Python 3",
   "language": "python",
   "name": "python3"
  },
  "language_info": {
   "codemirror_mode": {
    "name": "ipython",
    "version": 3
   },
   "file_extension": ".py",
   "mimetype": "text/x-python",
   "name": "python",
   "nbconvert_exporter": "python",
   "pygments_lexer": "ipython3",
   "version": "3.7.3"
  }
 },
 "nbformat": 4,
 "nbformat_minor": 2
}
